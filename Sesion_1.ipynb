{
 "cells": [
  {
   "cell_type": "markdown",
   "metadata": {
    "_uuid": "1752ce061957fd1ce93d2e4db9494b7b29da7935",
    "id": "4skdndoa-7GI"
   },
   "source": [
    "<center>\n",
    "<img src=\"https://habrastorage.org/webt/jq/gc/r5/jqgcr5azmatev6zvgufn8xftehy.png\">\n",
    "    \n",
    "##  II Escuela de Verano en Física Computacional\n",
    "\n",
    "Autores: [Neisser Pino R.](https://scholar.google.com.pe/citations?user=pAB28NEAAAAJ&hl=es), [Ricardo Quispe M.](https://github.com/RcrdPhysics).\\\n",
    "Institución: Universidad Nacional Mayor de San Marcos\\\n",
    "Correo: ricardo.quispe5@unmsm.edu.pe\n",
    "    \n",
    "Este material está sujeto a los términos y condiciones de la licencia [Creative Commons CC BY-NC-SA 4.0](https://creativecommons.org/licenses/by-nc-sa/4.0/). Se permite el uso gratuito para cualquier propósito no comercial.\n",
    "\n",
    "*También puede consultar la última versión de este notebook en nuestro [repositorio](https://github.com/PCPUNMSM) y los videos de clase [en nuestro canal de Youtube](https://www.youtube.com/channel/UCze8vzQLcplutz0nWDNjFCA).*\n",
    "    "
   ]
  },
  {
   "cell_type": "markdown",
   "metadata": {
    "_uuid": "9b690f2c8129ad9445c544337375b93246c26668",
    "id": "Vm9O4SUd-7GJ"
   },
   "source": [
    "# <center> Sesión 1. Funciones, series y gráficos\n",
    "\n",
    "<img align=\"center\" src=\"https://school.eckovation.com/wp-content/uploads/2017/07/trigonometry_functions_wallpaper_by_integral_love-dact22q.jpg\"  width=65% />\n",
    "\n",
    "## Outline\n",
    "1. [Funciones](#1.-Funciones)\n",
    "2. [Series](#2.-Series)\n",
    "3. [Gráficos](#3-Gráficos)\n",
    "4. [Errores](#4.-Errores)    "
   ]
  },
  {
   "cell_type": "markdown",
   "metadata": {
    "id": "XS4Ufo9g-7GK"
   },
   "source": [
    "## 1. Funciones"
   ]
  },
  {
   "cell_type": "markdown",
   "metadata": {
    "id": "doLcsGvk-7GK"
   },
   "source": [
    "En el contexto de la programación, una función es una secuencia de declaraciones que realizan determinadas operaciones."
   ]
  },
  {
   "cell_type": "markdown",
   "metadata": {
    "id": "QOXcXyoJ-7GK"
   },
   "source": [
    "Syntax de una función:\n",
    "\n",
    "\n",
    ">     def mi_función(x1,x2,...,xn):  \n",
    "          operacion_1= x1+x4+x3*x2\n",
    "          operacion_2= x1+x4+x3*x2\n",
    "          operación_3= x1**2+x2+x3*x4\n",
    "       return(lo que quiero extraer)\n",
    "\n"
   ]
  },
  {
   "cell_type": "markdown",
   "metadata": {
    "id": "5lM81OmG-7GK"
   },
   "source": [
    "Una vez definida la función puedes llamarla, por ejemplo:"
   ]
  },
  {
   "cell_type": "markdown",
   "metadata": {
    "id": "iEsqlSmS-7GL"
   },
   "source": [
    "### Función Factorial$$n!$$\n",
    "\n",
    "Factorial de un número entero positivo."
   ]
  },
  {
   "cell_type": "code",
   "execution_count": 1,
   "metadata": {
    "id": "y0IDHZct-7GM"
   },
   "outputs": [],
   "source": [
    "def factorial(n):\n",
    "    f=1\n",
    "    for i in range(2,n+1):\n",
    "        f*=i #o f=i*f El operador (*=) multiplica a la variable del lado izquierdo el valor del lado derecho.\n",
    "    return(f)  # https://entrenamiento-python-basico.readthedocs.io/es/latest/leccion3/operadores_asignaciones.html"
   ]
  },
  {
   "cell_type": "code",
   "execution_count": 2,
   "metadata": {
    "colab": {
     "base_uri": "https://localhost:8080/"
    },
    "id": "EE4WJxIP-7GM",
    "outputId": "ef18adaa-5605-4e02-c90d-69e9bd86526a"
   },
   "outputs": [
    {
     "data": {
      "text/plain": [
       "6"
      ]
     },
     "execution_count": 2,
     "metadata": {},
     "output_type": "execute_result"
    }
   ],
   "source": [
    "factorial(3)"
   ]
  },
  {
   "cell_type": "code",
   "execution_count": 3,
   "metadata": {
    "colab": {
     "base_uri": "https://localhost:8080/"
    },
    "id": "xbpZcpyWEcTq",
    "outputId": "93d71ea4-ec99-4233-d03f-5258f2586680"
   },
   "outputs": [
    {
     "name": "stdout",
     "output_type": "stream",
     "text": [
      "n n!\n",
      "0 1\n",
      "1 1\n",
      "2 2\n",
      "3 6\n",
      "4 24\n",
      "5 120\n",
      "6 720\n",
      "7 5040\n",
      "8 40320\n",
      "9 362880\n"
     ]
    }
   ],
   "source": [
    "print('n','n!') #%10s, 10 espacios para caracteres tipo string\n",
    "for j in range(10):\n",
    "    print(j,factorial(j))"
   ]
  },
  {
   "cell_type": "code",
   "execution_count": 4,
   "metadata": {
    "colab": {
     "base_uri": "https://localhost:8080/"
    },
    "id": "ggqZCsGk-7GM",
    "outputId": "4c286344-2c62-407c-b8f4-45d82a158de9"
   },
   "outputs": [
    {
     "name": "stdout",
     "output_type": "stream",
     "text": [
      "         n         n!\n",
      "         0          1\n",
      "         1          1\n",
      "         2          2\n",
      "         3          6\n",
      "         4         24\n",
      "         5        120\n",
      "         6        720\n",
      "         7       5040\n",
      "         8      40320\n",
      "         9     362880\n"
     ]
    }
   ],
   "source": [
    "print('%10s %10s' %('n','n!')) #%10s, 10 espacios para caracteres tipo string\n",
    "for j in range(10):\n",
    "    print('%10d %10d' % (j,factorial(j))) # %10d, 10 espacios para cateres de tipo entero decimal"
   ]
  },
  {
   "cell_type": "markdown",
   "metadata": {
    "id": "HgHGgK27-7GM"
   },
   "source": [
    "## 1.1 Funciones Matemáticas\n",
    "\n",
    "### 1.1.1 $$\\mathbb{R}^n\\rightarrow\\mathbb{R}$$"
   ]
  },
  {
   "cell_type": "markdown",
   "metadata": {
    "id": "_2pML3Go-7GN"
   },
   "source": [
    "Por ejemplo: \n",
    "La ecuación de movimiento en el eje Y de una partícula libre:\n",
    "$$y(y_0,v_0,t)=y_0+v_0 t - \\frac{1}{2} g t^2$$"
   ]
  },
  {
   "cell_type": "code",
   "execution_count": 5,
   "metadata": {
    "id": "jAdLOHrP-7GN"
   },
   "outputs": [],
   "source": [
    "def y_pos(y0,v0,t):\n",
    "    g= 9.8 #m/s^2\n",
    "    return(y0+v0*t-0.5*g*t**2)"
   ]
  },
  {
   "cell_type": "code",
   "execution_count": 6,
   "metadata": {
    "id": "S_1pi4IN-7GN"
   },
   "outputs": [],
   "source": [
    "import numpy as np"
   ]
  },
  {
   "cell_type": "code",
   "execution_count": 7,
   "metadata": {
    "colab": {
     "base_uri": "https://localhost:8080/"
    },
    "id": "YINeWIo6-7GN",
    "outputId": "310fd1a6-5d9f-4800-82be-08b964cf9a24"
   },
   "outputs": [
    {
     "data": {
      "text/plain": [
       "array([ 0.,  1.,  2.,  3.,  4.,  5.,  6.,  7.,  8.,  9., 10.])"
      ]
     },
     "execution_count": 7,
     "metadata": {},
     "output_type": "execute_result"
    }
   ],
   "source": [
    "t= np.linspace(0,10,11)\n",
    "t"
   ]
  },
  {
   "cell_type": "code",
   "execution_count": 8,
   "metadata": {
    "colab": {
     "base_uri": "https://localhost:8080/"
    },
    "id": "AsNCjXF6-7GN",
    "outputId": "0994e560-afb8-4160-a0c5-62d28275bd32"
   },
   "outputs": [
    {
     "data": {
      "text/plain": [
       "array([   0. ,   25.1,   40.4,   45.9,   41.6,   27.5,    3.6,  -30.1,\n",
       "        -73.6, -126.9, -190. ])"
      ]
     },
     "execution_count": 8,
     "metadata": {},
     "output_type": "execute_result"
    }
   ],
   "source": [
    "y_pos(0,30,t)"
   ]
  },
  {
   "cell_type": "code",
   "execution_count": 9,
   "metadata": {
    "id": "Y6UCZEUG-7GN"
   },
   "outputs": [],
   "source": [
    "import matplotlib.pyplot as plt"
   ]
  },
  {
   "cell_type": "code",
   "execution_count": 10,
   "metadata": {
    "colab": {
     "base_uri": "https://localhost:8080/",
     "height": 296
    },
    "id": "PRtoDSwM-7GO",
    "outputId": "951c6536-130c-4118-97ad-3626af932ea7"
   },
   "outputs": [
    {
     "data": {
      "text/plain": [
       "Text(0.5, 0, 't(s)')"
      ]
     },
     "execution_count": 10,
     "metadata": {},
     "output_type": "execute_result"
    },
    {
     "data": {
      "image/png": "[encoded data removed]",
      "text/plain": [
       "<Figure size 432x288 with 1 Axes>"
      ]
     },
     "metadata": {
      "needs_background": "light"
     },
     "output_type": "display_data"
    }
   ],
   "source": [
    "plt.plot(t,y_pos(0,30,t))\n",
    "plt.ylabel('y(m)')\n",
    "plt.xlabel('t(s)')"
   ]
  },
  {
   "cell_type": "markdown",
   "metadata": {
    "id": "YZU93U8z-7GO"
   },
   "source": [
    "$$\\frac{dy}{dt}= v(v_0,t)=v_0-gt$$"
   ]
  },
  {
   "cell_type": "code",
   "execution_count": 11,
   "metadata": {
    "id": "J90rm3oB-7GP"
   },
   "outputs": [],
   "source": [
    "def y_vel(v0,t):\n",
    "    g= 9.8 #m/s^2\n",
    "    return(v0-g*t)"
   ]
  },
  {
   "cell_type": "code",
   "execution_count": 12,
   "metadata": {
    "colab": {
     "base_uri": "https://localhost:8080/",
     "height": 296
    },
    "id": "SnKAo1FS-7GP",
    "outputId": "dc84fed4-8959-42a4-9831-760cc1ddd660",
    "scrolled": true
   },
   "outputs": [
    {
     "data": {
      "text/plain": [
       "Text(0.5, 0, 't(s)')"
      ]
     },
     "execution_count": 12,
     "metadata": {},
     "output_type": "execute_result"
    },
    {
     "data": {
      "image/png": "[encoded data removed]",
      "text/plain": [
       "<Figure size 432x288 with 1 Axes>"
      ]
     },
     "metadata": {
      "needs_background": "light"
     },
     "output_type": "display_data"
    }
   ],
   "source": [
    "plt.plot(t,y_vel(30,t))\n",
    "plt.ylabel('$v_y$(m)')\n",
    "plt.xlabel('t(s)')"
   ]
  },
  {
   "cell_type": "markdown",
   "metadata": {
    "id": "GLa76od1-7GP"
   },
   "source": [
    "### 1.1.2 $$\\mathbb{R}^n \\rightarrow \\mathbb{R}^m$$"
   ]
  },
  {
   "cell_type": "markdown",
   "metadata": {
    "id": "mKOgQ88T-7GP"
   },
   "source": [
    "$$\\vec{F}= (F_x \\hat{i},F_y \\hat{j})$$"
   ]
  },
  {
   "cell_type": "markdown",
   "metadata": {
    "id": "qLXvQh_0-7GP"
   },
   "source": [
    "<center>\n",
    "<img src=\"https://habrastorage.org/webt/fy/ho/j1/fyhoj19o3jco4oeywggykf6uffe.png\" />\n",
    "    "
   ]
  },
  {
   "cell_type": "markdown",
   "metadata": {
    "id": "-covLbAE-7GQ"
   },
   "source": [
    "$$ F_x=|\\vec{F}| cos(\\theta) $$\n",
    "$$F_y=|\\vec{F}| sen(\\theta)$$"
   ]
  },
  {
   "cell_type": "markdown",
   "metadata": {
    "id": "UtJIjYQl-7GQ"
   },
   "source": [
    "$$\\vec{F}=-\\frac{mv^2}{r}\\hat{u}_r$$"
   ]
  },
  {
   "cell_type": "markdown",
   "metadata": {
    "id": "Aziqf0gG-7GQ"
   },
   "source": [
    "Entonces nuestras función en coordenadas cartesianas sería:\n",
    "\n",
    "$$\\vec{F}=F_x \\hat{i}+ F_y\\hat{j}$$"
   ]
  },
  {
   "cell_type": "code",
   "execution_count": 13,
   "metadata": {
    "id": "GQyBZuqV-7GQ"
   },
   "outputs": [],
   "source": [
    "def force(F, θ): #F:vector\n",
    "    Fmag= np.linalg.norm(F) \n",
    "    Fx=Fmag*np.cos(θ)\n",
    "    Fy=Fmag*np.sin(θ)\n",
    "    return np.array([Fx,Fy])"
   ]
  },
  {
   "cell_type": "code",
   "execution_count": 60,
   "metadata": {
    "id": "yUV9OTmE-7GQ"
   },
   "outputs": [],
   "source": [
    "θ= np.linspace(-2*np.pi,2*np.pi,10) #np.pi/6"
   ]
  },
  {
   "cell_type": "code",
   "execution_count": 61,
   "metadata": {
    "id": "7pjlCCgO-7GQ"
   },
   "outputs": [],
   "source": [
    "m=10 #np.linspace(1,100,100)\n",
    "v=5\n",
    "r=2\n",
    "F=-m*v**2/r #variar radio"
   ]
  },
  {
   "cell_type": "code",
   "execution_count": 62,
   "metadata": {
    "colab": {
     "base_uri": "https://localhost:8080/"
    },
    "id": "yxXeKEYZ-7GQ",
    "outputId": "96a6256c-ba01-46f0-c1b4-700712d02da3"
   },
   "outputs": [
    {
     "data": {
      "text/plain": [
       "numpy.ndarray"
      ]
     },
     "execution_count": 62,
     "metadata": {},
     "output_type": "execute_result"
    }
   ],
   "source": [
    "type(force(F,θ))"
   ]
  },
  {
   "cell_type": "code",
   "execution_count": 63,
   "metadata": {
    "colab": {
     "base_uri": "https://localhost:8080/"
    },
    "id": "T7geyCBY-7GR",
    "outputId": "93d12b16-572c-4e3f-d2da-d86a5fe6a56b"
   },
   "outputs": [
    {
     "data": {
      "text/plain": [
       "(2, 10)"
      ]
     },
     "execution_count": 63,
     "metadata": {},
     "output_type": "execute_result"
    }
   ],
   "source": [
    "force(F,θ).shape"
   ]
  },
  {
   "cell_type": "code",
   "execution_count": 64,
   "metadata": {
    "colab": {
     "base_uri": "https://localhost:8080/"
    },
    "id": "PvGjT6Ws-7GR",
    "outputId": "0f41a646-f961-48e2-9098-64b7307a0492"
   },
   "outputs": [
    {
     "data": {
      "text/plain": [
       "array([[ 1.25000000e+02,  2.17060222e+01, -1.17461578e+02,\n",
       "        -6.25000000e+01,  9.57555554e+01,  9.57555554e+01,\n",
       "        -6.25000000e+01, -1.17461578e+02,  2.17060222e+01,\n",
       "         1.25000000e+02],\n",
       "       [ 3.06161700e-14,  1.23100969e+02,  4.27525179e+01,\n",
       "        -1.08253175e+02, -8.03484512e+01,  8.03484512e+01,\n",
       "         1.08253175e+02, -4.27525179e+01, -1.23100969e+02,\n",
       "        -3.06161700e-14]])"
      ]
     },
     "execution_count": 64,
     "metadata": {},
     "output_type": "execute_result"
    }
   ],
   "source": [
    "force(F,θ)"
   ]
  },
  {
   "cell_type": "code",
   "execution_count": 19,
   "metadata": {
    "colab": {
     "base_uri": "https://localhost:8080/",
     "height": 282
    },
    "id": "hZmndW39-7GR",
    "outputId": "2d7fd2b3-9e90-4b73-f6c7-254d803761ff"
   },
   "outputs": [
    {
     "data": {
      "text/plain": [
       "[<matplotlib.lines.Line2D at 0x260ae6b7ac0>]"
      ]
     },
     "execution_count": 19,
     "metadata": {},
     "output_type": "execute_result"
    },
    {
     "data": {
      "image/png": "[encoded data removed]",
      "text/plain": [
       "<Figure size 432x288 with 1 Axes>"
      ]
     },
     "metadata": {
      "needs_background": "light"
     },
     "output_type": "display_data"
    }
   ],
   "source": [
    "plt.plot(θ,force(F,θ)[0])"
   ]
  },
  {
   "cell_type": "code",
   "execution_count": 20,
   "metadata": {
    "colab": {
     "base_uri": "https://localhost:8080/",
     "height": 282
    },
    "id": "5UqnQ5bE-7GR",
    "outputId": "882765a6-fbde-4bd5-ac61-78d24ca6d275"
   },
   "outputs": [
    {
     "data": {
      "text/plain": [
       "[<matplotlib.lines.Line2D at 0x260ae7081c0>]"
      ]
     },
     "execution_count": 20,
     "metadata": {},
     "output_type": "execute_result"
    },
    {
     "data": {
      "image/png": "[encoded data removed]",
      "text/plain": [
       "<Figure size 432x288 with 1 Axes>"
      ]
     },
     "metadata": {
      "needs_background": "light"
     },
     "output_type": "display_data"
    }
   ],
   "source": [
    "plt.plot(θ,force(F,θ)[1])"
   ]
  },
  {
   "cell_type": "markdown",
   "metadata": {
    "id": "FLRSDxHp-7GR"
   },
   "source": [
    "### 1.1.3 $$\\mathbb{R} \\rightarrow \\mathbb{C}$$"
   ]
  },
  {
   "cell_type": "code",
   "execution_count": 21,
   "metadata": {
    "colab": {
     "base_uri": "https://localhost:8080/"
    },
    "id": "s9JJDpAI-7GR",
    "outputId": "0ae5defe-f268-4d4b-b4ad-9c7f1fe5e2dc",
    "scrolled": true
   },
   "outputs": [
    {
     "name": "stdout",
     "output_type": "stream",
     "text": [
      "1j , tipo: <class 'complex'>\n"
     ]
    }
   ],
   "source": [
    "print(1j,', tipo:', type(1j))"
   ]
  },
  {
   "cell_type": "markdown",
   "metadata": {
    "id": "0VfDYW4G-7GS"
   },
   "source": [
    "$$y= e^{-i \\theta} \\leftrightarrow y=cos\\theta-isen\\theta$$"
   ]
  },
  {
   "cell_type": "markdown",
   "metadata": {
    "id": "uZtpKJi1-7GS"
   },
   "source": [
    "$$Re(y)=cos\\theta \\qquad , \\quad Im(y)=-sen\\theta$$"
   ]
  },
  {
   "cell_type": "code",
   "execution_count": 22,
   "metadata": {
    "id": "9iD2ViP2-7GS"
   },
   "outputs": [],
   "source": [
    "def f_com(x):\n",
    "    return(np.e**(-1j*x))"
   ]
  },
  {
   "cell_type": "code",
   "execution_count": 23,
   "metadata": {
    "colab": {
     "base_uri": "https://localhost:8080/",
     "height": 314
    },
    "id": "WJmNDJuw-7GS",
    "outputId": "d1538b7f-388f-4b68-c065-bb693ecb89c6"
   },
   "outputs": [
    {
     "data": {
      "text/plain": [
       "Text(0, 0.5, 'f')"
      ]
     },
     "execution_count": 23,
     "metadata": {},
     "output_type": "execute_result"
    },
    {
     "data": {
      "image/png": "[encoded data removed]",
      "text/plain": [
       "<Figure size 432x288 with 1 Axes>"
      ]
     },
     "metadata": {
      "needs_background": "light"
     },
     "output_type": "display_data"
    }
   ],
   "source": [
    "θ=np.linspace(-2*np.pi,2*np.pi,50)\n",
    "y=f_com(θ)\n",
    "\n",
    "plt.plot(θ, np.imag(y))\n",
    "plt.plot(θ, np.real(y))\n",
    "#plt.plot(θ, np.sin(θ))\n",
    "plt.title('Función compleja')\n",
    "plt.legend(['Im(f)','Re(f)'])\n",
    "plt.xlabel('$θ$')\n",
    "plt.ylabel('f')"
   ]
  },
  {
   "cell_type": "code",
   "execution_count": 24,
   "metadata": {
    "colab": {
     "base_uri": "https://localhost:8080/",
     "height": 296
    },
    "id": "OmdwMTnb-7GS",
    "outputId": "798a89eb-03f3-4919-e20d-271f4fc65d4a"
   },
   "outputs": [
    {
     "data": {
      "text/plain": [
       "Text(0, 0.5, 'Im(f)')"
      ]
     },
     "execution_count": 24,
     "metadata": {},
     "output_type": "execute_result"
    },
    {
     "data": {
      "image/png": "[encoded data removed]",
      "text/plain": [
       "<Figure size 432x288 with 1 Axes>"
      ]
     },
     "metadata": {
      "needs_background": "light"
     },
     "output_type": "display_data"
    }
   ],
   "source": [
    "plt.plot(np.real(y),np.imag(y))\n",
    "plt.xlabel('Re(f)')\n",
    "plt.ylabel('Im(f)')"
   ]
  },
  {
   "cell_type": "markdown",
   "metadata": {
    "id": "ZzxDz7Sx-7GU"
   },
   "source": [
    "## 2. Series"
   ]
  },
  {
   "cell_type": "markdown",
   "metadata": {
    "id": "rBBY_xGrAtBK"
   },
   "source": [
    "Expansión en series de la función $sen(x)$:"
   ]
  },
  {
   "cell_type": "markdown",
   "metadata": {
    "id": "UGcIEvABtcJl"
   },
   "source": [
    "$$sen(x)= x- \\frac{x^3}{3!}+\\frac{x^5}{5!}-\\frac{x^7}{7!}+\\frac{x^9}{9!}+\\frac{x^{11}}{11!}+\\frac{x^{13}}{13!}+\\frac{x^{15}}{15!}+ O(9)$$"
   ]
  },
  {
   "cell_type": "markdown",
   "metadata": {
    "id": "dwnKiiLbtcJm"
   },
   "source": [
    "$$\\sin x = \\sum_{n=0}^{\\infty} \\frac{(-1)^n x^{2n+1}}{(2n+1)!} $$"
   ]
  },
  {
   "cell_type": "code",
   "execution_count": 25,
   "metadata": {
    "id": "p9AzmUYstcJq"
   },
   "outputs": [],
   "source": [
    "def mysin(x,orden):\n",
    "    ordn=[]\n",
    "    mysn=[]\n",
    "    y=0        \n",
    "    '''\n",
    "    Creamos lista ordn y mysn\n",
    "    '''\n",
    "    for i in range(0,orden,1):\n",
    "        y += ((-1)**i)*(x**(1+2*i))/factorial(1+2*i)\n",
    "        ordn.append(i)\n",
    "        mysn.append(y)\n",
    "    #print('orden: ', ordn ,'\\n sen(x): ', mysn)\n",
    "    return(y)\n",
    "    #return(ordn,mysn,y)"
   ]
  },
  {
   "cell_type": "code",
   "execution_count": 26,
   "metadata": {
    "colab": {
     "base_uri": "https://localhost:8080/"
    },
    "id": "Q4_3_plutcJt",
    "outputId": "a7a50060-c815-40bc-b8fe-e25c9bbeb79e"
   },
   "outputs": [
    {
     "data": {
      "text/plain": [
       "0.5"
      ]
     },
     "execution_count": 26,
     "metadata": {},
     "output_type": "execute_result"
    }
   ],
   "source": [
    "mysin(np.pi/6,7)"
   ]
  },
  {
   "cell_type": "code",
   "execution_count": 27,
   "metadata": {
    "colab": {
     "base_uri": "https://localhost:8080/"
    },
    "id": "6ZIM3bsqtcJv",
    "outputId": "7b9f892e-f867-4e03-d8be-0f6b46f259f2"
   },
   "outputs": [
    {
     "data": {
      "text/plain": [
       "0.5000021325887924"
      ]
     },
     "execution_count": 27,
     "metadata": {},
     "output_type": "execute_result"
    }
   ],
   "source": [
    "mysin(np.pi/6,3)"
   ]
  },
  {
   "cell_type": "code",
   "execution_count": 28,
   "metadata": {
    "colab": {
     "base_uri": "https://localhost:8080/"
    },
    "id": "hQ8JS_cttcJx",
    "outputId": "9452b708-032d-4976-868c-be8e56f93e26"
   },
   "outputs": [
    {
     "data": {
      "text/plain": [
       "0.49967417939436376"
      ]
     },
     "execution_count": 28,
     "metadata": {},
     "output_type": "execute_result"
    }
   ],
   "source": [
    "mysin(np.pi/6,2)"
   ]
  },
  {
   "cell_type": "code",
   "execution_count": 29,
   "metadata": {
    "colab": {
     "base_uri": "https://localhost:8080/"
    },
    "id": "0vWKr3H2tcJz",
    "outputId": "abf0eecc-fe1f-47ab-d091-0e436cd1a7fe"
   },
   "outputs": [
    {
     "data": {
      "text/plain": [
       "0.5235987755982988"
      ]
     },
     "execution_count": 29,
     "metadata": {},
     "output_type": "execute_result"
    }
   ],
   "source": [
    "mysin(np.pi/6,1)"
   ]
  },
  {
   "cell_type": "code",
   "execution_count": 30,
   "metadata": {
    "colab": {
     "base_uri": "https://localhost:8080/",
     "height": 275
    },
    "id": "XXSWbt3ntcJ4",
    "outputId": "4aaa9331-9e2b-4aa8-e50a-9169f286f087"
   },
   "outputs": [
    {
     "data": {
      "image/png": "[encoded data removed]",
      "text/plain": [
       "<Figure size 432x288 with 1 Axes>"
      ]
     },
     "metadata": {
      "needs_background": "light"
     },
     "output_type": "display_data"
    }
   ],
   "source": [
    "import numpy as np\n",
    "vmysin = np.vectorize(mysin, excluded=['order'])\n",
    "\n",
    "#x = np.linspace(-pi/2, pi/2, 500)\n",
    "#x = np.linspace(-pi, pi, 500)\n",
    "#x = np.linspace(-2*pi, 2*pi, 500)\n",
    "x = np.linspace(-4*np.pi, 4*np.pi, 500)\n",
    "\n",
    "y2 = vmysin(x, 2)\n",
    "y3 = vmysin(x, 3)\n",
    "y4 = vmysin(x, 4)\n",
    "y5 = vmysin(x, 5)\n",
    "y6 = vmysin(x, 6)\n",
    "y7 = vmysin(x, 7)\n",
    "y8 = vmysin(x, 8)\n",
    "\n",
    "y = np.sin(x)\n",
    "\n",
    "import matplotlib.pyplot as plt\n",
    "plt.plot(x, y, label='sin(x)')\n",
    "plt.plot(x, y2, label='orden 2')\n",
    "plt.plot(x, y3, label='orden 3')\n",
    "plt.plot(x, y4, label='orden 4')\n",
    "plt.plot(x, y5, label='orden 5')\n",
    "plt.plot(x, y6, label='orden 6')\n",
    "plt.plot(x, y7, label='orden 7')\n",
    "plt.plot(x, y8, label='orden 8')\n",
    "plt.title('Aproximación de sen(x) en distintos órdenes')\n",
    "plt.xlabel('x: ángulo (radianes)')\n",
    "plt.ylabel('sin(x)')\n",
    "plt.ylim([-3, 3])\n",
    "#plt.ylim([-5, 5])\n",
    "#plt.ylim([-10, 10])\n",
    "#plt.ylim([-20, 20])\n",
    "plt.legend()\n",
    "plt.savefig('plot1.png')\n",
    "#plt.show()"
   ]
  },
  {
   "cell_type": "code",
   "execution_count": 31,
   "metadata": {
    "colab": {
     "base_uri": "https://localhost:8080/",
     "height": 275
    },
    "id": "Q6KSi8zztcJ6",
    "outputId": "b0d19bcc-5117-4ce4-b34a-996730b1ba93"
   },
   "outputs": [
    {
     "data": {
      "image/png": "[encoded data removed]",
      "text/plain": [
       "<Figure size 432x288 with 1 Axes>"
      ]
     },
     "metadata": {
      "needs_background": "light"
     },
     "output_type": "display_data"
    }
   ],
   "source": [
    "\n",
    "#plt.plot(x, y, label='sin(x)')\n",
    "plt.plot(x, y-y2, label='err. ord. 2')\n",
    "plt.plot(x, y-y3, label='err. ord. 3')\n",
    "plt.plot(x, y-y4, label='err. ord. 4')\n",
    "plt.plot(x, y-y5, label='err. ord. 5')\n",
    "plt.plot(x, y-y6, label='err. ord. 6')\n",
    "plt.plot(x, y-y7, label='err. ord. 7')\n",
    "plt.plot(x, y-y8, label='err. ord. 8')\n",
    "plt.title('Errores de aproximación de sen(x) en distintos órdenes')\n",
    "plt.xlabel('x: ángulo (radianes)')\n",
    "plt.ylabel('sin(x)')\n",
    "plt.ylim([-3, 3])\n",
    "#plt.ylim([-5, 5])\n",
    "#plt.ylim([-10, 10])\n",
    "#plt.ylim([-20, 20])\n",
    "plt.legend()\n",
    "plt.show()"
   ]
  },
  {
   "cell_type": "code",
   "execution_count": 32,
   "metadata": {
    "colab": {
     "base_uri": "https://localhost:8080/",
     "height": 271
    },
    "id": "NqHl5M7gtcJ8",
    "outputId": "ab726ceb-14df-4b74-9ba7-b57579dabdd7"
   },
   "outputs": [
    {
     "data": {
      "image/png": "[encoded data removed]",
      "text/plain": [
       "<Figure size 432x288 with 1 Axes>"
      ]
     },
     "metadata": {
      "needs_background": "light"
     },
     "output_type": "display_data"
    }
   ],
   "source": [
    "#plt.plot(x, y, label='sin(x)')\n",
    "plt.plot(x, y-y2, label='err. ord. 2')\n",
    "plt.plot(x, y-y3, label='err. ord. 3')\n",
    "plt.plot(x, y-y4, label='err. ord. 4')\n",
    "plt.plot(x, y-y5, label='err. ord. 5')\n",
    "plt.plot(x, y-y6, label='err. ord. 6')\n",
    "plt.plot(x, y-y7, label='err. ord. 7')\n",
    "plt.plot(x, y-y8, label='err. ord. 8')\n",
    "plt.title('Errores de aproximación de sen(x) en distintos órdenes')\n",
    "plt.xlabel('x: ángulo (radianes)')\n",
    "plt.ylabel('sin(x)')\n",
    "plt.ylim([-0.5, 0.5])\n",
    "plt.xlim([-6, 0])\n",
    "#plt.ylim([-5, 5])\n",
    "#plt.ylim([-10, 10])\n",
    "#plt.ylim([-20, 20])\n",
    "#plt.legend()\n",
    "plt.show()"
   ]
  },
  {
   "cell_type": "markdown",
   "metadata": {
    "id": "7E-8Th7P-7GU"
   },
   "source": [
    "## 3. Gráficos"
   ]
  },
  {
   "cell_type": "code",
   "execution_count": 33,
   "metadata": {
    "id": "Y9vPKb8i-7GU"
   },
   "outputs": [],
   "source": [
    "def plottrig(f,a,b,n):\n",
    "    '''\n",
    "    f: es la función a potear\n",
    "    a y b son los límites del dominio \n",
    "    en el que queremos plotear [a,b]\n",
    "    n: número de pasos\n",
    "    '''\n",
    "    xvals=np.linspace(a,b,n)\n",
    "    plt.plot(xvals,f(xvals))"
   ]
  },
  {
   "cell_type": "code",
   "execution_count": 34,
   "metadata": {
    "id": "Ty4Mn4lU-7GU"
   },
   "outputs": [],
   "source": [
    "funtrig = (np.sin,np.cos,np.tan)"
   ]
  },
  {
   "cell_type": "code",
   "execution_count": 35,
   "metadata": {
    "colab": {
     "base_uri": "https://localhost:8080/",
     "height": 235
    },
    "id": "ZqnreQ8v-7GU",
    "outputId": "c8df4bfa-9302-4e22-9daf-ff100caecd5b"
   },
   "outputs": [
    {
     "data": {
      "image/png": "[encoded data removed]",
      "text/plain": [
       "<Figure size 432x288 with 1 Axes>"
      ]
     },
     "metadata": {
      "needs_background": "light"
     },
     "output_type": "display_data"
    }
   ],
   "source": [
    "for ft in funtrig:\n",
    "    #print(ft(np.pi/6.0))\n",
    "    plottrig(ft,-np.pi,np.pi,1000)\n",
    "    plt.ylim(-2,2)\n",
    "    plt.legend(labels=['sen(x)','cos(x)','tan(h)'])"
   ]
  },
  {
   "cell_type": "markdown",
   "metadata": {
    "id": "WuBo2O-Q-7GV"
   },
   "source": [
    "$$\\psi(x,t)=[Asin(kx)+Bcos(kx)]e^{-i\\omega t}$$"
   ]
  },
  {
   "cell_type": "code",
   "execution_count": 36,
   "metadata": {
    "id": "UQ6PIY_T-7GV"
   },
   "outputs": [],
   "source": [
    "k=1\n",
    "A=1\n",
    "ω=1\n",
    "def psi(x,t):\n",
    "    return((A*np.sin(k*x)+B*np.cos(k*x))*np.exp(-1j*ω*t))"
   ]
  },
  {
   "cell_type": "code",
   "execution_count": 37,
   "metadata": {
    "colab": {
     "base_uri": "https://localhost:8080/",
     "height": 297
    },
    "id": "WqwOZwQJ-7GV",
    "outputId": "79e504f8-32a9-4228-b164-c940297f7c88",
    "scrolled": true
   },
   "outputs": [
    {
     "data": {
      "image/png": "[encoded data removed]",
      "text/plain": [
       "<Figure size 432x288 with 1 Axes>"
      ]
     },
     "metadata": {
      "needs_background": "light"
     },
     "output_type": "display_data"
    }
   ],
   "source": [
    "#matplotlib.pyplot for the graph\n",
    "import matplotlib.pyplot as plt\n",
    "#numpy for the arrays and math-on-array stuff\n",
    "import numpy as np\n",
    "#defining the domain\n",
    "x = np.linspace(-5,5,50)\n",
    "t=1#0.0\n",
    "#t = np.linspace(0,1,50)\n",
    "k=1\n",
    "A=1#+1j\n",
    "T=10\n",
    "ω=1#2*np.pi/T\n",
    "B=1#+1j\n",
    "#f, the function\n",
    "\n",
    "plt.plot(x,np.imag(psi(x,t)), label='Im($\\psi$)')\n",
    "#plt.plot(x,np.imag(psi(x,t+0.125)), label='Im($\\psi$) t+1')\n",
    "#plt.plot(x,np.imag(psi(x,t+0.250)), label='Im($\\psi$) t+2')\n",
    "#plt.plot(x,np.imag(psi(x,t+0.375)), label='Im($\\psi$) t+3')\n",
    "#plt.plot(x,np.imag(psi(x,t+0.5)), label='Im($\\psi$) t+4')\n",
    "\n",
    "plt.plot(x,np.real(psi(x,t)), label='Re($\\psi$)')\n",
    "plt.plot(x,np.real(psi(x,t+0.125)), label='Re($\\psi$) en t+0.125')\n",
    "plt.plot(x,np.real(psi(x,t+0.250)), label='Re($\\psi$) en t+0.250')\n",
    "plt.plot(x,np.real(psi(x,t+0.375)), label='Re($\\psi$) en t+0.375')\n",
    "plt.plot(x,np.real(psi(x,t+0.5)), label='Re($\\psi$) en t+0.5')\n",
    "\n",
    "#ejes\n",
    "plt.title('$ψ(x,t=1)$')\n",
    "plt.xlabel('x')\n",
    "plt.ylabel('ψ(x,1)')\n",
    "#mostrar la leyenda\n",
    "plt.legend()\n",
    "#mostrar el gráfico\n",
    "plt.show()"
   ]
  },
  {
   "cell_type": "code",
   "execution_count": 38,
   "metadata": {
    "colab": {
     "base_uri": "https://localhost:8080/",
     "height": 353
    },
    "id": "h9pPVZcS-7GV",
    "outputId": "06f22cce-6cd0-4266-e678-a4e7c93797b1"
   },
   "outputs": [
    {
     "name": "stderr",
     "output_type": "stream",
     "text": [
      "C:\\ProgramData\\Anaconda3\\lib\\site-packages\\numpy\\core\\_asarray.py:85: ComplexWarning: Casting complex values to real discards the imaginary part\n",
      "  return array(a, dtype, copy=False, order=order)\n"
     ]
    },
    {
     "data": {
      "image/png": "[encoded data removed]",
      "text/plain": [
       "<Figure size 432x288 with 1 Axes>"
      ]
     },
     "metadata": {
      "needs_background": "light"
     },
     "output_type": "display_data"
    }
   ],
   "source": [
    "plt.plot(x,psi(x,t)*np.conjugate(psi(x,t)), label='Re($\\psi$)')\n",
    "#ejes\n",
    "plt.title('$|ψ(x,t=1)|^2$')\n",
    "plt.xlabel('x')\n",
    "plt.ylabel('$|ψ(x,1)|^2$')\n",
    "#mostrar la leyenda\n",
    "plt.legend()\n",
    "#mostrar el gráfico\n",
    "plt.show()"
   ]
  },
  {
   "cell_type": "code",
   "execution_count": 39,
   "metadata": {
    "colab": {
     "base_uri": "https://localhost:8080/",
     "height": 269
    },
    "id": "Db3O4EoS-7GV",
    "outputId": "f70cd950-75eb-4496-d20a-5b9523aae927"
   },
   "outputs": [
    {
     "data": {
      "image/png": "[encoded data removed]",
      "text/plain": [
       "<Figure size 432x288 with 1 Axes>"
      ]
     },
     "metadata": {
      "needs_background": "light"
     },
     "output_type": "display_data"
    }
   ],
   "source": [
    "%matplotlib inline\n",
    "\n",
    "# First set up the figure, the axis, and the plot element we want to animate\n",
    "\n",
    "fig, ax = plt.subplots()\n",
    "\n",
    "ax.set_xlim(( -5, 5))\n",
    "ax.set_ylim((-2, 2))\n",
    "\n",
    "line, = ax.plot([], [], lw=2)"
   ]
  },
  {
   "cell_type": "code",
   "execution_count": 40,
   "metadata": {
    "id": "Mfjm2cWd-7GW"
   },
   "outputs": [],
   "source": [
    "# initialization function: plot the background of each frame\n",
    "def init():\n",
    "    line.set_data([], [])\n",
    "    return (line,)\n",
    "t=0\n",
    "# animation function. This is called sequentially\n",
    "def animate(i):\n",
    "    x = np.linspace(-5,5,50)\n",
    "    y = np.real(psi(x,t+i/10))\n",
    "    line.set_data(x, y)\n",
    "    return (line,)"
   ]
  },
  {
   "cell_type": "code",
   "execution_count": 41,
   "metadata": {
    "id": "ez1usNHx-7GW"
   },
   "outputs": [],
   "source": [
    "# call the animator. blit=True means only re-draw the parts that have changed.\n",
    "from matplotlib.animation import FuncAnimation\n",
    "anim = FuncAnimation(fig, animate, init_func=init,\n",
    "                               frames=200, interval=50, blit=True)"
   ]
  },
  {
   "cell_type": "code",
   "execution_count": 42,
   "metadata": {
    "colab": {
     "base_uri": "https://localhost:8080/",
     "height": 309
    },
    "id": "g_dWSQyl-7GW",
    "outputId": "4f59c424-848d-48bd-b081-290f0911f885",
    "scrolled": true
   },
   "outputs": [
    {
     "data": {
      "text/html": [
       "<video width=\"432\" height=\"288\" controls autoplay loop>\n",
       "  <source type=\"video/mp4\" src=\"data:video/mp4;base64,AAAAIGZ0eXBNNFYgAAACAE00ViBpc29taXNvMmF2YzEAAAAIZnJlZQABgMZtZGF0AAACoAYF//+c\n",
       "3EXpvebZSLeWLNgg2SPu73gyNjQgLSBjb3JlIDE2MSAtIEguMjY0L01QRUctNCBBVkMgY29kZWMg\n",
       "LSBDb3B5bGVmdCAyMDAzLTIwMjAgLSBodHRwOi8vd3d3LnZpZGVvbGFuLm9yZy94MjY0Lmh0bWwg\n",
       "LSBvcHRpb25zOiBjYWJhYz0xIHJlZj0zIGRlYmxvY2s9MTowOjAgYW5hbHlzZT0weDM6MHgxMTMg\n",
       "bWU9aGV4IHN1Ym1lPTcgcHN5PTEgcHN5X3JkPTEuMDA6MC4wMCBtaXhlZF9yZWY9MSBtZV9yYW5n\n",
       "ZT0xNiBjaHJvbWFfbWU9MSB0cmVsbGlzPTEgOHg4ZGN0PTEgY3FtPTAgZGVhZHpvbmU9MjEsMTEg\n",
       "ZmFzdF9wc2tpcD0xIGNocm9tYV9xcF9vZmZzZXQ9LTIgdGhyZWFkcz02IGxvb2thaGVhZF90aHJl\n",
       "YWRzPTEgc2xpY2VkX3RocmVhZHM9MCBucj0wIGRlY2ltYXRlPTEgaW50ZXJsYWNlZD0wIGJsdXJh\n",
       "eV9jb21wYXQ9MCBjb25zdHJhaW5lZF9pbnRyYT0wIGJmcmFtZXM9MyBiX3B5cmFtaWQ9MiBiX2Fk\n",
       "YXB0PTEgYl9iaWFzPTAgZGlyZWN0PTEgd2VpZ2h0Yj0xIG9wZW5fZ29wPTAgd2VpZ2h0cD0yIGtl\n",
       "eWludD0yNTAga2V5aW50X21pbj0yMCBzY2VuZWN1dD00MCBpbnRyYV9yZWZyZXNoPTAgcmNfbG9v\n",
       "a2FoZWFkPTQwIHJjPWNyZiBtYnRyZWU9MSBjcmY9MjMuMCBxY29tcD0wLjYwIHFwbWluPTAgcXBt\n",
       "YXg9NjkgcXBzdGVwPTQgaXBfcmF0aW89MS40MCBhcT0xOjEuMDAAgAAAEP9liIQAO//+906/AptF\n",
       "l2oDklcK9sqkJlm5UmsB8qYAAAMAABGwhj/PF3YZgPMJwzW9COb7Hcrdz8qAQJM8NNVekV2aueUc\n",
       "hR/lPC+uIUmy8a9bwODjTFWFXiRumwAACcD5KsRYG6+nCdvIcK340c5i9pEIski0fkXLCHAZ/3/k\n",
       "08AFxpfWPIlyfZUo97mWl73ebKTBRse7pvWVq6s01dgxobIBDC9U4v26DMQ0FkCEwrXTLDsb1qfM\n",
       "3Z4nC6Tfj9t1RhgImtwZJ0nzc+p8mneOiFPrnsQCV+C3/WGRHFDiBwrSaepPb+QxNjpkM4EMET4P\n",
       "kHI5pp7rSshVuFqJy+c91uNVB+m1qukXb/pGd1ZnuKzSqmYcu6pN+fbERtE2+rnAmt1Y/5UVUial\n",
       "tTlGlUXJRE1P9K4k0A2N03GLtt+GRuBMN7WtyCsU9dynYG+12Nvoqu3oKHkRwAAGDggBNg0kn8Yn\n",
       "duinUSpWSI1WRatlBudJEywx6VBWINwupZzNnHRCDs3x1K8Wt3G9K7UoRMTwQVb1DxbgtGQfQz1T\n",
       "CVPWWTmqgBDyuBjMaZDmqNESChbo7AfdSIGpITAd3Utiw/cP7INv9VlgYkBjus04+76sRuekg5ym\n",
       "ZGAhSOL1tkpy/2Ity03A0/CfBZs7e2hKUw5qpDvp96xnNv0md9PJp17xX8yMby8Gn+WyhuxezNvp\n",
       "9Y7S/RZuntrStU5hKS9i2F5nJ34vWOrXMQcfX2WB8bAR7Dlh5bMQCtphLRffOZFY4RUottqubD2C\n",
       "Vc9yaR2RMVxthqMjBiJOee8vzCwmq78R4+0bO/124VQkGQPbEjVszqU2QUSxQh6wPXfcohhO/qDD\n",
       "iVokb/W2YNH/gdRQc+By2SNcKuKCnTVdLMcmoNBxogyyta+d/aN8bvDLmHx2ordXNdAPXHbIJsW+\n",
       "1v1T+hGj7SA+2n6dR+WAl6R0y7LktO7JYFiB8nIYzuDFQ/LRAZL9SnJ63K9WCLTcqtS+BZ69G2zO\n",
       "hJzr1vz6+CtGjUd4YkAhkMV9aEG+IGZmcRU1Ugp/+ryNtbQ4DBIXCUdVPBu5pxxxTdk9xLGFDqoW\n",
       "7aCOb96vYAIiPqGEwj9iFnPW83TD8DcDb5UR96gbr96cd6mZeU0u5CvNv7OMW54BUuwcQACKm1ho\n",
       "YXFn/h+qqrDjpwYtvRsOVdLK+JDsLQUJhhg0e7IfgBJEABCLLvkG0+WvSxCo7uT3DBFRqG7hZnC2\n",
       "8nd2ecY/YMBFnBBdv/FwdES0PKaOzVzgdca6yiGcv+ef8dUxK/4cBV+ISH6VmKIelxZ89Y6JbyeW\n",
       "MRPcaauKwgrUsQrPlCL9AfM2aWTl82ISqVCyokQhymGrkDU9TLUWf18Lz+KtcYE+9qcSbG9WkaEP\n",
       "Izh9hRHyVyZJqpwJluhaDHrrEBoqTjZOLrT0x8fItrqA7+KZVGIq2RMpIQQcLXYBQQ9o/5seXj5d\n",
       "xa/S1/3a4x7HAT5ClQgVyzP5qrxxu5CdlQ988ZeLgwDzsY5uANPw6nsNfAgSlablVlV0AUsKH4SW\n",
       "1ogOn5ME2eHJ2zn9Ns0WLuG8DzimlFl2kLosK7Q0tOi0xXE6fK/EzaTpR6qrEDet1FgNYO+3Hr7Z\n",
       "ffQlTtzLrhgUMrJlkwLH4VwOaYHRir7ngNJ7vsoh9gr16CneENCJ3HjJdwVbpYsgM8UVuJ6QQ1p3\n",
       "TR7XFwRIOarLlaThPTGoOdbzBURJfuWQoQHoa04UehMH8A6JjSPRqNBIfQW6PDMZrnI1zS2Mdh+v\n",
       "ejk1Kuk3v1vChbd7QBUeSqK6xv++Uh/Sgfwyg5bNyllYHu0y9+hOg7XhtTt4LZKOyy7LcQlyvDnG\n",
       "KRUMptV0QzDuhNUBEAkeFsfEMphSzJxJeoSwo0u01xxRWJGO4TSpGJLFP8mDBL05nPzVtVjGFtM7\n",
       "kKKUVIhqqMDt4qyL57Nma3zWl+eeTxdZDWuIx7LH8D5BO0qoA0yBx5o5oO2SD4HJHVQ1hlX2XS5A\n",
       "ljzUGUWZIKaAynQRKdOcaUckBUM9U9mvBVX4KWZQ6205cf/RWukrbzGksBt/tvRWS+ziFNXM76tE\n",
       "mTBUXk1DjXi+1Sry7YkQnM7W4oxPV/9QRZ7Z4+xLZWeuj3xZhoEj9DU/G6Tx5+3cmfZdLT2rMbwE\n",
       "Z8jd39+ZHdvMp1GrVhco6UFjQMiks9OWJKMeGuXPutac3vXJ+i6LyIDul4eSrHJ+CpY76bWrUfrU\n",
       "KepcbHvmQxAvDA4qW3duX2gG12LqGxVi98z0eAVhKd5ubYpGFGtmfkrLA7oqaEoBbOy9uHyDIUBZ\n",
       "IW4Lk+dtchy0Il/P/L/RgAa/pSn+yqKiwk0t3u3jKjyILo51HDXHLHOpJ7A3pVgdWk3lgQ9g57yJ\n",
       "HvFNXkijK4V/n+P8lmIAE5SO0XqTfcPjvzev8Vo6LfO3FF83xrewrNuvegaC8L2OpdSK7f6QHex/\n",
       "J1eWm69zDAMWZpiUs1gvYWjJSDFmoOlicIkPbdQbIikCPqqWellGUJQD9SJ4WAqP028EK6/MdEGr\n",
       "yq1fZQ6IucZNXhLm4sXb00RSZDv+QGAweXcdhNCdHR8FektJwun03Y4toIzp49Wi6SVwPuZfP863\n",
       "QEhUx55uZ7XfodEUQiUpi4e5xIwXB/DsU0A7GVImr9KfUMzM2/niVba0K2KnK5iY0Av3RZn8cMQM\n",
       "048JBXI/MetNwXKd94nvtCcWqhs/9Phl+371ylj9Gq24NcT6GMu+mIzK5e3hyLHR8T4m2odITAC1\n",
       "Dk62G4d2OOk+SPp9ZQaRl9lVrhBKpXJx9hEBZQP1Afh/wKkFgg2a7ViHd4lViUz8IXqpZjaVcxcg\n",
       "JKYOz/NMLjYfADinOqRkozZveD5DeZ1sTyRONthssBH8PowemC1y0Wr2EukTKnh2/mktxcqh+fOM\n",
       "chOe17ZZedJZ5g5NmgYW2BBhvqcM6uIbxMg7ALwSTE6CiMuGfdftYqZPUkfp0b61w2rVKD0d0O6k\n",
       "67nggS1hmgeuvicbEd2nuKl1mtswtlYpqdst0hm4YePsu813Ommp3zZ6wiUnD0CHzLCLzkjxRG1S\n",
       "0cfpcB1/daKs+NG7lsV9O7vkVvDOspcQCcseSkfLLtZRZcf9GFuc7GxbI2sDx7zenjE6HC4r/Fwh\n",
       "LKoAToeE8v/GzDw0T0H3PaNW8OmA3o7ABw3KTcxWIHMN/LXEmVc3Hp6ooWCgsNLONuZJpbRTLI95\n",
       "vlGA2vkemm+FJs4p4OO4SzQ/o22ydq3t7kAiYEHDshlvrn2X9PEiQN1mghG2qBU3vH1THSpdHKDC\n",
       "RHUj+SVSfZUKs+QOH1qKtadECZ7TKTOW5H3ZmuFcyMO9jFnnUJ49bc7Abf0tETkFTsz35Xf313p+\n",
       "/yLbGhxHJSkUfV1NnvnSRb4h0X1OyDyW+Ak2Fe+tYeqJ6+3ZSiWtjUriJralRSnkVKHHYQgq6NYW\n",
       "uYvoRojl8RWWd8dBaH9isUPMHkequfbaJfvj0tZ09FBjskSKsE77bNughPOo9LraMceBL4Ofz1Lb\n",
       "zTh6urTv/48v/irwVqGB/KhKzAR/wIzvfSBI7w3Sux3XXbO7PN0ssNONbzEYVpcawzOgIDkNfM4S\n",
       "RVsZxbhPfAQzJVAW3bKMFlkvrNv/2B6PYr2YeSxQcKSbS+uvKMmk4iF6vNJbzci4cF0AHEy3M1Qp\n",
       "6kIN6vs9l5Md5CdR5kG7X9GPNZFPFpRwdmNKZTQyFBNnMJIydhVDtSMT+63GNUQiQwKyQmSle5rB\n",
       "3Y25geQWB44utRkU4ou+F55CZTpJ6/32oOccT6quuQh24Lr3F6pS8n1eMh4/Q1iWTlMmO/a7sDph\n",
       "VHpvnwLPAq9l9QG2AODS2mdX6b0/KB/8YepyTTFXjPB0Z/SlX90ue2Gjt4y7llrbmVrAXaayBLM4\n",
       "GZNAb+yuTpqi6wuoFUCzV///64uVcbQo8wQLbszTJLhukg8Tn5kbD6pOjqOnFdX0c0LuCoswCxRU\n",
       "FA60oIYz8kMIpxa5i1rJmcLWkA2LSatBGM3lc9IFEtGNkmTHD3f3bLXNUJ7mKmOIORIKSOi+69q7\n",
       "TrwSSRB39bhbzqNSHUVnzAwL129vZz0sdwzVRCJkUSdMxAg8O8Jbguz1vVAdEoumBdlUvmazxQJP\n",
       "xerSp/Jh2/3yPhF2K3+vF0qLzlykcNPBG6uOA+jtUHRGGz3wCW09UAZglugmsLchjDhanCAksJqN\n",
       "G7AqzqXpEof6JvOoGVB1IErVDnBA/cYnplbAo2dN8swww8bKvtu92urBSrjlFiTw7+QxFffx+Pko\n",
       "pPsxmJ+NHgmd1xs40OOsq1GglYhaqfLhEOpblY8Nqb4UZ0dnHCm9qNw+jfMIgb4Qi8bn6LpW97fM\n",
       "V5KaEiieYsBc5zbjRZyOzF0stoq+CJel0w9P1MiSubYFa7amRCzGilzsEbz1O4bktBIbn3dqvBEe\n",
       "chJvSMS3K0D+5juDdbs1lSXPs3BgadUMYrjgJ33gB58+lqZ87/i/FIcRxrWx7rI8hNUtrciK/e1A\n",
       "5HPyxSxKOm68d0V4YvXlznz+EzApNfw3xh7336JVgNI4eDCH20UgyYZj7NOa1hgtMqkNh6xrrsVS\n",
       "98OGRRBhRMUATp7YFoYQeZYnb5I2L1W4Hv9RgB7hoBwZSJTVf7uobGOfBx/i1dVqn0M3Q1s7oM9M\n",
       "i9ZMS/+mPCWxogfgohNyYqUNwHvsZy1ak0ctbtILpDAQ5SaJEu3WYb4Ei4P/7okA/pIjT72t8FqH\n",
       "sRuVEGGx8Kbrm9iwX8gyfmLkNDktlGrHN5o3SIoLq+PkQjxrDpuDau6qkngfWVtttb9nnDYeU44R\n",
       "ijxNcVK2S24f7q/ncYMaS6OXAGgtDyoc1/DXzvIvUB//SZTGhq6ilPsJhCbmURz5W4nkpesA9Yp4\n",
       "NH1UYwzy/B7Eb8KF3Td/MJ3o2hB05okmhi/RQdeyCZwpBwXxnXCNLWY7fImxAn+s+bPOdWLFDinw\n",
       "QOu5EMT2D2RUxNXHtf95XERVMJvt20neomiFiiPq3RV3bKNFnfc0tcOZNPLKc9cl7OnEz5flB10W\n",
       "BVge2uY1HA5ET9SWT/O5je2hqVwUiIqjCUVK2HAyU45ScVOOVpVeVhOMMJirU8sNy1iUrBy3YEdr\n",
       "MF+UXBEN/5Pp9UIPvC4hSGjmGSBoxob2IJ11NPjO7+/CVj/0vhYGstJ9BJrzhkJO7v92sPMQtnib\n",
       "nE+YleixxmE+Z0s82qRGggbv7v/MVWLsGz0eKZnIFtBfnr4/GKe7KyTRKDHXqdnYjSa2mPN2R9DY\n",
       "h9vV+SqIAiJhHGnSVIJsdYDtBdjvNdEb/lbOYNUiqqPibWGZXXkRjGinXgV1O+ss3BjtyY75JTOn\n",
       "Y5UOz28H+2qGdXRyBwUYihz5rwGy9dP5jMLkNUtbJ4NEpcwKowjEhEGEahmHEZDz1Tj+A8mN7xnL\n",
       "L2IaWedMd59kVlRkgUR1ZyE74FedlNdSWfCdgs2SWlyObYtPESsD/17g9/J8OEmkEew2H+TtUJHQ\n",
       "W68Lk99YkvFB4q6+dAJNYgJQQ1JLKH9nMEmBl4tbkC3Da7dSDOuV//w/y1uvoxgufLmUVUe1q2e3\n",
       "T+SQMg1zrjvemHdOneB8Jb2fb2VmHc3IytcJGnyhTANVpEM3+qBZCRH5U1ptVYIUcNdB1gPZLQCP\n",
       "q+NZo/wLQZK5Y1mwnpTX/+tKFX3IB0z0UdHN8Gsio3pg0Vz4bBZmJS7mFbLpHMStxUsheKm3ksbv\n",
       "Kj9hboQ7NIq/H+lgpX1na4O3gv+EQW49YsrdGlvUrZg1kcm3rSdc1mox55f3DUD/LQVAfL9dObLl\n",
       "KPJ7tBxRAAAB3kGaImxDv/6plgEF1gVAFmCuKQpeOSCr3xglxfrOndrZc0po6PeUj/S7tecpiNFm\n",
       "BEMXZKzfsr2o9chIGqM+vcFDV1zMemOwAKyamTgV2O+q1r7WsPSfgu+PmxZLtBlgah1M9RrRMR/J\n",
       "a+dCMkMzPYY7VVqfOVjDa79rIdYWRwqc2bJOMtp10Fkz+rgJq/uyzqkBy57NkLj2TR4byxvNtlXu\n",
       "o7eFCh+GNSMxEzU07QPlxugFbs5Y0xLTUzwW/Bvf+vurnJepqfj3o0uU4Bb0JM1Ml+PWbGENVq7R\n",
       "Z6nenvnhkfHAwOJ1j/eB5OZduF4ZEemq0RtV/F+6Y7kOgqIhon2A6JmlSnQfq1N66yevCvQRQU3x\n",
       "z5zHr5IvU6km+iev8zG8RJluDls76PCQ7zkUdyoalG9hGSIO1H/eDQ2J+PKugBhhzo0074etCd7A\n",
       "t/tEqwm5Q7IHx18TH8ms68O2TBi6cVixvWjdXh1L8O0HpURRhCJDq3p2Qg9kh5eJasJqpJ26dOZO\n",
       "FTnGWFuirZ6/bjuwni6gFw5RKfr3a37DcBPtP+2c/9V6VBd/7dpzFSo9X0bV+YuAbD+ez33CDnQj\n",
       "7gnjFYgkDTP/sigtH6yNIbjgJ97rHn3b6h9N4zuVYzgAAAB8AZ5BeQr/AWxqDEIukV5OmSraCCJU\n",
       "d48g1SfRk7W6voT6KmNyNDx1bBjna2VQWkaSDH/IM25wSfXXLUNCTeT38Z8IwWqLRgxbWy4oqYAg\n",
       "YS7pFHXcj3eKZuVOLK7EyjxCdaeUSkfOFIiwrxmRjNKjl9+RuEb5I/AehWFqGQAAAWdBmkQ8IZMp\n",
       "hDv//qmWADfcyQANfQL5aidbK3P/ook8mqUBF1DRkuAV9ZB1/1A+5cwuUR3TFRlSh2i3KLNnKzUO\n",
       "i7UegadCTWvbx1ntZB+v5/gTeC5QvKOrHiUmSeneQU/fGIvZiq8PFpHrGUFvS0uO0SLDEuVHx+jl\n",
       "c7StRHpYVM9gQ9P/6skW7Wa3RNQa+F8VzIiNMwMfDUg2x/Z0vyB5MTYOwqvlDy1AjdsrCIcd7eJl\n",
       "tGZ6bO53Lo7L/fUjFon/rrfVsR6Eo7tK8QncHnwnhZqzfC710VSN2lSg+f4L4tOwkcEqxKGwUOUM\n",
       "Hq2gLpOBYzLdKY/mF18lvBMU7X5a3GugXPuEExstMXHKsCrS8/GXumKO5xgQPLNVysfU+WZKGobX\n",
       "iwwU6PBwXDklxoo6ok0TPP9He1vGBynFLvkwWNYet1T8ZWraqgSoK9HM7mJ6cLStoyQP+j1odxJe\n",
       "JuNl+UlpV38/wAAAAJkBnmNqQr8AWuMExxyD70Q6PucvZhUcH936LgQw3y6DdrOa6SpMqbq9IKkr\n",
       "pmqMrGi2kweIppM7vyh7I84ODbMfB6299Mn5Y+qS8IflzmEnvPlc5Eiy3FBCKjvCKqifx0/7P7As\n",
       "+T+4eefwzRxDpw0iuyk11poLOxFoEUaTWweRaT2pHpL7F5jPQRR3nfclO1tvSFaQj2hMQhsAAAII\n",
       "QZpmSeEPJlMFPDf//qeEAFR/jCHSsjNC/gUvqVgjcPWgQ2ERQyIVeG3+LWr8TClXg9OvhQAB2+rm\n",
       "3P6rcII5m7NWiEFqTRHRpoVCU/cd/kS+WdV8b6XJd37surs3knOIm+9HS6+rU0dLqOy5c3VsxO+B\n",
       "A2p4rsG4083nXj80+YWN0vBL6/GiFxCZ8THSGdIenPZl2MSJcCvQRcFjoY8t+xWkrnB7//6Nit/N\n",
       "R0DGtB4T2a1WLd7HnwFKiMl5hUsuLVqaa8uttQQQQiKWTrBEf1cn3Rkk8pHorxGBlwJZW1xZWeq3\n",
       "MueMDoGaoMr47izRwsHQYeti3GpeCOx+30EMTapGpQbFTyqvuE4DtJrZUAFdIzQ8djAc3ZAv9nIy\n",
       "hloQQOr+FLL1a3R4y+vs59Rsh4ZfJ0cFEMj9GG3ffjIUhOLqAzbIFXz60ivl8altYiTHFMdliru1\n",
       "EkjBcxwkr9ec0kLI9U5Xs1GdORNgsN+9UqwsD7ihTo/hJLMdd0qPR71JueQNcvqKiaolN4lLTEnA\n",
       "zPwJ1U3/5tQ6fz4V99O7isk+VYjl1vHHfv9JVv5ybco2ATF6mP1J+zYOnajrPPVgcf6YbSjPXRyV\n",
       "qmkubQMI5FbbLH5f9a0U+zgLET39WcY7BVRRCKdh1kmvh2QKuHcZMVlTQrflDa/UhmCVFYxaYNpI\n",
       "ZhqjzizUgQAAAMYBnoVqQr8AQ1x/d/ZJL/++jFLIYVdLONRx3DTLSFIdR6jg08PmLIBFTfCXhYBU\n",
       "5gGVZO9cVRn19THulRoTBVSDSytgerx3Us3ZWJHZPtDlXdMfnvfNyazPQTEKfscjy2k3+m+MOjtp\n",
       "vye6effByYGk3+NjUGyxW7GuRZQZkqDvzpqw/7X0mVd+Z/5K4NxUQFCzPNSAwkRuGIknUU9gIvN9\n",
       "NaKz3cSRYJLawa4XamXmMxThRgXEJpQ5WkBkowSaauqMX10XrkEAAAINQZqISeEPJlMFPDf//qeE\n",
       "AFI5l2prrYlXjAgAmvLur9eDI4H4GMnnd/eMxuOZAPjLSrr5qgI84Npmh2OJW31mJn8nG30rwuYs\n",
       "tU075GnigCGIQcOenCirONpgk76i7HbUaAUG0MGjiwpry8Sl7Wca+98wI06tug3GT48z0a4ead6t\n",
       "OtsU//ZqiVSUM0tGg73En/g/Pg3/ZPFW7d0SpbkVl1UxvqxTpvaaaw0Kb3sS0QbMBCd2bPGNe9B/\n",
       "S8UrVz4OXkfjTE5wqlP+jwKU7VmtPaYhMSGkdGowWv80a21oZHJHVzbMPcS3wH0T0k9JcoaRONFZ\n",
       "85cqFA/rwcnmV/RKC9i+qOPkNpcj9hpIsv3yCQU6IrxY/zwvoDXueh2zXWzfOylDeiy1UBUWMYRe\n",
       "tiuCcvLWDADI/FZaP5eGchfhFCHab/yjblz6c5FhPlGatJqrOh2z7DVd26gUNGTQtHjz0FK/O6Lz\n",
       "bUHkdY9bsWMrawjoLTV17MTqVsMjBHjxHHH7MalbBraWDOwQGeBpI1Y/2mMPnlnG04GLNdIXRpe0\n",
       "q/Lbs8885hAuE7ZiDIfjcRkXUgHzp1864Lc7URULNmaF1r7aiYeP3dDqwzo4nx+ThXpi2giTMJud\n",
       "xAp4ugV8RetugxmIWVwnVapWRl7defSknPYnvrLGwRz61o8ezs0ArMPa9plv5zCFSrgsezdhAAAA\n",
       "zwGep2pCvwBBZJYy9J3vCXgBNXnRmTJig1Ok/5wt7gsnNtudciakXv/1wd4OS56yqZbuJtM6bAP2\n",
       "7YfNH0mxjyY2UJN4m+H1CHXWG0Soti+izn5qNdN0Gulofds8uCtiOYKmPuBTon6F1Wp5kc3Fqijq\n",
       "XigIdHC0Vjkn1vN9ZmjjXeeeUs46uga7rFR5iZf+0HAMagKrtRg0uwOrwGC/5w1HRnoQQFdBIvC3\n",
       "P8cTG6Vfv5xOA5n3IfeTAn4ImzIJq3wX5Amc2dVXUjrBSWDfgAAAAZNBmqlJ4Q8mUwId//6plgAV\n",
       "T0o35mtjAI6rhf2OLglhN29gEpNmsPSqQ0AF2HlT2n+tTjS+CVDG+bvg8eLvsTocAxGB2cDWNq62\n",
       "BiFNXjs2S5/tODsVPpsg/UylExRPCsJvxO2OuMOHwuB6J2l4kIfjxcH72HonIm5d6a1XYYow1LWc\n",
       "i52JeN7rHv9dSPBqx2ej4dNvgKcDEgmh33yn5x+7C+L4fYjA9qckjIYlmYhS28HIRK8cRv9ynOzI\n",
       "zfDV4T4D5zQkjGH4fj8uY3XN/pIUvKtuktuK6s4vWOwCq/kuBAHDYDRknXqv5sFsBHikWbGJFQSW\n",
       "+jlvUSlF9qrj9T+BRPIwyYqWf+cjGgLRBpTUdGnesNVf7qgdkL5oP37FsJSi6U7cRgM7YJIdlFet\n",
       "sgP4sTZuggtoe+Ao3GTQ+pA8Mw0Vqe4WBCaKX9c/LQ86Dyc3eW36/pT/7FPBcAN1fBc99kudjSxe\n",
       "4HrrJ9VjTxCtVVvNIsZ9BXL4QS3A5gD03gEK9LgtIXF9IYeJ/LgFwMHnhcQsAAACWUGay0nhDyZT\n",
       "BRE8O//+qZYAFU95cAnv+XdB9inH662hQzDFI/gAA7PWiF4OnfHnYNeFF86sy5N2qYnyKmP8G7nx\n",
       "3Gt7tGnri5fBgVkUbFjBl4R5kkkDHHMFnxI0S5kkLjshM1LdNfNzKnQW6vf9lQ0icMH2ej9Ffh1C\n",
       "bV+VUGbWea6siM+ybNaVEzzNiomullBkWWLZggcrPOCJza/HT2TXXr8rqmR0aQsj0DAr3Ms44T3m\n",
       "ggWj1CvS83UDJuah0JIciZKOGt9Lm6XGNMo+kRYwi9vNCWPfqMCWBatOfPHiws6a+GG+HZgzdXtX\n",
       "ZLlUuPUm2XSbJV2x/Dz+RJxnzvbBxYn1a/8vtiHNDq+G6iqTNDSKiO4sePQvdxTurWbqbTUhS9rs\n",
       "zjVFhsoGFmo2z+FAKPdsZxWMvtOmI0W7lSbtp8GDrEb1Lq1LELiPVk+dzGYofPnsuBASjlxmMlM3\n",
       "Zuh+EaxiXOmk6MqRxeYOV/NLFE2C4EntL5VGkBQ3Hb9/wM2ur1KhNxwbh5VSUTwirPM+pru6A3h0\n",
       "4tyPJKLIW3NtWkVv+29s87D+4/5nn7QoVE1qLkOP840V45bNph00rjDv8HkT6BjjydFVXOOWzCSW\n",
       "+Jjn3PCpfSF0APhV0kFIViD2E2lRmjAjkxtq1zHKrU2aeAyyczUyYm9El6q5uB9YDiXuGXz6OeEW\n",
       "WlFmW+sYX/WAu5wMn1+kRbd9dU0+41Z2/6ZzRzRQz64p9whqM3mdjFcXtdlacKBUsr9q1SZEgP47\n",
       "D9aQAhcjGScgRQCfUtyX01xLAjAOzOEAAAD+AZ7qakK/ACGyE93NdzST/4+wHhFXDPJOEQJU2IAV\n",
       "iC9c0/28qT3bA0ujIf++hC85He9xVpRcV/ZUFvXp4FR8zEmBsKs+PebKnTQW9tryJfMzi1AX4YFu\n",
       "Yo+8C6+sh38ygTmMRL/9V7SSmxcvVUg4D4FHqLhhF5BSMpm3rrKcp1swgw7rN+4LV/kaZ1PN0u41\n",
       "OluBxuNr8SE8DPdUeAw2FRiDy3Yu4g178MXg0WQxRcvtf+AMCAFW6E+iGWEu+ifJNGAOQgatGIwd\n",
       "TdDjPcTQu/3BzDAoRUxy+IpmLk6pvsCCfXutKS8cIeHDXNQ+hCa/q8DyJm9LwFAZzzXbhaAAAAKG\n",
       "QZrtSeEPJlMFPDv//qmWAAqnwDZuusDyO7ymPZ8enfnYAA0JLRW1rApmL2NRMetSUlMeSoBDt6hh\n",
       "0+ayLn0AqTXq9VR2IoxoECknsSi+Wk21n9gSyGDGufZ7PMDThCLJS9qPvPsghcm9tU6/HUwiLrLP\n",
       "0spdV/F6pmlounTwWiWD9uKhWjxdiwbhE7QNKjiAux/askBMd9xtr5D4OUItsxKephSYLH8FrhQS\n",
       "IYeg/l8Eeq4Lh2j8b+oawzaOcWTSP6NeRFgnBCMjZ8wcaDykww0E4wB5Vb2ltEXhV00m3oXdMeRS\n",
       "gFvRIIOqC3GH3L6fhB4/LUIaajL81vy82q9sKhmPwjuY1G/2EcETdmmPewf0GFIwduz+XG3mbp2d\n",
       "vYqHlVQzkfWpsv8pUtBkWVy7r/ZPtuDYq+AKZPlKnlYIjrIn1X6Zbfq/SW+YppxBi2w9YILTjtku\n",
       "Smwgtc5fh4DrVc//kxL2GDJrIRhm7wQVgo/vsQqoCtWxCTPCmXcr8EVwbKxWF7bldxdZOY1fCoF1\n",
       "JzBTIv+sOoSGUT4Vt6ehXctRztkwnkoOf1akh7Ps69umem5VafECFFuahJTom4ow641r2FLF9ooQ\n",
       "tQFwTQL0nfquJMJA2jtaurF1Z/98iBcVglEwbxOCdFX7qjjF9i9pvnQeQNfsaXWazNA/dZGtjHKb\n",
       "cFQPpzF+RrN8Y9tE2ZiU1LJYufvKpI/wne9seQ4FSRTDVqa7isrcu51J9kPFezyzIQZySfhImnfT\n",
       "g4MrV7MLztnb1ik9tiYHmsgMSTo8FXeyjcCIoX2JbO9KcJaVJfR/mfujvHkPV88Jm8VdcA2f9AXA\n",
       "KAu40sz5qqJZ9YJ/u7C2AR+tuAAAAQsBnwxqQr8AENkJyYWRslAprDP2fcL/u3ACau6DMhLLE1kD\n",
       "bdg5tuCTADzv8WQ5eEEQ0wdPxlK4eG56Na1l+YMYwtTZP+uGI4gfH311NWs1TtEW+drnjkR6IOhn\n",
       "n1g/78T0WR+bB5UW1ueRruXpoEFWVaXruHGb6p0+UmurzrRKj9ABaRYjGT8bjP7exgKnPCuLjonr\n",
       "NHOs9P8AmtTfyedswVqQyhULsB+vVUlAh7Sdbsbj4QntS4xhA7CQ6yxclBB+MTN0tBXfgpk/5seo\n",
       "w/ivnLRw3VXDp1rsbl2jFKLosuXfIYghnsBNItkfUjO9kYutEZx+1gpl9SuEJLimMZVK42T4d+36\n",
       "A7kaH+EAAAHRQZsQSeEPJlMCG//+p4QADc4GYsEtDGzOZCpLtmO9uAG4QLPz+z7gh4O3wgSagPkd\n",
       "/vZYIKUpLaWHFpYQItiGaBRXrCh5gKOmonvEtUej2ydsHgFVhtWUxFF/kLa8B509eEppAPVvGZO4\n",
       "nD1JI+z7qnEwMn569TwD6gZ3VAXlC0PeCbuzBtJUQbJ5db3CkSgxfY3DVxgOfFUUVbrjC/uiZrsC\n",
       "SPLb1E0mFBjVMN8HjDNObdqj5tBxdXqoftRcgnuiRe1eiaXg29WeAmM54LNA/7RnSpt8vJl7FYrq\n",
       "h05lzQwfSsotVCNQMswTKaieiBBY1yim4Mk9kWVtYStFpYwyWth+dJ0UTMVhdUgf1wSNiTQVHfNe\n",
       "qZo/vbd71H+xgenAnXrbEcPSW+JseSHAZdFfnfx+jRH0m+z/+q4v5mfx+XyquIj3A0XkkNz55Z2O\n",
       "UARMggShO+HgswyLtyeyPMiidcwwq/Y6IL6y8NBs+RIiTAG/Ln3A0XbfQZhNzfdAqi6xuQKfpQKQ\n",
       "XviTFoPkS4DwGNAaXfT67EGQLZg7h0MCWOi2PIv3PlUdheBTSDVnxCYVNtsd9PqiCOj5XPlzWOD5\n",
       "luZnhQ0jwbGgWy9CfuvaAeVBAAABwUGfLkURPC//AAgs5m4+ftvwsfAMKXPzJo8xPj4SWllQA8AJ\n",
       "2QdWuKSRtMknjdLaWouVn36FNmeuZ0Lai2nt65FaZsGoNgx36YbpOWMGSv6/3XW3SCs1qkDMGx+s\n",
       "j6dxZ2ONw4zVdSBTYj7IiAbZxiIzsiciG9HDOIVOMJqe377XxrhBaaEsKsFfqkOUypNDitXZy/At\n",
       "F255NcTwHkwjICobGwFIQLVpKZGxOIKSQWrAc8lCoiDjLYMB/+ijAEgSdEiJcRcXb3+6RAabmFTS\n",
       "1z8hgnKyjhtmOACwmtZOYS6CKF53IX9aG3ugPGHoJeagV37U763CKww+c0XPBKPqls6sO7mhAeVj\n",
       "jGgBlylniAWkt7UnMdKOthRYyuobXlAM0XhI7mJjyJzW81JfULgZ5IBrjSwcNNeIuLlG9d53gJpn\n",
       "WY1AKkxK0DW1sreCLUbL/EJkS38Nkvpk7nz0uCu+pTJBiYTDqiet3cyuQO4JCTs9BnCRmeAMfnER\n",
       "MMzB8WFR2AMGwSSnUNdQkSt9533Wwy+pCI0isTUkgokiZy7cjrmJcnsxLUSfYewMSVQS4uiDVHdb\n",
       "zWxziOmkrxDFbwfr2TbhAAABTQGfT2pCvwAKzYKiJ1HlUCqt+wATjqk87PfD6GCdTMCKS1rBNBXa\n",
       "muQiDfRMVSujChavg4As2NjR2SM0lO8bECJzxmsx+SLmFbzvQyxcVbAsQAK4JGXKVOxM1SAtALaq\n",
       "NJAiMh1VKHff0Y6zoBmV0ubHdRUiI9nJb/KQTvpaRnmHo8utyONJdZKSeab316IW2ORN1nvHpoab\n",
       "ulxAWH3u3aOZHUjUInsPiWchuloMyiXgVpKEbl0AOyRCrwtcT0fZ5mygyly7fLaKSiyKKW4YIwjl\n",
       "+IeDbuyyEyUtfUY5vxlW60QDDKJHTvpE2yEPPUQk3Gy6IdQSS9eOo+o7WGHJzKzh0db9v5f6oNae\n",
       "KbtnTaMRznst+gAWYvl65HvAcUdYzFhU1fpt9u5Tt65LIaBOyfvNRPxudDSLUgIO/IlD/PkZSQJm\n",
       "bOx9qW19nAfXgAAAAqlBm1FJqEFomUwIb//+p4QABuh6UhK/h296zp1AAC6LoPrVvCTb4sKZldYC\n",
       "/z/BM2+eZ/Ayv/ySaaRjgqieFUJZy5Hmt5AIiyvFnL+aITyTDdsdD0bpphrOwi5EJPXLDIEUvP5G\n",
       "cpgKpk0An0iBS1w5e05Je4rc0L5mawTvZBj60lnGQ+r2LurBVvXu4N0Gti5z/yXObocdyiFitj/+\n",
       "0eg4TrdR+UFuEg5JdrAHnQnZBHKDGu7qBlZQocpcoKB5Notm3+W79BuEubSiZh/VpfvvV4BIjv6l\n",
       "PbfT4ypAJEzIpCRrS1TZxXT3xphzh0IEwe/vVvUjmDCF87MNoKcB6TOBtxh6umrJw75JOvEK1LUw\n",
       "+JG1lKhBqHr6mVgfHYcr5WdQyPXQjOCeAWIPZFczE9dRKEHfhOBTtNF3/uzgEJMAypy9q+rBPNSk\n",
       "5MJ7epv2Zqi9lU6kskcgb2BdO9okOPfdrO7tTQdHcvbgenVe4N9UoQLa0BAhsJfGKwzMnwPn13Ig\n",
       "jf34ZlDfj/FJ4naoU+zoHBaHbzH2fv/uqb0/g9ZJoD6qCNl/nC3DQps1l8qc4luguuiz18EocSL8\n",
       "bJI5TycBtVF4mPVSiyQbq8h8SCv00WbOQmo4rmWoOvAnvQPxWdrRcDon5ku2OsZNdcyr4ayTSiCI\n",
       "N5YFhnWbcMBp/YylkvUpTSKP/fCf1Vl0+qBwJhM9/0W1iaOWyH8uVg3lyi9U5O2I7B700mX73hUL\n",
       "+XcH7gJtUXkT2PpGyee7hC6XTzZuJ4AfWmQyIif1JRtMpvQgh1seeoEm0RmZ6J61vBOu83XTXhd8\n",
       "sAk4lrjNT900PJMMU2J17V1OLlK68dTfPGoZ0WjDvZMMCOXJWQRZpauuqgDYR+wLTDCRfUnpo12j\n",
       "s/M5cN70gR/uD7gAAAKNQZtySeEKUmUwIb/+p4QADIundlMGyAImtZ7J+aLpQSwZY74HtQvigepO\n",
       "1iOnhwWTJMqkzxdzPSafG437Z0UWK/3ktx7YQ+yPlffMLMeFAGK/AaimpDsXuhRLVQ6lagNM3Udh\n",
       "XObX6g7vLDUUtQ5dpeDCvyjcuOMAhWxJ04ULsSLHarZseHYraI51FOArlISgJYHFV9Bsf6uTH5Nf\n",
       "YbpVdSk4jOJjHn6ju7ywTs+loHlEbEhzyn8HkaCJcXgCmmGu72B5xuuZUSv672KGw7CyR9oSublU\n",
       "vKTRF2WZKIAidMOz+guR71IeRWCtlz5KyjQXKekRVkOodDmXHNV93f7IMYbDClkbKpCeYZbMWJLO\n",
       "ffpXdyZ0Yg93L8aqU55yA8FD/tYVfR+D0FfToIEaP3uCbLU+TczCX8OaLqDjo3ARU51dwPyMoQGx\n",
       "wQIzRoEv4mok2BEetHRaTa5TZttszPqp32EWX+BBeTvxpBoJTelsMHBPbs9IEtFHfJcivwbRVfX1\n",
       "EFGYU4k2+hY8jtA5F6b/Xgowmw0EVcJl4LXTeIkLGUKRY0zl9p8ayPeGB0viyb/NeucplybeUuEL\n",
       "ORU66YHIzID4crMb6ou1BKMEDclfextfYP+A2W2YeoQqKO/ZDzJHhyPYfpq/3XHzmfpIx2k88f5f\n",
       "9/6ocIs715+HvBDAuCqX/ob1B4/NLO4Oevupkzp+sOMQNHcM6YJFdapfw6lcVPDhZobezeKUXuyz\n",
       "J4G3bfbsm5dxuIv0sxSoaak2WX+c7xoptPpe7G3SRINmOgk+Hk/nz++Xzc1+5L9aNTruOFfvrMu4\n",
       "mS9C8DFG/YczTHdoTckD4b5ulhGelVeCr+fKs2ExiefK5erB/WkAomcAAAKtQZuTSeEOiZTAhv/+\n",
       "p4QADO69+BoXwD595nK4g88fsu6cJmtQNYjTz4AqqQRTsry8+qOPAiuuqCFQd8HA0yXwrYwI0BOt\n",
       "SF6+mLvl98E3yBqZnl/lChqQO41k7ClD/LRHmzao3m9jO9noVc8HAaycDBHQtR46eMgh17jgw7Cz\n",
       "ejnRpZWlFlQ2xJDLHMuzjMpEl+CoZTqUnyiw+OqG6k5DNuBCMXQU61tfuSm3P8/KMDrXnGVPHAj7\n",
       "FFrK5uYykEFacekST2s/DyCUWko1/EvLXSZLl+JSjkHfXSdOj7N7B2K1Mn+VZqDmy8c7Ep36Bxb2\n",
       "RuG5H96k431WmmPOL+rLMv9iMbsnM1fIoqppyLbeXmGkJeBn/2AJr+Ap+OF5M6BhcFJoawHLmrNE\n",
       "239ioN84px2yHXHS2F06DeQUw6my7Aj/3MrKk+GNg4Jg78OBRiNE4ZKmjmeG3xqY5qU3jR/0YrXp\n",
       "ND47KmP43Zjlbxyz0CHnqui7ACFexdCkSh211LpXLsH+5kwNOkS2qzgAxmMVouz08RSckrKhtWq+\n",
       "ecnKlk6KW1Ox4KemL1v/ix3UjlERDpojpzgjuX3RMT2WL2pb/8WnhKRbl95s7MuWGCArlX/+hVP5\n",
       "x4hCGK0mSSMQE1HWTPpkhJJxFBJGLb6inpDB3hs1oQbP1oGoMN5PtgMa6sDZy9OpdDvBlJpvJx8K\n",
       "SWdnx890FKI+qTMk5wcb4EklRUDGuqT7iL/pmJ4w3dCISvYbBej+0e6ZuBVK33Z1W1XcO3kc410W\n",
       "4CUVdzEjJo8xTKenT49YbmO1+NvQc7qdKr/WFqyyJiX02mFyOsolIpIWv1ahfi65oivsaSfBB9GY\n",
       "7pv154pX1wy2OA14RT5+fn/uVnswn7oei6qsrFvbGviDUiBXP39a3YlrewswgAAAAslBm7RJ4Q8m\n",
       "UwIb//6nhAAYd0M0mVoACdtfQCU8TiRChK4l3h1mNvDi/dqQs/2dBVY3Mryswy66BhobPsSpcFAP\n",
       "hSqTgJ+XNK/N/eYcaxK12EfsV8/N3pARt7T665hSgPIwfKl9eTSmMtFFPnAFLTQFlmAjIiYoowB0\n",
       "99rBmdf0CmyhifvscGfC9dH+5c3y/7G8Q6bo3xCLfEn/GmlTk7H6dYNJya89nBczJRzOcJltZ6u7\n",
       "CXrHAI96qcfdNqNnGSpw4hMchVzJgGiruLgAeu9QNwG7KK3S7hYhenHpCEXmoxA2eId7J6bIDlwQ\n",
       "k3XstXCUXyjwa85FNfTvr656BTbc+HhjsK9AWDWOp01IfBuPtK1Xg+zZg8Xh6CZTZlQLNSVeq8dV\n",
       "kGHOJIlliN4PvZch0PaCdKsjtnrt7m3eBcqATagf3xWAbD3SolCzm4VyXBNCfyVffgLWD53o8yML\n",
       "Mtr2orPN1+81rfKNwpKG+k+DcU3xijWTkGa7eYHgqStsHhpLFAyj8rPrY9Cyvmtldx2M2Xz1RDNY\n",
       "J2VHSFf+mFoaJC2MddPOiwO4asADi77GFUV4he+g6nArRn+Wnjt6yD5TdbzNcweI44udgPSh7pjV\n",
       "wRlcQj7WeXlItCx5RtZD2cqMBoPejdtkegK3gDVRxPgrPRDIoC7bRKAdRNKfQpQ3MQ+T+5Ha4ofX\n",
       "18fDSLWe5q4XQWVQAuXNLUv1FlXKTMs+uoxvOCeXHi7tbtlwTDk3/PII0H7Ao1pRmXCpDiiZTZ0W\n",
       "LEH1rOHOUjZgJJqpCLHJXk42y7E4rCB4BKM1oGQWlseIDhNBNTbQGkLyvBBhBMbSLRU+eWtiu4AD\n",
       "FMG6ctGqFdi0Bjeec8WqIZyeVWXTVumxqOJIWWGytVo7BP0GrCaryKPzzwDLW1zi8nTwfEDCjEHj\n",
       "Ruxxz0DIduc7iFjfooJ+3QELWXeTgAAAAxFBm9VJ4Q8mUwIb//6nhAAZITwgmDZAC0Zt0e5CIN/a\n",
       "GHpetlZoOzoJKi21RtCMQ+ywa2QEHqr4kFp1SXLh+QKNRqyY/AUJ3T5btt14vjfwGb6d0cP8yv+4\n",
       "NDebc1mAiOejmFBcq9+AAsaHhmYIVkOSvte6FxI6F+JzUS8RISyDyGVVM1tdO8mOh/L5Aj+UH+pk\n",
       "LDYcC2u+kt5bXnCxJxeReVmA3vOFl5cBRDSnalNn6G1FZIxMRUC9/h9quLkUPxSThGfFYhPugXgc\n",
       "/HjZWnhqNS2yaNUqxksjqgQ/iM/5UZCkcH5FP9l2NEheUAQqtew/qEnDxp5TDnyN+FOWDq9ieAqA\n",
       "T5lNde41JCvY5y4dEQBSnQkxgvAd6IyTE3BFsWwO+aPzlc+1rLcv8XbuXn90dN3UidbjtyrxwZ1C\n",
       "fFN32EyIn2HV9nZTsq9JKURrIfuqPusNbTCHhZuzwY3vGB7AuIkyQ6NRU128RbN0IPmVv7v7gLZN\n",
       "emA5bkIhNu7smUcltbs4fDJAvrChAP+7SWsQrWV9fa664mytLlAXnevm0DhVhQT3xM1J8vKVaEU6\n",
       "TncvdGCbOR2moXAsS6YN/iulAKFt25QYy85owFdjxz3Y0embDBG9BvqzR/j9R25DP1PCxusnZU6G\n",
       "+wciqo8SgyzzkVS2t1mikDwof1eE1sNhMxTIxdyzQQOBdgVfrDvvk214j7pjdHxPVODR4f5zBGYE\n",
       "1PHT53uEm/f7ty82D6IGmK/C1G15uWiq27UwW8mSnrO/oL2SJpFfAiT/3ceZMvIzXF8gBafETeDE\n",
       "x1boRp4ffo4DOye6AEyUgPsyBqVoEiNA7Wll+9DdZ0Q3bvT4XseYtrr8EFTDJ7WX3pkXZAW6G/Jf\n",
       "uEA/IfoaoiSVgtOzG6APzdMKJHL/6kP8TkYTTh9kEyPmdT0Uc++tvR1Q1t5dm09U/ZMY72aHNi2V\n",
       "sEQqqWjKq1QJDqfdIWrsA9JITWn+D9YSwxYpf970TaYPpeps0mfOzGJ2UczSK4uaqODEyPiW8ZHj\n",
       "9QABK7ZkTaQMrEvZkwAAApVBm/ZJ4Q8mUwIb//6nhAAw9oYIr0kLN+mnNFbbTGv7b6Jqm9ieh81X\n",
       "PAB/tpviyF1WL4AyLxAxnDsicbcJwuCBtnO+PhEmKOkRS87vHm6EgIfJewaxHWEhBtG7cKrjCV+F\n",
       "ldWB/fKXed4ChDvzuaXjADhFO6qpk8QcE9RRtDIpL/KlRy1xEQbSmpOR7JMVdWEpIsk5lEMr72T2\n",
       "IGVSrIfR/2DVGp+jrMq8EFAof5uVaCP15Xcv7wgymhZUZyBlo+o23OT7/ofCsOZtYp5pn1DfdJy4\n",
       "N6yMKhJj8qMiwcbsjvIW7M6dwiQAG+xYij0ew71SUtoGlFuirA2L0JjtKiPANnVxFAHQAnqmwzyP\n",
       "Z694Jsb50fkJl59cYsDmH4uEar+6eaFS+ofQPmkLgoHns/hTKh3T5vnIM7WLqsZ3+eZKJAnGhD8M\n",
       "G7URV0RLTEDCGu4//AVwgfuo73M/u3lTzyYXjtcV3XlHczAOwdZXgCddrxfxxTXErQlTt9n5EhmP\n",
       "TNMvzRB//Rpk+y1Rta5YjQ7qBorI/uNiIDYp20HhSVuSZXkGFpvqw77k+TjfEwP1qqvB+LurpFOg\n",
       "wHGQTgkKgm3vzSrYfP7PNymygmeQblzAlcqQXfikxtlGA/vPpkszmHhUQkVoy6BMAVy5z6dM56tl\n",
       "AfQ63mLoJWaDD4CSKkGDmU8musOOalwn9AQyfwz6qZaZHMZCT+/aw/M45SvGscwgZ3b4M9O9zJI/\n",
       "woHif+OiEsVOmUh4c2JVxEOMKGbZPYaqVbpjSSnz55eotk96EQA7m5+XIsydgFL4zW5aRwntmziL\n",
       "GJNR36QsbOd78gOs4m6t79KpOtGGbq899SFTLigxlj0r3ChkQDq8KAAolwLbDz7Dq+OAAAACeEGa\n",
       "F0nhDyZTAhv//qeEADJ8j8MQQOr+FLLxf9zO1WWAE7xj36K3iwzT0bU/IX/JL+jSTY89CcC/H4mh\n",
       "ruWlaR7Hr5hUvzaNknXGAbWKADeKJeNJ+mbcWDhZl3GrpvDsGVmbqTCWBOhwNwUNEv4wSxGyniBK\n",
       "XDYm4mWZTqYkspzYvv8lcSotDmtVQiBNcFOQZD1mplJx28YwNdwGkOhwNC0zDI1pneaokA/hKrtm\n",
       "qZi5YUwK3QlG5hBtg8xCfuKIQO1NcGk9G2XkkxIWmpZ6tFqxDZlCTvdaKcwWMK31OXYH/7KvoKK+\n",
       "1mfg9CCyUwDS3L6FdF8IP8vETb9fyzDCJo7MrI+EqhPWT6lgUNrBICTReWJEocTsi8mdIRDXQ3Dg\n",
       "TZe7/wdi4LhLhQcwvFVOrIbFddnNgnyz8qt6ugM/30DcTpVrfHzJg69rq33/30XFBkVeevxumaCl\n",
       "bpvu1l/vf1V9vivdkpkjxirj0oviJydFTjeKk5xhY9Q2tQVMp6lL0DHuqH0pHmKQm3pD+v0IeVXK\n",
       "4SkH9DnzBNI3szadpo0TEnNh3/9UtELelWhKNgB7DEq64wwP6qnYluPSQ7Ec7jB2RtdNKJk/hwSW\n",
       "xbshAYeMpySS/2C4hDAIKlJvB7HWUIV3G07yXkwntAxDBSC1mVZ0SNi5mThtxiiYZ91+yvARDKQ8\n",
       "YTrFJ3wMMbqk3jc6POFjrineMezlBEqnhOQUPGKpiCia5iItOc/4WJtUyKXFZOJUY4j/pLH/6HZF\n",
       "Bit1y8e2bi2qigb+OmTGdzq1rr9E6OzhDfPoMBFGRhyKBh1/m/hVZ7V24RzafuAx8nopSR1ZYivL\n",
       "KExxAAACwkGaOEnhDyZTAh3//qmWABlIRIbcpgBwPwNh7rxO69TlU6Uj+24E4lejX7YGExFjzmDC\n",
       "mQyOzQ6M5xsSLyLht7m7nVnMvt2wRDlnWEDjnu7c6VzVDl+obsBCl6YbjnVo7UsCzNFlUPll1IL/\n",
       "zUEPRVeu3T+ONCJuS7JQ9c/+7oVQ0zopQr5VrQcvoTn+gX3HVe85n41Xnp0j9jQnsorWFzv1dIDv\n",
       "CROPAFg1OgP1MaZLGmM3FJaogBCWy7MSOcAzVQ2gQ2mzTgXooKNWeYneFofc21h8ELj8Aa2vKfjq\n",
       "L/sjTbtTRw+eGpCPWc7u2KG2RFsZAJblmHfT045HEii6Jw3BijuQ2rLO4Mtc/KwC94SWN+l117Py\n",
       "owCm12JyxtIMsUbZ7El/quSn3JeznKb2Zw6EbghL7ehI4YNAZFl4fvcQ4VaGrI/+YCszVsumxVO1\n",
       "6CQyuvi5h5HbjYzIfRnBMW2X5f6kDLV1kVou/nQ4oGihG+chwQkkIo5jcmca/FRqzGMdLqLwEzU7\n",
       "h5C10BpzOfBTxCvQilDNmrur8B3qr2NXn0977aBjS4lE/h58pfX5Nh3UGdn/h+7Ij5vLTk0Z/BA3\n",
       "EkT9B1/to0YhTTlQe+MWllhY21Nm0j4GdbbzxcSS8aehKKgGxKmyF3KW7OKklNqAA7ax63HRrjL+\n",
       "euKiojstyTm1sNYUnx1afOZmDZMQH+wbObbpl+QD1l8vnELP4tsUbplACL4TDR4zOaETyqOiPjCb\n",
       "MmPjSqRy99ferIxKEfNwNf9V78l9Sp2rnSPl5TK/I9iWqx3d7V6xDsD1JagSWsInKEkmBQYf0PxM\n",
       "DUosUnkf3fpSTg+ffqR0s6q50ogyNB5SK+WgXd8PlWLXr+u0orebma5bvEHxa9H2RGNMeXgZLZm1\n",
       "PkHH3qeE8fIfYjQ0EMOxYB+eDKLKGh3v9EO9IiEAAALWQZpZSeEPJlMCHf/+qZYAMVHoTjaFHoQx\n",
       "97zHkEReSdW7katwZiflqh8bqeBbjR6FASIaQz6t2/JmA9TLA/QseNI5bpcjQRMB0bUs64shXN7/\n",
       "qbA7Al8ueJ2wlv2jp7zjYBFg2RmtmF/X++sAvHRx3CpitQUdBE2J+9a3i8UazYt1hA8yyrUDd7FQ\n",
       "8jVRkhgnQrmesXyJ0uq75fDcC39AuFqXtYo9G99xYnjM0ZPmGi21GfUBmLOpz3O2K1vgD1n/CZxS\n",
       "LAL1iONFXvBIC/9dAbMPiiq4aUCvSnoDjhdNKAsUE2IHyvbjGHsxHjVGNE5xHESm9OPTyp07tR+B\n",
       "zXYZ7KGBT0MU8sRebil7pq9DI/hvYkaSf+mSb/wpHU1xrZjUP/D/GEuLTwnUMLi8JtHZHnj3g/E7\n",
       "BQELu1sRup7VAr57SvEiGuKYKqPb6SgCk34zPdRH2QZCIM9Z5fxLKgyDVediM4T0KvUjjKwJ7o9e\n",
       "y/7ZTANAsd2JE3g1cC+EEZp41KywHMbcXOZQqspCXHgtlC4Z3F7Ljd4UJU3UTqHVT7jJAVUlcmU8\n",
       "HrlmsHxVbqi52pHO/lOfkXYAgWiMoefcDr6CtmdOc3m/mXizLjmMcFCTsDErRAsKQ/FicOok60VS\n",
       "J9YgnX/dBP6mw20r/0R7k5x+VLbHChd8wYRWsiHL0sGL58X7GFf9ttoxS73JeAdPbBzSVOUgd/f8\n",
       "+gphZv1XHNvG5gUPlY6W6MrGpQBfrPgU1qqzEgt3cDznXnuiZKORUap6xfsIp4GEy46XNz/kdcZv\n",
       "k+zGKWk9m29JMGOY4EyZZpKQlDbArkSaqSdgexpfDT2qIQGkXcJP3Bn5V/g6UHWA4ofjlov5A2WO\n",
       "VBJ7AkLGDR1ifK9etWTwO8WbIV10EylbY6Tt1RZdXAu0+dgyALtQjhG5WJ05KTugHZ59TAbdrn3A\n",
       "of0zaHDF/7QEQmiMUIi//1DAAAADbkGae0nhDyZTBRE8O//+qZYAMpKFoKF4aVyA2M0gMaRjrbDC\n",
       "ni5BhRYdcZRS8cAQz10wKllJf7Dt9uvqOey5XQKf4fzkOBscAejlKSMA1FnITPE5U2oypovLWiZg\n",
       "CL7QMnECZLs3KDrsVQCgqY0Gv57QwcdrGCVonoumvpbaqsAxWEiS0uJFrlRvB1ZsXthF6UUEW2Go\n",
       "2ZHa/q9m9bLloHV8VYwZzDGeFZ4N8IGoh1DXeGH4ReU7Wh8nTZfVYBm6DfUG7V/CoKAMt2clO5vo\n",
       "cvD95qqBQO5Rj5gWTQkcyg2BdaITecnnhvI2zfqQFW+Q5LoR/BbZ717NWfrhbNkhagghhBcy7PfE\n",
       "KuhaH7lzb7rAx7jO2GN0PVNeAIEdXHFhxwG1B8w+inMPewNJVwjvnG3f53lnfEcXVBHw8Kd9evG2\n",
       "ipAsDDeI/SaVZNC/LDG/VLAtKZ8cLp4CpvvlMc8kR3eJrpiWFWidSQZ3EGdPtpyj++6JHcczPK7J\n",
       "84A2vn1uJDaiBuvsVqdjfw61V09bKj+ML8JR0XeHxQX2LQaWry30QCKENJPDx2U7C46EH+EsuqH4\n",
       "TOyW+d6LixsrEzCz93mMN69O5iqxB+LQgKLc5OgwuI4gKI9uhTWUYjeLAbASmMTRaNnpEcrnJnvs\n",
       "nONcJfu523KombSyTd0bas/aagA5ZgGAevNQNp/tMrAvrhdeNBbImcR8tpABaFMCbfE6WiaMupPN\n",
       "jDuKJdLY+ih4oN56DpMxdqnQPSqrEkWkowpcAADIVy08oKvUHmWqP48DuEayYrv4tX9pGhvqrg2B\n",
       "rmrKYQgkJ4CKdSRlCxaVsDy81RRhmtUS/8aBpd3HlCPEOB25cqPAyzG+vzs7X3zTEr75oW89T/hX\n",
       "PSFWan0ZD1LExUxmDIOKBHqwQ6SCQv5vh3p25Skt7+RWXGsun8TQbpI4oFZJ7ou8NwBa1QzZl6pr\n",
       "5UP4SEFMEATFvu0pYwmubuUE+ZHfcP6I3bZoqzN5uSud2QVGx8mXH6yzJY4qzhp6O+u82Ms5/HmX\n",
       "3NULpcefoDlqY9TkQOPRCvxjv8Ixvx1Ob+ub3KLWLitdAS3PWAqLWAyDDwme9lXoSAFD8R1qcK+C\n",
       "kPJDoTnb2ael94ljHg/y/I/ONE13Bkr/dTW/Fu9Qi7iVZzv+SpokXgUWTH7hAAAA3gGemmpCvwBR\n",
       "69m9R+gAXLC5/TOkWE2PEbqVpKPRdkCRn2PmKf8moTCJlhCeZENt8ghBIaOHg4JKaBl6NsK/cd3f\n",
       "TrYW3EbNf7Z7QBR3Q7YJT4z48Wj/tnHJm5rddEiW29NVM2zr1AWvANG4FMh4nejvx2Mzl0z2XMC5\n",
       "HbnbXNNp/juCT63Fr2y1PcOqmW9VzxUWvBnBi0SSTPX5Zwbw6lhnkzQmShDIu/TmmkPLZwluGbJr\n",
       "mgQXICMN9NSK/il6lnOQNbkvDdZa6UJM3mWw/hKNnp5EegY+wXiW+Ugb8AAAApFBmp9J4Q8mUwId\n",
       "//6plgBio9ED5Vdjs2RLhETAFf1XAjL9BdNqFK4kXp/1GR8xFml8mxaNfGFoUB3LAc6ygIa2we9/\n",
       "6XPqo+UGEUpgbGUF/v5T2WdlPtOajhZwSj0eitKqzxEJKHUir95mHqs+wVrHrsdcsi+v32+RnduQ\n",
       "dseKGjvAOUlUjUvgz6/8MlxnaxzdY1YAHZFVE2gubZxn74H++ASudC00OeJgrP5kZug1/m5378DV\n",
       "diqX9/LWSL12uCo4vxXBetxGGpT1edYxgbGUk30wZtrD/h9Nyy88xoszgPEC3HjA/P011GBRDgkL\n",
       "50tIZMKrDz5SZAQ+sdqSXB9PdA8I3qeEdpyhcTB2uP1FP7B0i7b1B2OnWru9iu04UlYvuLc4+K4A\n",
       "KaFDUXCIuPTiwe+Kp/MvvueKmHQMrH1e94zLQbJbs2lDarcJdxbMXeBrY6Qs1/6tZnbQlZhkJzuj\n",
       "HhQ81JULbyMf+SP6R6RLVne4PXLksoCx/k+LGOTz0pES9DbIMSAhRxFH7MPBn3YuSfeG7VnvybpI\n",
       "JhtqL+LVpqqPfQ6LcBq31QeAJaxgRv6hLdoVFIeaRLhRTmTQN6CWQdy5jYAbSDqFsHBOuGTBOJ8v\n",
       "3FWvdA5HROFH/4nVsrRq0VSw8bTJWLJfohuo/Pv3KNHjmnvU5cQzXo9xn+ziJyw5u78DsB7le8s4\n",
       "u9lMQAB0H9Sl58wyuTQS9whyV1q3oL3fUdpgcWLpktdj4kQoG7GSG8dhDlQZomM3prN1314zqPmk\n",
       "VVs7A3lRCF2oMd7+aN+8c1d8pwL+O5XxrQD2lPFH0LFqc0yhnwJlWT6+5EJ0mw8+RhDO4inSSbYK\n",
       "WdCFCN5Hw8GIOgWJItSAArBsh90AAADQQZ69RRE8M/8ALE1gcMjRPsvDj5vH3fN+k5wvQBRFpQI1\n",
       "+fQrYgstB2eJUWkxS6num0Sg5n3/ZgFZbPmu8J+IEm5r5+SwEGH31PbyhyM+R7TP8hUDHBpGi7Kh\n",
       "NhQ3hLSqq7c7fhZFEElfb7XKOq4fcnFUsakm7seCizBdxFUWGd0U/rL+XmgTosA2KIfqpyP2zD93\n",
       "SllmR0JecK75eSmGSfz+USmY8T0woFrkmFCzp1Tz754SVZnZeXSg4FCw4CsHZij6tg+MEjbNSl8x\n",
       "d/aFjQAAAKUBntx0Qr8AUdhHvGVR4/eGpoibMr7MK+Up4GEn5x9ppSVOTNFTZFzkACuNIBSRhWrA\n",
       "DJoIS6KkCGRZZdJXIQocEKsXuV7JAJS64emZAc83hxXG4bWjfYij9ZrJ/LFvOF8PvRHMNFAYowm8\n",
       "IVGOHGGKBk5uGUdfIJ90gWR7Zj3hgGvyT7Cc4oEsJAtWfgmmnDB91jrlJGlV0yTEUK/zqDtfLvXI\n",
       "gl4AAACEAZ7eakK/AFHkGJTO9egYTuewu2PR6dqUO/nL27EJklJ7kmA1jKy32+Nrh9sRz1jGJp17\n",
       "5tSDz7t1S98+Fpu8r3yXUF4xRVZY9ygasCB0ZqxZwwZMm0YEW5sLsOxsJ98ELTq9hKr1GE4ojG7E\n",
       "OAArAn21OSBghnlElncq2HZ+w2hqnATkAAABAEGawkmoQWiZTAhv//6nhADD8J5o88v4CH/3FP88\n",
       "gqIQAlqoCmBSYQW7aZUjrvZDfIgedhNEcwp1yKJ+aP0nRz98s3UWom9WKgAgUV1c7zUPbr+a1vfG\n",
       "7DBoRfnJUrjABkm0rA6Jv7/5Irhl+O3mjtVDv6k2nxCVzJYxQe3q0JZtWfP7DF1cBJm7iAQOkozr\n",
       "kwUyeWYWj8JeyR2jkuvy6EzSkxXMRKPaqKb6g7k5/mBlpic0EbnlZQw6h7mDQl72uS2W7SeYaSdO\n",
       "hgyX8WWa7erIJpiJPcIeVGfx76usr2WLsEwjgLzenpmG6IH9VBCj+5f/by8S9eWQtEDMG8ruwlEA\n",
       "AABgQZ7gRREsL/8AcT5CPF7nNDj5Z0MWwlofEZl3xfyHAzXQq55VR5PLeXKfVoPUcmnBO8N2tPju\n",
       "iTdxA38urzq7byMnBLVfzMdUeGNN0NYkRWhzdrE7cGedWy1fF7slmX7gAAAAdgGfAWpCvwBRmK1h\n",
       "fU+8FeIXuOpM10HimMocEpe1KdNVOUu/CCcAI6Rn0wKmR7VbWkbBlOQQC8GblkEbPD9w/3RW6iUA\n",
       "okmTsUtbLKAdkbbXDUZTohJTdmNQN8JCrIaJNNUYe1i3nZ8g526/o6CfroVOhHc9AccAAAFEQZsD\n",
       "SahBbJlMCG///qeEAGReg5KF22Pmm7W2vKkYNHg7NeEAFzjc/g/qVz+eehPpgko9qb8RPyRrFlCq\n",
       "JFM6CQx2NtviULXDTwCb7usS2Y01jWKkwM89tuiV47kBR98+UaYiZo6LzDELkGQF30amDzT09wcj\n",
       "RNiBMCP8bRnthch3pckmPO6tv1AYmWmYfbohX2czs2bRARXrvWjrsDl1GFtbDjbn+okzcZa49sEF\n",
       "2VmyI4NWc5R/W31kDy91d11Kg/hMuG9ciZC+rI195o3S827qOyoaoWOjJMkd+j3I5ExdJg9Mo+d9\n",
       "xUOny8F8fsveMxBFHwpUztji5cSZ1YNpTTQ7Q+0zyiUuzYt4peLogABQgPxBc3Ig16TeYXLEF6Xp\n",
       "kK8REc1TROWUGpi8eLny77ZTXn0/UeOzfpDRuAOJNQzrK1IuAAAB6kGbJUnhClJlMFFSw3/+p4QA\n",
       "ZPhPJkq6tClQUkjeADh3y9KYVn7s+e+lAjMjfpZxUQWZK1HQD6kfCP1QN9yLOCx8g72cf34k+AgY\n",
       "YBylNnzebDFnZbBgPDnLmUUvNZ2OSkUL0KKk6cWjguA+TP7WaLZt7MxfURQiUvCMVqdwD4mXACGo\n",
       "5uoMroowvUSCVH8J2BLYwdaFdietIbfujaIeN5xAYQEY2koppmyIAV7Syn33cNy0Gr3zAvm962jd\n",
       "lHNTlwxowJiTry1uuL+AgsFn01MnN3X9BcJ5VAuk0h7bUI2w+3BHLyevAdu9Ib6aw+tqJiOIFPWz\n",
       "6ZRDE2pV4jIV3KasXv+9ddf/FedhRPiV62tDX+zCjJQ7c9FpKaF5V4n3R5pGxLpUgY9ko9DUFjWm\n",
       "L6Ssw+G6v5BLGjU+Qltnm8WKdWJhR87U5E94YI1/zSgREZPtcoxZn1Kn07khrlg7TXA7XX1FpN5T\n",
       "INdNSCzE6+Ng28unBidfy5Ovlsw6/lc3DnYyt257T1FuCFxMirmoPD1CvPkO+ZMq7KlPJk/8EGe+\n",
       "ExUWYcnwN/E3W7+poQy/82jdJ+IWxsl0Y0vdvfuveneXzI92++NmJqDmyRM4bycFfUllF5E5GMoc\n",
       "pGYT29NDhZx1TkRsN4fZq9EAAADXAZ9EakK/AFHwTxJBFRPdIpy12LJgcXXb04GhFtw/9w55j6V6\n",
       "+NQbTXVXERThwjnFGGo6pcOFkiTdNgAWBACC/oXY+eF/sj+2I650cnq1aSGdJN7fvtzaLK7tmk+l\n",
       "E4+jJgnFR2KhU7zbO8ayEYD26WRXN5WPenFMHzAfGdvndYSJQQKwfhoqsbMbYXzwuxuea1LwHJZW\n",
       "FuB1RBoN3POP55xSqUYnm2cSC7gHedAqhDZfpXFRikgdOOnMMcWib6V+mtbnrUyoPYpRmGSilA/N\n",
       "knQNUUQXFgsAAAG1QZtGSeEOiZTAhv/+p4QAYdv89iO7pUab1gMpIrhvWhDgmJiotgSCMXoZxSJD\n",
       "yGBVvhAQJB/f+uWYFvY253vrSzfKMmFIZ7w7dsrFno/Dz7RCEM6r1PJyUwszTtwpXsJi8AiC1U8O\n",
       "sYt10Oqp1oFmwrL6T/k2opoHyjIIyiWwcf+vv0e6FqVme/FAlY4y+fSe5a4fDXit5DDBJaXfWGua\n",
       "GMoO6XYAA/US8G478A/0MH+rvC6NB//UGY9ciSh/i05Pjn6jy+vkDST94E6M4uOodSZkvRRJvR5l\n",
       "/9JLMfWyZ100M1uS0EM6xvj1Msf/UrzDeI7GesgfGBKGhw8UnRJVEQyQGP/YBNrZrZ+MLokE607U\n",
       "z71/QnIbI7Moe+miULTDSSKPmben0w50a3pil4x5uNOibKgI2KZl6b25UEHBQ5l+uTXJgUHAP/N+\n",
       "cfSPaMuiVVq+V9bEqCKq1soOIe/7HawcI09ng3WIhaD/80OvLSSMBPZZNCM8QMM8di/66T38oMjy\n",
       "xS+lv5J67mhuynj/75z14DFVONQ7vS+z+W3KAszyCpFYVKKt07w4PDiBJIyxFWOADUkAAAGbQZtn\n",
       "SeEPJlMCG//+p4QAMi7GAE9erNh8JcAJJayQTchY8qmk2ex/oUCc9bVlNXcwrcQpHYChpCtZwo62\n",
       "joJx7MGgLLoYmHLc3L+aCAal09noOqQDnt8F38Ic7IOLns/+Sw8zm14RrGlInbjNoeXeHp75kmg4\n",
       "tbh8Uyd1MoTyBdZ4tsTu6lBrcRmxuAgUlJfECUXfqxCAw/art/q7Bv/R9R1zxGlo2kydTbK9/OPH\n",
       "XsLJMNXszGVSZJKDPdlNC/o79BUM/ZysQev/ZczqiO1nTH2YtrBHUQDCd2/IsO8ERvxdR1BY+lOr\n",
       "zcrVexLdQ4vUXN6cSQ1irfQ0Isol3pdXyIFTrvVyD7sSUn/Pd++3ViPXaYANF4irE9uC3gjWpunT\n",
       "TI7KIIv0bT1sx3Eq8pAj31G00tDayh1IlHep8X2LPfgNvzQuF/8cmUjOGYefDQWaohTe6Owe7OyT\n",
       "ZqT2HKocrq3+X76Ql9XW4An1fhbqpUPNxFB3vqzHsfgOc9e9CV8zGYChaOmQ7RsULZbgvif3HqRY\n",
       "jLHTYQX/TUQxAAAB60GbiEnhDyZTAhv//qeEADI3UmpQ4wYjyPLWAD+P9AdO3/a137UASYloi0Ei\n",
       "IiDlzytaN213lK40uK5Y3Dj0lalmJPb5s+w6gbQEPYfgT33Ik94MrnpjK8zFB1B6V+SAKxVvU+H4\n",
       "60owTPPYZ4xh7TVaNjKLg62GG10kG1WkTA++IHhS21VBYNcJNG2DZ3Ng/FnIATqZaKkcYxKVNoEE\n",
       "RIWGoKqrxTubFFi0oWgpw6Ngym6ZyX3pptc401xqSQC6h9gKf2Nhho4b6dGp8TfGrZgihGgdTIfi\n",
       "UEz6OruCnJcyGalWTItQ5mKn6XkGc79yHcH36BGZvfgG0cGkIeUXZ0N28hUU5Q9l/V6eA5237jm/\n",
       "4f+1Cr701ChNsP0aaB9zd3a+brBC66hWTEUr67rcms+DFWl9lwFTZaRw9nTA2WcbSOcXAnQ5t58/\n",
       "vg06tk0BWjBzB+YQtRdfGB4gohPS+dCZXXt7vfyJCRfPgDH1KYbGTmxi4r0qX4zT5P6OPsPBGz62\n",
       "Ee4PrnnRUZ8vi/tb6phsrBJAvifu1Uq0AxIfIHRPSAZFFIMZxqdHVXAQylR/rQ4SbWCCB2fG9Fgm\n",
       "buerw8qP/+mf6K4E+LN1F94Y1+lkoAA8+P2RJU2TLy+hgZ9x4b0FCv3de27ThXqwAAABrUGbqUnh\n",
       "DyZTAhv//qeEADE8J5ksRDleZ7p1tww7wbR7FImA9eUg5Y3qABOdDLQTIRe2bV3z0R2nIAzCmgwp\n",
       "G30CIsHLGTDKCG3fASFM8t/cFLN1VGoA8N5YaJIuZZOKu+y9/60V68H5b3J1TaPcLuNiitmd6fvD\n",
       "2ZnMYMATE8ho0IIKMtC949dugfFJ9OSF8SZhyCMifQsSQFEfzPDWXm2Wulpjk8jh0+4Zay4Mn/fg\n",
       "oYaJ6AAehBOqR7YHOiZu2i9/gKzH3Y+yTO9ql5sEICUsbOauYGcaDAWwpZ+oKZaodeXqM2/wkkhC\n",
       "F7JNgGBsFxazdcYMVtXmdIClHovrNZOTKmrHuuPEIwAQ+dGzEOrIM8Qe1oJyJjEjxRZxNNhu4hIT\n",
       "kUblaFCkqZV+k301W9dgAvmkeMnKvf3JK/XCNFLMnvi0tPdBILgeIE9K23+xxwxBbrbcEjWURJgd\n",
       "rgS8hPBv2kCZ+8MdbT7L3hVDLbvT56hCCtyZcKds8N0US1MFlqXEcs/KCGfHBVV5Blch9AH2AsRw\n",
       "vNr/4CFGTcfaYgCyn4foaWccQ32NpPiBbwAAAbhBm8pJ4Q8mUwIb//6nhAAZF+8w7KAAtLHPWs0H\n",
       "aMzmdbaXzqfYs9q9vjWW1r3FVpadiHXIK1Qgt5Rqu+6TI7LPk8W18MDbdrKiyNN3zL118NnYkdsu\n",
       "xpZUW/LsX06Re0bQbi2yBiRXV/mrpm609doaiD1oI5p4Su/W5aQsSCzO4mUBdyTc5PzrYH66GhuY\n",
       "xOT6PPFWccVBJj3gAP2z/mbg1GMEiZGTif6XfomBtVTBR7/UV4l0Q99MGgSkUmRZXayvLS8Mau0C\n",
       "D20M58vuRFG5fFC/0H2CzmH82vJQMWLeg4azLSqMY9DihB+w/D9jPqibGYxArNhBlFGc+hM1ONVA\n",
       "pDzi9jGXp2N0s2LfeV6TrjcT6I9YayFStPQ/QEeLcm2wlryzIvj60x2EeYSvr8iqKxsPQLLNIIPf\n",
       "VKzDjM5nsEjclNg1317xA20CvJG2yPQaDsegEt4YSHfw8XU+vge2tADRbO7gMokjCYOfhnKMW5Le\n",
       "/eralTTcVrgL08XtgaxNxexJz5dFwtQcs21LMCyVRJT7zua+wje+jqiWNtcnEt8tXz3H6U8eVPlj\n",
       "/Pba1PdTEcEaB9s6/wAAAfFBm+tJ4Q8mUwId//6plgAMtxfoAKJBAbgAB0LxC4myY9ppvJK5hdtu\n",
       "zrLYYPiY0uuQR8bA9BSB7N1XsPypW+qNFec9zEkdxd9yp0rTC18aFWOcZdbOCd+pQnj8utMNWitJ\n",
       "7aprwXEPZtS28YISzheui8KRZ1dG4gaZANOyXQqG6arHY83yZfcpXM3P84SIa4t5Wy0E8BkqnIEh\n",
       "8KHgfnS93cStvPjBPFCWuxk0vEnOoMOSNuAW5N4aaa9PnC305GdEr2M6dGAjf2+zdz900DL8D/Ne\n",
       "a0e5vIFDtNyR4B34NoL/QTbbVXHLLrh6lMI2x2mknNC3t7+Lg9Kr/uOtS9rsDHbwV8MQUQCpsFv2\n",
       "TlnS6zebLaE0ZBod1Nq0kQL+ZlfIDAJlPUfOPNR45tP5tAb5LgBY/1JLda+asvoOIXcTPL9PWXnP\n",
       "El0gofVLsQvNtdg80sIUtUL/eZhyJ2WfZdVJgRLL+MEu6iodgdGqBjpMO9CcEQmpUd5P34YkJ7kI\n",
       "qV9Ssig4Xzd7wHoZ5eLJbqQJS8TEHGvnh/v+MWkVjYXM1FOUUVSY5kHIMBjUdgeMcV8KuF8voAex\n",
       "FzBhuta9cbZ5+T1ov43DvNtVfzX00HGFnWSuNxvxKgfcvBABdqT/NtcECe42LF7dGZyRPWA9jVgO\n",
       "uAAAAv5Bmg5J4Q8mUwIb//6nhAAYn4Cr2F3H4vE4VKtkC6ehCZpXxZ/NyphwMEPwgFTUAXVcDcKn\n",
       "tmaVQ2RG5D1j5fsFd4AwJ5VNA2LDDqwPq3l3IB0cRIDh0P5go9cMtmJaZtPY3ya4qMHPeiPi4RlM\n",
       "P9s4cFLW55pQZTEvTFBWlE95xhP2YLCx/9MK6rny0OMo8/pPoh4GyV+LsR59wuP6zkzAMHe1EX3K\n",
       "ueebZyns/VmZfvRB3RIX8jxs9ZTTyHpR1/3TJh0EOylllPQtnK69QiTGddhbzpSBtbg4VY+Cn+xJ\n",
       "HiACS1TlMS0aLrTlrIcl4KJA0q1+oOvkU+PRCFsvP3Vl3cqiXWRIqTzmHbcXhyYwt5IZqwYkI4Fn\n",
       "GCxD+o2JxhCDUQZ5tnCfeEXgx7MY8mAxXNtDfzwxzHohH/cokxUrIOZp8/LVFT5aDyI8E+l7sVJP\n",
       "nyyw7POMDAjQ6eUDtvr/J0vQ+V0Jgvc5kzW/PrCnRvzyN2qJnT7VGsABC7AV+WEeip7ZP5FZR/Qp\n",
       "2XlswEidZQw0J4X1dg//IXG0M2ojy0hggiVTsAfMGUjpFbPf91upwryRX9S9Qldh7uLowzrMIof9\n",
       "6k+RFvSR+hggPRP9X5w1ka81HXfYPpUgWptqOhuEFQAuGsXy1d2rJEHJO/+4DD6MkbBONSpy3/La\n",
       "1yn/lX20AnJ4fPmU2Qe9iJE/2/A6v7TaeER8a9qgRcgq+tHO8Dgp06s2AFN3fUmFXGKg+9CQmski\n",
       "wD9WzHjqfuZ5TDxr24xNsIuQv+mFc84ibcWBUezLDvKNEPd2iTFUZnvT6f9URbtWgwkKf4uWbKfb\n",
       "ILBFWSl/2VBxNz+ZQCNXik62/649MFTMoBmdE+nlX7JyqdZde/2j7G7ZmbWD1TowVoLj56pbNmA1\n",
       "PIZBQfxuGnkL5Zci03jacEVShVvprrFJe4QpEOhPYxRd1+v5zjZSPkoH3BjQPPIworsmrXIjY3Tm\n",
       "8y7nqdzT6IVjaB6xZwi9le7X2Wv4VEgwiuOpsDL+AAABkkGeLEURPC//AA5/vX2EXN1SMzRIqTFA\n",
       "Bc8DoZXV9dlPU09oLGXklWAeoyKAF04N123bnyaL+hCBf+BqLMYMklaJt+rRLHFLBE7F1uvGHww5\n",
       "9xZIGVEKWp84WtH3TJjKz2n/e/D4AxTYlHqDFYA3dhZNDAOk1+W5jml+9/88rbQKdrTtR/7mXl5B\n",
       "PZV+pk/MLAqaz4IFRgBiwQXjPHIG5p3ORcVcg6Yapj9BfQ6yWOSDicywdwv792BaHZY37TC935Rk\n",
       "+xrGjfTgmhUgIgvBHkrRcPrRY6/GkdcMVL+8NMhnIdvwsnOsbvM1u47znSGIZGovVf7zaDKsQCO7\n",
       "5vcU17EumCtJbo7I29lnaXO/o9WmO66r0ZSf82dK0mZLPFkOzs2CYYhT1A9F24ZheN0rLMe5Fcie\n",
       "56F904dVa6NZHEgreH7DqJujE0fK1CKnIXPznCwLeopKe98+EYSUUjWwEQwYFhXVe5YMwWe6pkrU\n",
       "dDXZS1cHQGTzSgFn410rdfaip1I7C2G6ZVm4tW3Ta8n4+JN6QQAAAUABnk1qQr8ACstEwBA+zzfE\n",
       "cmHXyHZRu6uJjNX6RqFvNv2gQL2gUnvUkbHHl7FQeqagFNOZnctiB0mf22tAlc/QaRHX4yfaDemT\n",
       "FftMSGwvc/iPPzReSDZT1DYS3Z50s1cdFxwcwcQepkTZMLUPsLywkCVm/PRR/lDVfs+/8I+n9CfY\n",
       "qkRSZQPAcOOnzPG3LYHHFUGMhNo0N2DhAsZdWd+gMGDPkJy0WPz1CMBPT1GWFvtbdVXsHGeX6KML\n",
       "kZDuDmz1hzf1EqFIWM8/c9Mq5L1nYgG9odfQ8NLk2LpN/xabXDPrnDAv+L48wcXIObCLXujzvYvQ\n",
       "3TX/YkfrFyN/FT5d0wKQpP2id6MF59ivL3Abpg+VF2OjIYhmduUNIdWWTZqMXgSj4JbXlZfhCbok\n",
       "Db5wYpyTEMB02eH0uSloUVdQ7QAAAWZBmk9JqEFomUwIb//+p4QABu9FF96HQqQAO0uS7q0DTich\n",
       "Aq9G0UVSE075CFaHvItgr7qwVmQ9qcyJAlsRuc5edZUffFBFllokRWySmmKpukurdhgtmj2AHstS\n",
       "RCOY8UgE1GSL/troAB4DDof0z4BibUZIuXVfxgq8ocg4hWSWf9svaq2Gag2m2aCmjqN/JisCMokB\n",
       "UQJKW9tgXRyIYeQFHyCU7PQfAjx8571zLk03a/EnnaIROGoAOBv9trk+Y4XmyjrvFeLaLFaQSXlc\n",
       "EVLxD04Fr1O9rt9w94CC0PC39ZQj5f75w+QNKx1m/wdTKlEaKHHvM88TNtCT2mmeUZrWZ3CTd+9h\n",
       "iTMKStBNwnZQkZol9LcBAzhENjCzNdFl8Cyp2IFX+T/ZhKznXZlSTa41IWAJEBsCBAhULyuH8wW6\n",
       "UoHzwX2IwLuqu4uTiGOY+pGDUOjHu0wuQsnr2rbZXPMlaFpzfKrPAAACUkGacEnhClJlMCHf/qmW\n",
       "AAN5dU6ABdOYjK6DWa6J9f3qgbCyVagivVcaO3aR6G5VrcNS6d6G6cd37KBWc6GKHitmjnNzut/w\n",
       "ENO3PtJ5EC3FOT7vZj8+pT3LLKD0m/tfqbysMZP4N/1ypy8OsEYJsYDVe8DWpU9aMBf4uJm+E/e3\n",
       "xxLFZFWZ3NJXhzdS80/Abkq92eD6mU5Vmr19oiEvjdrZHLA0XGPSNkMwyLDaJp+xPmlITv5mPVwj\n",
       "zIT6ILv4PAn3dkQVoWaoOByNIZuzyKCCG4teXxYgVurm7m9ISbvYnegZ/sKGuTM3sIavwcugPLkI\n",
       "BQeRZrlix5KbhPlPcgfjdJZ7gtCbHhcbZ6I/j7/2XS0Auo9JXiTDWbJt1Xcr13O6Ks8m4k2tIfLB\n",
       "I5a1d12q/wCDDtPRJeqNV7strh/AnS5Lh14mUorLFF6hjQ1qMB2E1t901m5jia506OUFNhzt3nTv\n",
       "hE3VJMhgCfCzC1f0pxl4PO38mZrJdCBPkCb/ERXUjRRSJxvchV0fKDxJwDKufHcUnVsGEE0X5qKJ\n",
       "k1/wm5eB1y1sxwnhTBDb7KnRn8GHEMlTn8XwAXbE4jwzWvxUaXFDzJD57bRX54G/23Z0iPgOnvaw\n",
       "iGyFNO6AUImyy5lGD5OyT/xhqGoGA85ZZfRBKKi+Vkf8HQeiuAhfPmDo2VUypEmDDNOl0Jja2DFS\n",
       "xoPhdlSWsl4LbPwj1udwvj+CgfrD2EuTf/Io2sMGPsOjH5+xmsBRs886ZwSKO+Ft0Dk3DffQMqEt\n",
       "jROxAAMDPX6JhgAABMtBmpNJ4Q6JlMCG//6nhAAN3ookoKvLvwABUdZ9kmHBgcay19ehHh0TCkBI\n",
       "2Pa79Ao7kZ+FvOy6bWdzuNZg2S/0HbQN3h/pGrLWR1hENkeVd33QykTVJnde+gY8TgWlAPhDjOeh\n",
       "YBI/u8QRDTzvymRQxnpSju4laI43j7Zxiox91iyGnelbR3291vpXvDXnlPXJ15NlndJ1rLkSXePa\n",
       "wsjCZOZNVwsmQNhP+C82elWnpGJeAamlts6xVuyKio2qtFe6tSmGsQCRPieSxzRmMseMlL+SYXxT\n",
       "vB+EzXMUeLV/p7nibzArMGDrtzU5eCSmsPVG2GbVHoJfRjOgJSdJeJZnJAuzSHb2D+Mswo8rH632\n",
       "CtGmzSOUcPQa26XEkoFGsAcyoDNUciMcgyDRplJhL9H+AhoQT4zoiPpJcCoRRWI0//x1vJ/ctL2y\n",
       "jZ+9Dcu1w2SYhKFnGn2Y0AqrdInGkBxCR2SiLf3mEjDUN5198cwaXauz2PLLuJaLqG+4ayLnc5K7\n",
       "Lo34ca/fZcsSdf9hNG+cptoITl/G6FYQtMk0sjSBI/RPAfCgl+iZPwuSnm6ve53sxNQzO5lAjVQz\n",
       "FFzxji7pxGOQQlInA4yspipNEHDjXEBAQ6Izfm4AWkb/SD39u3AAvYR9xaLO3IKKg1/5KzSz5IUh\n",
       "lztmaK/JPK6LLejBIvSi66ZInVPrQ7vc8viJPUaeMuH5qfwrHNx0JrS9iLWlTW+2r1Xtk2CKrn3a\n",
       "r6w5MI3bUvLbfFZTnQPI5iqDoRbUfcSh5z4QshQ/T9hVUPKWvasEOrCbA46s6U7U253elZ+5+SlA\n",
       "3txJ1pxSm7+EfMa3HnEEml1h1t6kdjOJrIHZSd6ne1vFsmcB9ruyPufvm14SiIdgqWreDc+VSIw/\n",
       "rLX8iQ+mrB9ir8K0VeVp0l4Zb3tpHV8DTetKAIGPiOzol3++bzqaNdnW/C5VfGDluaQb3Ibc8Vds\n",
       "wr3cUtZ4n/xsxRXsbD4jRzaJZCtttmDwgGeoYyFpiZM19Hg5dcUfKUp/eMTVCeCA92tj92msaNCM\n",
       "1YD5LEOy8l/EoTiLjRakf5aD6PA8b6gkJb7ClwYXFChOykjhtEC5UrybNoKUwKXQIP8KdQyhgSiD\n",
       "JQTKAKP+LpSvPtL7aOtPbbwdD09Uiavsy07s9HOBvg0kqriRoGZxFYrA/x7KgqFCn6g/1+ZZV0uC\n",
       "pCyDNSFcZtalG8JgoBN2WIBGdYTX7cE45pMMYUb/PbBTY5FoXK5qREukoMkbz20YFl1x7sQ9SMvR\n",
       "NU8u07ntfucb3K2houlz8nf1Z5F9s/q7KIKbxX7yveGYXOuN08rLhF5q1d5vFPxCHgFQb5CQBjOf\n",
       "uc4zuFlQvY3x5ZulX2h6RHSbuJZ9XaKG+2keu4wg4ZsRnLpOAvgKIHR5YnqeAJJt0P6UijLdVM5C\n",
       "oqH8UEjZ95sOpOJfdHJGiyESioRiHCnnq/M2Y+iJsNZsi49/MMPdYpcLEUniUMgCq38li2xn9I+G\n",
       "3L37Irc+4vJao0GgQtBYnk+x2iUe13cBAD2MHFjelkdd/POnWC/hI/wAadgnefYmyQU3VaaozsWu\n",
       "2N2EvqbS6sRS8UPx+XcTdyVb6/OW/T0to9WQZTC/2Lps3k9DP4oIVpyP4oAAAAIKQZ6xRRE8L/8A\n",
       "CC5x1eBmdiCHlYWtAAQCgphLF5bgqQ/UkWTqKQT1qxzsIQUcZ6D6ppcRJ/hPYAaB3fjqFCUARTNy\n",
       "sB7vK1W6GWSXctthI40Y4PAs8hOcxSaCdZ6qrqOl7kjjwNEtheCa8jwXooBgsivF4p5fcFL0W0dm\n",
       "HeQIRKxeL/mp/10Wm9Cu6Afis8KQx3PucX25biknjwrWn6BhvwcvJK6Mt3siXRFHN42Ckjkhd/o6\n",
       "OTZB3cyECLslIAfG/7OD95/YID1SozARC3nBUjDEH1c2D6xP+XOuEp4b787AcX8N1Nub7CpBMINs\n",
       "2o+7jSPQznQYhUhZc4o1u0DFtKXnpnusq6atCSgK7J+jECxr85AiayJMIM82AsJBvpLZpxkezSIY\n",
       "eHUtqY2NOR+gMZMU7FRwAPdqVitc/CcXzsUmqSIKP8vYhEal6NrTpxzR4Hi2c1kulI+pEEH/yFCp\n",
       "6Zk7E8ULMo7HoqS6JwzspNFiIbi1lEAkm8yGbR+WySrO7Z81d1B+aAvANfNfKzmDLAmr2zWo+NTL\n",
       "nM+tiTF1AZqfMxTuOe/7FuVC/T/JRzCI/UD8MvcqDOcQuwNV01pTfZnD1RUYKoWdidL5Rwu7Kq3A\n",
       "UrV+HE9Cbm9kInIS48uf3pdD+v+kO87DwEKLu2fNM1qlKok9xQsLZ9DBGWVe03kXBXVYvvsyI+BJ\n",
       "AAABbwGe0mpCvwAQ3Yr7/mrpI/kAAnCsgn8yPKBwVLVVMngYTze5HlQKU+7QtmVaOq99spSJMh/K\n",
       "8/U8mqUdoTUTPed5uvRFi73Xj4MN1nuvI++8ByPvynj+73nclPlQblXWyo0A11lGB6tR+Fe4JIfH\n",
       "f6pXSxRHAGtL/7LsH9ICXlxHZh8NIotr38qyiMgrzowaIqRpGYL0kgxmPo2wgErdEDELHTPGvtQU\n",
       "ym0VCmbR6f7n9u99oJJ/AwSd9bxuiuXheVb2atfxjdT7OVmh7J6zRPKZX/QrixnVzpczyKJM/7YI\n",
       "S/QznDrX8pUj2ETwkFvoBGJif/VTuNvh+znr1tDVH1wWJVknsPjLBOudhZyeuhY+UsjV9i8XZ91L\n",
       "pcdBtgkU4ypF/B7yNrhzSFUggzIYPkNdCb8Jv9npA5ONaME6Qz0klpal/GEhEix9H5c5TsWuM5Tq\n",
       "qiQuLAjjZ3TCU9Fc0RrrUnrdJA2oUH1/KPeslRAAAALVQZrUSahBaJlMCG///qeEABuY8OgAcb3f\n",
       "LgOdwg68NNqVD9B9YjXtv3T5naZGE0i5vdK224WqIJnRcVzNOTLqkeYGPp0jKRVg9yFjUBc8NmQD\n",
       "sNI1yOdGxM3/sLE3dF5ighXMIm7PyWmgTE2nNQXgxezckD+Gez5OqN4b0Icfbtq7p2VhBWPgSjec\n",
       "byAKbZJfSADvOnTfBFaZ5cnb4+47cr4M3my/bB/L6SWplsNRVz8tIjT1yNFybLVE/CHruo2qliOl\n",
       "lGqPM0vOawhPB/4hdeuXsx13msMeAysxiKbq40ug6Zl6tGt6Q19d7cY742rH6LeL4Um9Dz+KMVeO\n",
       "/4CnwQ+JJs8S85VGVco4dVLVmZ506NtaK1HIFi5WlgNF6yqOI0hQTYHd0MJ84QfBvScE4P4AJggJ\n",
       "qjUhMVwAmPs0PXxha449tm3JV8xQncNqIjsR1zd5F4pnVBFVSz7PAjpW1PgzfFCRP7XosyqfdIiO\n",
       "O/0aRl7tJFjjUBQ25wtWUuSBUs/8/BvKfSH/pxR1FA/xd6b4PcQVMkCD+HCnP/PrcASp0BPYXF2+\n",
       "SqUynPedurz3S4QSJVz2cb/RLR0MXbEWYs8whlz3u98FHpqhMHvXONAZzrnXhbVdecb1sIhUGeLD\n",
       "DNRpBWPrC9z9Bl2LAiekIQJOvcgZoKdJGm3dn+xYekYgMllc+wv51H0aAGhlFAe5SWXkxaBFpX37\n",
       "qBFxzr3oinzY1znsQgfVpE9Ke1RqSYXltBlqi2IZiLOl8IIQG+4kwJxOuAvKCoycyTwzPQce41oj\n",
       "rO+bYCLX1kC0RlYMHixU5rL9WhdDmilj7EEHLLxSV4Dx1OiRj3pCBZWF+vJNba2Sq8NRAhL9U0d0\n",
       "TRE8H3dEBi/fkrZZLCVv+qm9nqQqhd5tuceXDU/okpWxg5iLEhaKYWeTJ2EK02U+o+YOUQaxkjyW\n",
       "twwUHPraGfyMytvtH6r/DpwAAAKhQZr1SeEKUmUwIb/+p4QAG70UXnYfrxwAZUiY3S7Ix9e7tnwW\n",
       "9UOruFIhSTNBZX3a0E7U6JKbrvTVrLIadRcZu+otaalmgrXzurO0ahaRka1G7Z6eEUS+UWoP49if\n",
       "9gYVH9NiR4NkujNaRtEEMUNEnePksrVYEVOuQ6P/XD6R7JIAOLVlW5rOdX/7C2HrWPs2/Jmlqn1x\n",
       "Y1VGs+9aYD9T0DaJ3A24ToDelI/F8vtnBVduu9v6GkgdCFXX0T45OSUkxBThlVbvspXPHMgPWtmH\n",
       "N2rNqPqCcdP4ur36GnMCz7kMFfbjuflF6bGrZHx8AI2CPteNOdlAn9rPtC+x5SOCr/M9Hy3Wcg11\n",
       "8Ysmbx6l8BjvXymWiw9lQqsqhUI/9BkPNDj1i7e685NgNoflAajpkaIwtDkU27wg5p9wUPxImWVz\n",
       "ea1zRBG3wLA2ri2DaXQoIAgiVPEdCN+1aaHsIt6pknWmjH1JTGxq/DE3SukYFThXPWjhWNRXg8X/\n",
       "YCzdHFtNJxCpSGPt2GXmHgFungn30M15Dg5kFHX/AvWRDhpD+FncjfqYUyAqjtTvqHeV+m9jFHhv\n",
       "j2xmYOIDk8wBaZjU9dD/4fwi4Tm2kXoJ+5nB9SvDZxSNoQ6nY5vzKNk8MBqQeXZGZGmX6HGP+ikS\n",
       "vTxOapxc3M68PIGlbns1VwRPQ6cPr7LGfB/Zsv7MrU+2FSZHdhP2FD6mIw//fyD4pMcTT8QkyMju\n",
       "OwaE6a8GVxTJyxQzva5eIIyK4MgQOYTuRm2HkH5x8y03kc+x1R7Dv+nADVpn/pO36v2UjdvA9yiS\n",
       "AHFqdSVL+lb/hI6R7AhkJHerCIdf8gfVGf+KgRiKuF1jUsL8z/qafj8quQtfm3TbKI5Nqs4XRO+v\n",
       "H8fcTD/IWKSVkQAAAoNBmxZJ4Q6JlMCG//6nhAAqDh32Z8ASAE0nTnus7s+ePJ9/vAw4juvzKkSV\n",
       "5LRGXWaAJzwJ71eaMqM7f/zPu84/BeHXCSrDMYNVkzvZKsBgixYRQTu3IIP59EeQpHB/+wbnUay8\n",
       "h2Esql7coMFzbsU6lO+y+Nlny4Zt+Oq+Fx1nn1UKpI1hk8+eKdmw4XJ08O9cMRfYcZQqjQhjxnSz\n",
       "v2STHSsY/V3DLlBD9IEzvUCPFsnrW0duxN8T9TLbuWnu2Wl4/97TNXSk9aJD7XIUdEvR/s4MAHMk\n",
       "Op1C6SMmAzhIEEHvwbvNBHeltbT+1BTyS2iFAsaoLNZ2LlsY0i1TQBzF3dhpDNtvggUNMzjsHeD7\n",
       "aiDTR+m38UEG+dBShnN04T/xddabkhhaX6bCCA/8y5S1CgYqy6+4gSa4fPToKJjZ6kPyH0MOhP3F\n",
       "NlbTF8nik6zZYfB8JOnzbnk/O1Mo/SPRcPcVdjsi5cGNSyCZRvYLnyAS2iwgEs4+WTFknx4Z/l1C\n",
       "1CCMI8kJOAMUI+7BI9OL9C99La7CefUqMqxCARndTp5qgXIlowUoMVvIo6+e3PCHrXFmAPXFJ/Cs\n",
       "UtIpTsJSPwNcr8VIx2UH3WwmZ+h24mErcdX3pza6RoPr+7ggZxGTsEe4QmnUNslqZy5ZyPURQDf6\n",
       "gVQP9gdNbNEcdz5OnY9IWAG7p4cLAfCAcLzmxY4BfxB5Rt5nG2j1yGVTUbRejc5CvLlkkx7jlY8H\n",
       "iHsYG0TraqVCAHp3jftwoAqff9UYy+G66tcehEn55ohVKtIUdsqGKGON1sv0dakTk7w2PchfrdSh\n",
       "nOAUrbdHuZ7ZVcL54X83XUTRcMc2oLkc8U3bkG6gAAACokGbN0nhDyZTAhv//qeEADcx4dAAuq44\n",
       "xM1zrbw6VJRGB25OYjMsQRa6ATEuV/JpazokJf6afJoNPmf2Ky4+QpLk1kyvGNirTENWQDgm5tVq\n",
       "fI+eSu5dakyF2ROOTxpQttMW0yAyriYJ9Hn5VeAkjfVlQpAubQdRGLwOI+csfFKxq3Yaxu6eP7ql\n",
       "ghLq0ZAU8nsJsCkQ8II2mVYJHg0eCJhYUvnmWKNYZIK5UwHEEFBU+zqArVlFJVL4mtd4tpzS07dc\n",
       "UJfMKIhG5ibXPFk2AtCdOPfGNgfQuI+y9A+yzKbbKT2d/9v+PF6NPku1485p0J7IDAedkMg3x6d6\n",
       "OctAneH8gx++mKgPA5v+2cJG6qclgL4nhit2C+SMjP/9BQlH4nvyQhl4DgZxcpwsI4P16qjD3MtV\n",
       "jqSO1r6QtHufonTv7peJQykFHFQRq71RKe0wkm9wZeNo5OrFrE3L9Gzuo/h5hGd+0w8qeMAf4d7M\n",
       "X9apkgHP1YxKQOJ6jWa3G4i1enIneF/IQXtMriNziv5Zse/msSkbfjrkoXqf1rHcNitTmmP0JayW\n",
       "ObSZWf8DeHM6RzqYmyTkLaBEfFqN3wgwda5R4c0GgF/cPB427Njl5iZTVDlNYB0afdAlcUBX7ckQ\n",
       "4GwMYXlets48zOsiD25VGB98ZPIo79wWXUZ8bVIXqjPmK7iJWhG2SaZ7ZxrRRGv75zMcY1ytBirN\n",
       "EvMvi38wYt//PYmi0n7e/WCBRWTnIUjUwWLi2vjngK/GO+B1SJSOpweLL7wm91a+9TzAa915wB06\n",
       "YWcSfHL+ugPextYUwar5Y8vdesdXZG4jYFWYGfoXh8aPi6Enh1dymTW8RCH9hkgvbXkZlIH3UcFN\n",
       "ByUOhr4pjxt2haKHtFxFk+E2Nws9JZK7AAACe0GbWEnhDyZTAhv//qeEADdDzOoZ4AcIYJVS/fIv\n",
       "Xnl8S2lkIj/Lj5rv1YaDTMmji/Rb0oT8lHydkov6LSQpOAj6jlRybdThqWdLigNHmlkbYVYkOWCH\n",
       "NGXy7kCvxodStG1bB0hH7tS48RC8M74F5qkA9vjP0R5cnizPStp42KVFsQfdgDsPuihRT2v2Efwn\n",
       "C96LpoliJI5xUJMslqeqd1FdnYHAuZDvrN3reDdgU0cndFXF2mBPUa9KXVJvjfbtz64RHmmfCI2H\n",
       "wROqeSy8eaCLv0taMKUIhEpgS5DCRF8xKNMA9Z9d5jiGVOfuiKGIFVNQyxkfOZGsN5A50NDkgco9\n",
       "ymL4pRlcI2WmKVwPAcefBoJqwb9o0amFf3p9TmgEnbViOSyFN8q7QgY9qCsO7LSKP8sqWLnENTfu\n",
       "VRl5p7pQoE3A0mALY+0NFUz/BFU095AaJ2ThfFJ4qO+zxGf4oTigIz9+i4yhQXnLP16yYxHqfUGh\n",
       "Pjc5uLyWOin4GqcP1nuKwPje0rS98V6lYbv4ahqYr9iD5kPrI67QgfAbCu4kZAo6pLSeb+Q+i2Xf\n",
       "zCnAt0BRfv6+F7LjLRl11VGxhwGyqx6LSAoquC5F5IPp6GsOuHLP7FrY2qUFeY72hYIX7UtIougR\n",
       "boFuAeXj/7wR9L6rEOFTwc74DdNwHpcMGHrw752UuqqVRpZj7BfwrUvysNKnvQkVsywSD1YpG7YP\n",
       "5FIlEqW2oDpYIrhAa0W1tsdKaW06FgJTZGD5EUrzXPOy1iG06hcG3gqv0oX4mrCPsoE3fFOKSyBC\n",
       "KxZYnf3jlg8y8JMnVwfojGBdjvs8GRvtzSCf11LhI07do8h5AAAC10GbeUnhDyZTAhv//qeEAFP2\n",
       "lqDr+T3D+y7giWF7nUwN4RmHVUWGy6rMMu92/7bTVO3igK8ZluzXPxmUGF9ZXOXIimfRPn+s8YjT\n",
       "GynVSIAvwjUaRbrCh8+TK6eaY7reVvDJQF72tY0RotCAuFvDlIM3gE7Ykd0ZIapwGHWkoaLgkBtP\n",
       "hSGY+mJSrYSQAMtAAOUxvaQD03kSkQ9ssdy7epyohNslqxsMA1yktgpDSjc9XhAwHsILGQXjwIYw\n",
       "ggS3Gkt5P9Ds7s8YUk/d+A8fAuNiJ6Tuh3E0hTTK+/JPZCuf+WkvicRKMliP4uqf0zT7vqqM5Qh/\n",
       "jMS4Ji+f2abZiKdGQMgLYbaFGk0Ps/pZ02QUYqF+jtOL8abfWNZLJ28Di3h8DtnDrlJSCRsmewmj\n",
       "aoPxaQ6R0vceyUnlB7DNJX4nHMiOBnDgxttPx1zJoMlSUf1Kn3i0/W8xHdrmBQpblG+hdYZrY0rP\n",
       "ifO9Jlh+ieWTIfmIYF/yBJ296U6zkvqD6zAGPehYyHk9KrEsxF6p7WQxHvbROBfKMeH0rEnp1FEf\n",
       "u4Dc1ymJQABzesOmfR0z4HwdgYR60Q3mfJ7tRpm/SH4EGWmDNUvDKf7oUavZGQNw+bYLrjuN4V+3\n",
       "eMWjLv0ZHWb7ZGaPF9CEdw4GVWS8Su0u89YHAzGqPYed0zJ5ZviE29Wc404c607EoDhunTT+SHp4\n",
       "dM2hvsVzrUvhUk61zAH1rLw4hsqo9OyYLiS2cwjC6BddBjz9pjGWooX/kCxLhwje8Ds1OrWwAPvP\n",
       "Nv2nB/bUJLZ4NzLSeV3fg5v3eskrPGeRUjQpQ+sY+sKfWNYit64RRaowi4TuUAwR8I/Gt6BwdmKj\n",
       "cspnqMUzahpOuE0Ox+SKuNKAsZcSe/18qnCfJRZoiVbt+tqrTeuVae8IfkfPCYF0MYWO0xHTbTrJ\n",
       "3LHx+5YjDzHrKxfXql58z6QOWp9K0xrvYMAAAAK8QZuaSeEPJlMCHf/+qZYAKmyeAwmgCOAOT+4i\n",
       "DA+rw7BYsHP5Hzl9eiU29e0Wfq6UaGdyJGpo4CceHnQO9Yt90VTEB38A2OBQz5ijCueAlpd+Ezqs\n",
       "1/kH9d8oEKXX2kKlTog4g2jMN1Bup5cFlFUcOmbAy3PM1FfutkXxlW3DoevpZ/2PhCXrrR8QY9o1\n",
       "8nwgiXlwx2dLgWcv4z7cC4haPctXCDPBLi21lgSCsCnfMPtj9VVkZug7IiMP0Y0I+siR4dKoD19e\n",
       "i0yhEsjI9E57W5dzg8pRGMM1aD0YTKjc5tKAffsWU4qKb3XG8TdhePI5Y10BAtfbLnaBR6foXDJ3\n",
       "7c59mqD6xcXCHDsMpYjvOG2ZKNWsp0cFL6gPc1Azd7tCkAhuXFk1EK1Oy1tWt5Kogti0FJiaQeaL\n",
       "E5tyG56bMlubwtCs12MfgrmFj73SMqF56x7th6FKJoSckmbG3sfntEhbx5jy2cdmUVwY2Qi07HTJ\n",
       "lsINFtDuRrT3c29vqEMtN5sSxMzvNV+n8Fg6nn5PhPPg+vOAumFz6oFQDFxz55dktNk6Ymy3CGzC\n",
       "h5+/qUoM6ZrTUA7KKOdj3U+UfDUvSRZNna2HKLcN+EHCN4cCRoHhJhprm9qFc7ZFpWjv9V7yFc1e\n",
       "f4M23KE078iGEUYnKvswDuHtRzxf1ybd5RwG2I77R3ptssHBBvgVpHS+xTPkI4iGzI25LT/JXrT2\n",
       "QPZfLsZw1Kqytgqy3ig8odZlEXEe31f4zmJSXKOzW4qojJoi8iagziogekYODZruyq7TyOZIrat0\n",
       "9tsmlXc5ltRQomlNyxOf7mfdehSCosilwJkLYf4EaoKLUb3TuEXvthh+0v7PiEPz4ZcuUXWqV4gy\n",
       "gqJIQAU4UdjCS1IzZGysKJcW4LZz47oEwGe12LtGmCtlqB2fJXtN7eCdmfUikwAAAshBm71J4Q8m\n",
       "UwIb//6nhABuaQJIzwBf7F/Q33F2BlGx4PF2fIZBxm/cM6yC4hXZuvupjuQrsdGZ6GLo/PxbipF4\n",
       "SLk51IBViaiuGG/YXB2E9pLbCa2JNTJM59aA+yU3uvN6SYYNQIwRpMJyrGbqGDtPeUve86+QMNEE\n",
       "pv73+2A0RAoJzNuI9sVqBbNdp7bR9CmAE2R8BijViZ1GLpteC9w8//z7nfKyssTRlapN7Mtspkz0\n",
       "/mHSAjgXSGfHAT9ORnWp2fVP1h4dsOACFIH9SSQwZ0wSstA5RwxGg+sXW6v66ZQp1g2rPR/ild7A\n",
       "6Jrl64om/zcfz07OsUEwHFsvh3FsvpmaiDgTWG7jp4hfKSdUnsvcFstJbjHsrN1or8w60wf3EYfE\n",
       "cGIsg7s00w5nS69bdyXY/7LEydEjAHLdYJn2rAQ6675kAoaA333dVyF6WAPbZKgQUIObbZSb7kHp\n",
       "5VyKqb4SInvsxmSsPtdnIMUUcAMZpQoMD4AblakwGofm0xzAcIjdlrJIzCy0XdPjmJK3K86zUbwZ\n",
       "dv6KrCX1CdwxoWRaEiWcTOkOjqCG+IRmYvgjZOhOXPMIBcKTSYRd56opaf3q9RURAlInu2lkcVw9\n",
       "rfmrSvhPT3mJAl/qNtiM4jbuYamACy7kwHf5SzwCk2uLel7ro3cjHgpekEc6n+dZrTwc2iMBQ40n\n",
       "ZqMUnJemexf95ryIlXG5310u8kk1j0NZc/1OT4YXtA+ZH3oKbtq3lJHkf6l/alsq2QBSEKfdGBR0\n",
       "hr6h15xSbo2eEUZG+qBe4PLaEOPn8IFJsER5fjN/gHuf1hKl2GOLYz3yDQAJKg5ykQgsjkSdJGlk\n",
       "vpRXr9o5J21tlVvO1YLvnbxivzAH3r1QpaUqqhLwdHA5ogvn/zwRKTT5cKPYm3QF6TgxwO8MVTjc\n",
       "U7Wllo4XLPvNKO/oQ9zbVRU2+aNgAAAAxUGf20URPC//AEFzqNN4FqpspZx1uMXk1CXL721VIOki\n",
       "M1+oLxchFOxJ4yCOdiCMdyM6Abrr/bdWIO6A2WNZGnxDE+G4oTYMYZ34ubMGX2lSJC04Btp4Bx/I\n",
       "BWRsVvWn9bvJmORx7+zB6udcAxTmjAf19ekVLKiKcCgFsupf5yQRRPTfF/MRSOyPQuTUKwJ5kD8J\n",
       "8ZWKD7bCgVKmhcgk80ynw8N2zBwW6dUHq4Kjfi5z/1sgWkrZmsFYUG0/U2PJ37j+YCMhAAAApwGf\n",
       "/GpCvwCG67lR4rkQZnm5L87kQBQAtjFjBjBugBpUcQ4WMzXgiE7IiU8xwbmTuHTtwXO996ex82X/\n",
       "vetAkLLzP8NY8F663WEaRQO3RPQtu94j5fTMfpkNYwU4ZuoQPHfrbSoy7tkSixpnzmXNX2nttcjx\n",
       "R7Lbpp0fl3/dKQdRrG7mvKaQ0t+ZpaCFmYuxXTYc0jkKrClm6hunutmgbe+fWhCvm+kNAAABTkGb\n",
       "/kmoQWiZTAhv//6nhABuaXO5NbOS8AOIu+qCBb+DdpmNRY9x6H4Zvs/C3G7vqIWZ7iO6GyuSeWrB\n",
       "7Pd1h0CS4bLT+s3sqobOi6Btz4nZrcSUexC15p5zxw7AoH6R3BA5ikd8eluH4rj6eXzud9ZKPHdF\n",
       "SPjMGaepXpuKAviQK4ZZqg5Lmhra22xo9u//ec9Q5JppOdTchBgYE4RxcDYWs9wCEZU8OEB2Grv3\n",
       "I0PCxfugkYNiG+c9T//BYh3jdpemvhSXrjnDGT21KOpKl5JuimK4cfFug5cK1oE7IGVtggXG/djt\n",
       "TLrYfCq8y4vgSSrHwDiwKzNaDE6ve9m67XZpl0DeekZewdiurjZD5351KdDGjkUtLd7q4yk3cjfQ\n",
       "aTlboQ3tpuSaeFbmAlnmUfrYWjoLjbxVM1nZmjZbev9me9KQTLkUaoigwBpqVaMAAACsQZoASeEK\n",
       "UmUwURLDf/6nhABupGXd1JTv4AHGSS5xiSKIGGX11mXASFTQAg+11bojPfJTIXxSaqV7xasrGz9s\n",
       "Sxe1456iRYySrQojCgmbEpffw3B+LbEWBe+Cb0NXj+mTWIPp1KoYPGx/ad2zHQRMWTng+24brEfT\n",
       "J4Odul1l4lE9N0fDM6q+k+c7wti55EnYesAdp1lFIpsioUNbvoYClBL6Z69LSz27x9ViIAAAAG8B\n",
       "nj9qQr8AgSqTVe0eJXDoG4k4AV8K+kEwjS4K1idpApFApPYDn9/Bzd39aft1Df+6qOJroHX+xzx3\n",
       "Jsdsj6YTVdvAUWURkhQcCHp42jgr107yzNSPLRMCi4xczBUW2rCV27k6l7I7koYWGDmw5oEAAADw\n",
       "QZohSeEOiZTAhv/+p4QAo/Mu1NSiEKd53te3YAFsZUPOuch1Awi49fzNZx0NTlDxOz5tOlmxqBZT\n",
       "ncwWnMQi10VTufNjQJgvotX6RNBJCCSCk9ZbKyLIn0vdxMuPpFvfpOCZdjAngMaAd4o9mCpC9ihP\n",
       "C4OlQxVTt+APU3OfWW+I53P6e1P56vCsDoap8kjGWA3xhxS8uzWM83FiJAdBrBH+Zrmc1NVIugi3\n",
       "1hCc5Uw/4yCdHIGjW0WCVPxCYJjTqzTkDMJMhmZdXLplu6/TLa8YdWGkv2ZXCBYUzUm9fJyDrdyU\n",
       "5dPab4tcDb1t5mBwAAAA9UGaQknhDyZTAhv//qeEAKPzLtTUJ/9Mxa7m4z0KmlAhzfnCbYXGAES3\n",
       "5wBA8+3hmzEUpfZ0+aaqaeBPxnQN809gBV+IiT6/QWtI3f7HPGomymhP2zVc+FTw10HUPNp5dAwF\n",
       "PKX9aR0xuZ9yWgzgdXVkA8RE9LmXX7HZXASk1Jgz98ri07SAS3iXyNWCM/2+vOoABST2qvoPEHmW\n",
       "7/MrXaMzw4ERrvU6xvpYh6REKrxA4Z0x/hbIwy9WAhJSNcGwivewlCzsAp2zsvr0xf/nquN9wOhO\n",
       "qcSvz400YJmPWWnep0U6JwX8H2GjpIxGy/QRb4q1y7wxAAABs0GaZEnhDyZTBRE8N//+p4QAbv2Z\n",
       "oB7yfJVAcwmrh72BxTYWRL7Zg1pvf9k/lvPIJtRtTJiiof/27SuxHWK3Fxyesuo18+OhDGz/iYAo\n",
       "4Ec5ru+VvNFaBa5F5DvdTaZ8kMw3wUp4qMINPFTkCpxPJBJq3C0KGV09ygS1z/euXr5XUzW5HCv8\n",
       "8GE71irR4RMwHBDovYsJ4SXnlNCAQs9H+U7Bpcs7jgwoaRZpRu1P3Pcd8lZxkfMvOwV2+HLN1hNr\n",
       "nwGF4SE01SxbGuS03w1+/mS37v8zNSAEpAJNnSIoNwUh8WbDk0pyMLPIMC0UGFlvzId1FpV+BX6E\n",
       "bMNHEhqHK8jCD82mygKDGrCRBgjamWeVi6Al/2rRlrw4QZKsVTmLJaHLtexy8wjMrAr4bXBbSL/H\n",
       "FX/4j+EX66iL+CRekqzt9kQWLuiHq1Jh0IjhXzsbuI8y+pi2OG1zItyrbwKRAvOVxJlG1uZw74Wz\n",
       "XodEZUxCyXKOMiKQYO8DB4whOhvVIt9YK9wTS/LZBN2/RpQ4yf1+XDW+hgr6w12LJUXdtIdTdqW0\n",
       "mjZsTGBtZZYzK7fxCUeB6wAAALMBnoNqQr8AWtonzsGOQ9lMBcIMqbbSeKcKUSak3zWtYJ5l002L\n",
       "9eVf9wpXFAHapJ9uCd57I0OjERhYmDiXx3acscs3GR+ieo4booKBW/gcU7DQ0o6rLUAI//6cJbQc\n",
       "1T192Nsu0YjkGZ257H2KKIbsgcJIwE7bst9FQxRjepQY92m843wHgkL2zPJsKS5YVFq7deHn2tp1\n",
       "jdGNs9TA8zjYXccYGx2f7JeDD/6Qzo43QDrhwQAAAZJBmoVJ4Q8mUwIb//6nhABT/QPyv8/2gCkx\n",
       "1372LOfCbapijtjYegWc3/9NvW/VRuPNVZTRQ0yZFdZ7eSrpLGXzuhfW2hMdD/fKD8cF83AAiBQR\n",
       "qGCSvA55W2Cvs+DL6pL8cd3j45acUMN6KuAQTUXI3EFTsIQ6VrdonxvtFaDf+8E728aOMYLshpAm\n",
       "vOxVv9jzL5NFYgiaksOE+4ZsZ9ii+PtXQb2Qp9qFNll7oQo9C9oVW3zjEcAoeMMBdA5/eO5TBH0W\n",
       "ld3mj98EU+8ddQ2YWRicdBTUsea20ExSNpWrvWRqgwOTnVuOb3JwLate4niZrw2WMe7hNNfLhzH4\n",
       "SCEv1r4I6V+6Jto8a666B4O4W3Xgn+ClDzVfrNcpvGAc+mUaujB4FEF3EmwVExvwS7v3W9XgYFfw\n",
       "De2Pll0i9fkMAJAypySddXKwAt6R1yvcGA1TwY45IZzjP+tKYE0d3gefx1h1Q2xiU+IJ74/RBDml\n",
       "ExR+6jCR64C1X6yAsZQVHEUChY9eHPH30SBGhWaOK987E2cAAAFWQZqmSeEPJlMCG//+p4QAUjmX\n",
       "amoXPhyZN/AAbVckAe8h+mgodqzaIbnUrj1Vf7f5LhQfuykOQ2Mjmd+BVyC70vOPIeND9UZAujPu\n",
       "+LXZ+jhrj9PEeH/sx/oacAU+aG1E7CpviFIHQKsBXibs/FNx9jYsfb5K8gHecLt5gXco9IbiNIkh\n",
       "Xno9cc74nq/gibWn30T6MNSr+TSyj3uKcYotLUZ62a1ycDJn9tWeVWXLxJZhW3Ri/UfooVjgblZo\n",
       "5tsyJr6vflM8m0/EGhXGhWglbb4i3R7Fkeof+lOkczhIYM27rrT0i7GfFf/I+DIT3TvHIasaLVlG\n",
       "j2CMxca73EelAEHAY2ueEn8HzPM5UI6gLehgnUt5cqKKtjhdN0c6MPH5uVSYHLzRzsMMH5t4vSLM\n",
       "yciY4xyy3+OyaJk5Y+vpaukTtHix8caFt/NlZqH1FK7vJTsGy6W1AAABsEGax0nhDyZTAhv//qeE\n",
       "ADcpK5/nxzl0v/EBIAHkWnomvXK9BefD92FOaSq6uMyqtUWEeKtbnmjsFZFdcS1Ns+toHHvUE5dq\n",
       "t1eCSeUCDkCW//hhB3BXSmbj/QxcXaNkrjWzGYDsQL98sMTziqgFz7K8Wirf9sMbTRWo/ppXz7+0\n",
       "Fac1xw9dN6LI8JLCy2maUbmKd+H0t/aaE67c9OQKUPuONoClMu4cizwFwiTjMQ0sRlnx3SPrMeSn\n",
       "4wlVpmfqJY/lvPk43dvU/uVh3uXEu6OsL2mrSHxIE6cZQ2p2b1iq6GPmWdOHfHpyq6eAe3sRsOJx\n",
       "mX5b/ETqcteFZt3M7ebV6tSQ6DTt0G1uSDZdNrgoOfYmdz1+eb8LL/fYCZbu+/EWvs9S5F3vOBfk\n",
       "JUMg1PgoTDI1wdO4+3ac3cxgfZew2kFJMigjOXrEZrnaEjmgGunSyxClZz/uqtjqxwuB190JHUQg\n",
       "qOQz2ybIkQg1AdJyQazgJaad0QqNgb6JF9tD909kV1//t4L2GjzwKju6wHLxMVu8JbY5kdaVAyub\n",
       "GrIF6wWpniifvvihnuA/83HIqQAAAbpBmuhJ4Q8mUwIb//6nhAAqAnJhc7xVlCvaADpShPAYnyoa\n",
       "F+r5e2pZJa8g406B3S5/a2OJAW0NVe3fstfb3fVdcLAHyqgK8BxnMcV0OmSdvBRE8nJRoRqUcSrI\n",
       "bON+QEZMv4bQ9Yi6yJWuSq3j9IPSniLyG9Qi40c0C7QW61R9uNreZqmCAzxTO3fHjgfIf+Kc2VOp\n",
       "jGUi5is6x4vCAD7ttp48aogyxRTfc9pgRLfUcwzFb6WJScpQHJbG0h2yF24A+PaOzbnuvXiMNRlU\n",
       "nXvCV41SVC4UJjVA+mFEMm8XBr6WUB2rQjX+Fbqra7mTDqoAqhvYu1GlzakKGU9AU+rjzz734YrN\n",
       "uv9dsv8bjJvHvbEo8m94SJ+P3Gu54/eqSAlAJmT+fCGfs5tm+Nb0IZr4ZGGlLTpENfUV8MRNttu7\n",
       "b0Np5raVpHg7fhiCVVIGK4LToT/sRsvrn/DUdc2XYqslGAI0KRdAzhT6wRYJLU0xGiztpK2Hvc+h\n",
       "4k4iwaeVUc7WBnzkAfmcU/qlZB91TjMnaCCNCiDn0iekX4n4pupk2wSjmXQMANGX9ioM20aVbu7v\n",
       "O1LdqCQFP8roAAAB2EGbCUnhDyZTAhv//qeEACkcy0BlKBzOyACHCmfHe4RqHHZ19SX5SBZOAZSU\n",
       "JHjBcjBdrJJOVrd+nopbuyoJ2qUWnIenqk/Z9m3srr/AQ670d8E/+NThm9FimqjQNnROlo3csFRS\n",
       "YADlhjXRe/6iZpKqtJnmSYArITGtsnXj97p99z6bO/WLP26i2Wu9XFjSJA4TdaIBG3AKHZHT6h5T\n",
       "q7XI1O3A93HsJBZBEgp/Ei2OHD1tDW4UrYMN+0I5zsBIhlMaMKpNwdYycK4ijmiVHOnfcgWvnOUc\n",
       "ULdxtfzjlhQhcLa/QcKApwf3wYqZr8HNV3uYwfParrxwt9wwTa8LnpSVXeIICugGYqqX0YzfDNep\n",
       "aLQgzc+jLu/NxI6AhPD/1AaenZeay+zfFg8JhEfCX3isQETor+hSeZxmogF88+PhF90XQDWTT+qr\n",
       "F33Z2/+VGZfqo80zTehudwVzmmgHm5IG2aDkXjOKeFBOXh7M0Fk4fWgl15pLShwX1qIe4o+hJ2OQ\n",
       "TuqNOto/yP/UPU8tY3Z20FWQEz3/jjiVCzFzqU75NugWQV57fvK8hsWz7B/LvnJ42wo9MTrML9ly\n",
       "FM8+hM4uldUVVF54M6cQipsZ2mPobrhu8f30oP8AAALcQZsrSeEPJlMFETw3//6nhAAblEbc5L1r\n",
       "clSzspUPPuXAfWPrSDVElCtABzlwDIFoYSac/jyLxe2g87ZqtUM/6mmSaS2mSpu6rA+f76EiIXFT\n",
       "eO0s+N6OcuIam4PnJNdeisxqu4g6o1LjW7f2GKK9grnSlmwT/+jXKbPMFzJeKw+t8NDtlLyLXNki\n",
       "rIoo4NeuodG7+FavfFjMJ5oWOc+dcNF0j8zYRoyP08iYvWuT1V4NaIxZfhvRMsRzcUx5OVPiQHI0\n",
       "8/drh25dU1VmuMDY9VAn9x64Jvd0P0ivkVVZ0IJ1LlDpOLVEhhP8WrNCT9S9EmsMzVgeZ2kkCd3c\n",
       "D0OA6vyhW0L1UiTOoo2BkY068tRW+I6jQqbBF+6iHKUqfIYGKC6v6unkvA9sm2XoNuPOOW8CNs0V\n",
       "OtqX2fSCc10CjjN0QVDJ1cwpOo+Zv0bbIFoHNSTk59JRL029YHaEd+L8o9rnXad+oJE34GYWQEXQ\n",
       "YYcZYneaCXx74Q9hz1m8F3Mvm1eEnpSX8auJsmvFTOPklDg6ZI6WyWOSL+dQRr2AMWOiX4J1PlwH\n",
       "cFXX+l4LTPlEPSdNG2wuXw/gkme1GTcOADn9B4GYjeOu2W4N1wRMqfnXioNigWg1K0qJIEy45XVD\n",
       "kRFHi02uWL+c141+773rtsgz5utwa8ax6OWwye7CgVvHT0l/+Mp2s4QutiHa7j6mDdCm2ITFKMkp\n",
       "R2RouaMyQNpd67qNmeqUosWBkIHvYT13dlLlA0Kikb3VPT76LUAJqq8nKNuzwSwJjdwRGDk2x7QB\n",
       "LV7mJIcwS8qkfiH6zCeFZmbuNHty1f8VBH4mqRqGTWFSNQweIg99pC++fbOFB2qxAmqRmbo/4A5+\n",
       "+nJjJa+5/Lvd4A/95zi4/Bbf/1BzHuGYqd5nyX98MRkJeLDos21ha7Y25SdkINz/IH0rhEkRYRAN\n",
       "4jAG6Romyx4I4HJcyj/41qhF5gACN8ZTAAABEwGfSmpCvwAXC3J1Jn730vHHh7+Sa4xRgBZgppll\n",
       "P7Un2ZIw7IOoyYOOVO0HMk7BEeOTTODoLxNL9biMz+GdaQlBja8fh5gmahp48Glap3c/7iBFyk9p\n",
       "5H1ZzGNDGfsTrENcw49J2uekUIDFK1I3EJeAtXzYigL6Okyumobu+WP21i1xccAcO/6KUbz4kSTk\n",
       "6h6C3jgreIhjTthesKlMzLpx7iz+sEGQa+lkXxPBDu96JVuWUOxRWwjLn/GajVXlKJCbCP/VhNik\n",
       "r6BHM7jQccBGpvzry9+cJ4a56LvUqEy7Fi2Hpx2Si5dwhRC4kJI1JKptle5ZAhpXTYKbIYAiSSBw\n",
       "WUEm0AopQEfjiVh5rKaRzaWgAAAB00GbTEnhDyZTAhv//qeEAA3Ue74uUgAvr3l7t+uk2PRNkXr7\n",
       "WjDVDHqNOZQ9AA5ZfLuFMgubbLSfRp2ERE6oDivPSByXcWpsX1wEOwKh36xBYBocHeY+NmnFCmWQ\n",
       "p9oIl2nQjikZ7XKveVrr4BMAEXbqocmwXvpIC0kMZK7HBkAXO35rFCkhstjx449qXf0DCKstGf2s\n",
       "5be6Boj2fI5rN2IDhfNUMBE2XsEDAPrfr014ITY7Vvj7k1mxKsY3KjslZuRRhyFDMThYIL3K+1v+\n",
       "t0cf3bu5GxzbUsgR1JDkjd6duRyMWAVmetSBzNeP/z9nlCZJdFDAr3rWrUhXQ/tQra0Bz9DDNfBz\n",
       "rk/qnYo7PY+TIMIIsbFcRKNtKdtSyiQ/TSvnKZ17c6U35Sg+5zlD/rnGt2ZB552Y0PW1iDqH6JSJ\n",
       "zsgFnpcaH0J59C/n91zGtWTmcuRYM0oXd04PLbby6gPrzgY729ljeo6R0ytb3LjWU7kGH4nPDJae\n",
       "y726B5dKFiyR5jObFgC+pavn2ytpVmauM1M7Jz9F5hL3Yuc/JUtTcu3zG7ZMOuZ4UqpFYuFHVPIC\n",
       "vQiKbAGtoFuw6vxrO4X3dTC3lcnYaFLpW1EFQV2IuYygAAACEkGbbknhDyZTBRE8N//+p4QADdjg\n",
       "2i52djMGsDuU/xl/2oVZOYAMk8Z7asjOXraaTlmYaPwi3HBVYiLL2t33I/WrGEDc8Et1JV6h9UUZ\n",
       "6z8eUs40I+hQgQPx+zGDKgmCAh9XbeFkJDpmDDD7VKd/GX+FLflPFlq2rL9ZlxMdesYOhd8GQJq1\n",
       "5VoBWn7GUmEFYjSeYaAk04IO7Tifix/BT+rqX73UFJwxejAhydCXuN2FnzVVt17AsCLdoWXLOmbS\n",
       "YaNLU6SlQgBWLZDHWs0Z22NoLw9ZReeVzxgiZIct5nbm+PNwP9AtK+sZSw8e3GXs3fHKApD3MH13\n",
       "j5dJbGjUrDovmGcuraF1loVVDfTA7YVRjUsw0LAuL3JmL7Do9g5Ci45pF9LeVd4DoeGKhBcjciRK\n",
       "oxVfmXzdIXSWgbQnTv1YwclXT4eh7nrYMtHRsIUOfBD1GCJ5b4I3Ni73Ok5Kie1dSHl6BpeXLDQr\n",
       "sQujlJ0kMUDasmVZASBEqxOsxKcICrM1o1ue6U7zI/dMqMl5gjOz1QUZyZVNSZ0xInBfISN0CA+H\n",
       "OL10lWdzcvjfYvYj2cEPsV+x/Hxk3iHAZ+meeyeF/Ms/dupiq18pZdsUzZ7ZMhDTl2EQrmc3Daq2\n",
       "IQS2QCfE4nygANPV8d9RRJlMgYJFyHDjaCRvgz8ODZTr0WPqKw/FLP0vFVM1ZgwzQmuIAAF9AAAB\n",
       "YwGfjWpCvwALW0T6Y08qemsAD9yTwAmd7oNPgtSpBS4lrN8kEFzvcMsKv+ZbbdQhcU48kgzZ2h/i\n",
       "MsAkEz5xVEAdt59V2VN2kwJksXBQQQI+NJoyoF9LhkDTDDjYSswN+OAd4yuRRQBRrPhkiaYZKnkD\n",
       "YtDbsOmqk/j0JvCj5cv9BTPc7MaIaDSeCLPJjlPm58aaSJXcpQY+6IosQPOkhT+cn4ZTPaHyv1VY\n",
       "N6Jvfe/O7kOSh9jXyfAxV/XEMECRUKmAdJOWinP/fB/MR8EScqBbm5tmjzXGkxN0xQrkriqLZYLX\n",
       "1qIOHFWx3U0ZgK7mIYc/BJZzv1stry4kNRbZh30k26UO5lfPeIs4CX3Iu2y3W6rT3UOH41JbntGr\n",
       "liaSgXnns//HhpGtS0B0Cs/GDNLG6ylKZ7lZTOAZIc752JHuC1VroRaU/5uvrDSLLZAlUKnzb1BK\n",
       "fdRfNxpN9VggL1+0Ba0AAAJAQZuPSeEPJlMCG//+p4QABucDLR/gsXtwByz1QSMRZIpN/jWRCFTd\n",
       "uQHn0Bl8FS/TBP87BWhaaZWM6IAJHig9LIQlkPc1fh/FhE1DuH/JMp0WozVTGg8Mgg9BCtc7Nr/D\n",
       "zsjXKSVS/awgqwHgoo8gf6bN8ni3Auc1s0QUcxhNNT8O+n23XQyapvIGHQkpIKX4V1LXGiN2oSes\n",
       "WTqlnc2CyfRbJESagyPmOg9iKXzlJw2zpMAMFHe3mglxOM8Oabs90ta+3WO04SqUeotKA4uf52e7\n",
       "AmgreLmBq5oeG3H37pH5180J+5uHt7Zzq0X3N0w3nNgElfOzu4ykyIihqs9Z2KSFUM8aPCMIu3g+\n",
       "p/168DeT9oZ8wGThR5FQxho6khWgdn4rCJYsi+3yYnqNyqHmds69yfvVtnYqcXn6kG4tIYienql/\n",
       "uqQ08YEoTMQfL6NVtB4e/4E5iyU5s5V4AoBIddNDWz1QoMZn6N6BTYxB20cc88T9A0u/CrMNrzEj\n",
       "DPNu24kceHvw3ujeuYTvNDbuUoRqHr2PeF19LDouPGKf0205uMW+AlqVqhFGqp6QRsJWgX3BMhCL\n",
       "EnHtSDAeWJt0H3GQOmN5baLh+kkAqLgvbMLdEvmQVsl4otEsghETOsj90lzYo47Uu/TZoDTmn15K\n",
       "VYVmZhZic8jZwJfqWurJ418vyuvBMi10VSnlBYdILmpYWqI+GVyzIKKDcPtJa9uzroRSuabjt+H7\n",
       "Oe3c3/jeyxaplwZPahs0CdycF8hOIg9BAAACYUGbsEnhDyZTAhv//qeEAAbH2T5XNkBjsAJ29tRq\n",
       "490lYpFqXYkaJxV49lGfpS10HMThrW0ma5yUeQQZpMemBkTWRXLlLsbKBaZhYliAZWOb56naKjKL\n",
       "rr9U8LVxDk3dSf1hKQA0JHJU/JFMN89EoVYGLAT2YX6MuAEwHAOWtIRPdrAoAeQpmQwhZMaf6Cz2\n",
       "oV0CM3oCeF6VeuP1Ecdxq7Id33550BgfndD7Cc++r2jgH3Dwhgme6bo5pdTT0sRH9E7ZhBJO5+aa\n",
       "183iJkv01mPjIfCPEiC31J9x5L8N3cIAj74HJJqJKX8oHuCWFTU5gy3LKDVPErXfUzalEJMj+n2z\n",
       "AyCH57OVryn6nS27JXu+sX0jyOO93174qsjJyvAMvpMol1vpOEO10RQVYj0ICJUI57rah/eZVPMN\n",
       "Z2qlSy9QtzGq2Z3TFQ50/4p8e40DvmHLnT9gVNuHq7iv3x7R5TzmOqLg7JQZLhvjX6qKS0vPVi51\n",
       "uBywkbXtd1pZ7BR0vYDTx+fVyApJXwZdpJD7QCKtbPH3EQIukojqelM6o1F961SYgBAoYyC9RWiZ\n",
       "WwrNPD1Oc3M9aPyRdWkOR6/seICSp+TvcwU4sF7hPJzpd7tHHhKEmd5xvgiEqvmrpruN+tm+EjB/\n",
       "pHHQfOR9FK3VycxsqDFEjSQZnhSedm5w8KG8gnQDwi7TIaHWUdbi3E/7j10bMFL7oePJ9W5+vS9H\n",
       "kAfiLSCM19/TWrpWEp6snK/faD6LDoWtPV1PFWz2Gtc4SLrSRcGmtQELb36KBNWBjeTY2c/AaHjx\n",
       "LqIxaoV6RR1a8AAAAoxBm9FJ4Q8mUwIb//6nhAAMkcV7AegBsgBuhXPGMoBkmgWutMlUzHidxin2\n",
       "LTe15mRu8H7PrtHXP+mTD/eyaSTdosej5F8AZGdUBH4fgsBx+dDUmgrxFLAXqj7JT3M2i5vrDZtf\n",
       "9SpZ4avv3QAHjp85BolsfR6ioEU4st/otchEtaiJIwYdD8gxU1/PSuCwIzCm7azm9ARUho3CL0Rj\n",
       "zdLnfdDPvlW/GoRefirHowFLej52smXwDuf2vfCn76agP611cfjvpk1ISqkjgP1/biS2rZC3joo1\n",
       "/3Y+2i2lOux52mpWN+521T/HosAaR9oWsuG0bfPnJgWIzETBTvVvoAZD6ONb89OpaKpi0VWZa1g+\n",
       "ygI5x3WgrJrEUuQQRxanCHlBXtrJqtzro4YcGljdS7lDfGCBxIcTYeWXkQQf/IuAZWcyl0tJBrQI\n",
       "MzqJk+ac7d8Ez0p3Az2tQlXbFZa/qIH+qA69oRFaEvduRI32x6RbWzFm38GfDAFUSCcqlfwXyy1t\n",
       "nRDrv8w04ld5pld6pvekGG9/X1vnV+qpm8kJMEky/IE8AKZn5KA4DT0f0xPhc0OI38oI/CD19arg\n",
       "MgwGGehP/jcjmhS7e2lODQPt0yo1BaDtTZDGCyF8VEw5ayxrO6FK0F8vAmd81YMfGqfzjiGvLIJq\n",
       "s6VLTvjDXPRMN9cZ4IIa3TWQ2o8kEv9atAwlLZRKjZ7RLHQso7czaSQS5wXIZDzKNKhUmKNYrnWu\n",
       "fxUI2EIq2kIwAv2HvMWGJrd9lbEVz0nx36DlmO5iv7AwizVTE/CXwtbH7WZ8iIAIWA1j4qTectkc\n",
       "SHJkLAc1VNE8cyVxrIcIESgmQkBMXziRx0dHeJwQ0pqf2m1nIV/tAAACjEGb8knhDyZTAhv//qeE\n",
       "AAzboMp+mQCZBrJIA4jkDvRViwllg71MQLImAXK6jfSzZGR/xWiiL3Ex41UI0BD/jJCtVJVTfeP7\n",
       "hWdj01nIcjhboM6SmRZI7EL6fWQR8ZR7pmCYekVtqWzEI2hP25jA3eOcTlOxsNBOdGT/I+JCrSXe\n",
       "zZHU/KYO00wnUlvtc4xsJ+8H26IaKZEj4oQvDdV3VaKS/aT6b5lZ/aUurYFLtmVc/+SZvGcRt/ao\n",
       "r/kYvIqzPbqBRxr6NZMHlDCJ59r3INWVU2cwg93JRpP8iUtwvrQf5sTVV5XiqKvvdu8oj0vQzSQT\n",
       "YNBJSLvUhs2FtZ+YNmd7t2ik+gAptIE2AxOBLEHoLrykWc6VKez2XmC8oyD+8gxbAtDWKlwJ2n+M\n",
       "l1maX0OeX9I1U3dQELhFhIOhBu8djngBtu0I2f9ReigFXIkG0s9JWC1FEwOfJeomgmoQn2RP39Fq\n",
       "QRjayTKWNw/7OLmMoZwzw3P4iJLTIbD3YZSP3/c9qsKW46p2rahDfO533LKMIQwPUdDYR3x79DNB\n",
       "CyDwNhB6767I4ai51l2nFhovaTrE6mqcWcbycB9C41AZR87Ja1FwJknCiI3pM2/VCdetscXePAPA\n",
       "PN1WSbi3KgjKk/drTrsBEQmhpAwpto3uniwNmY0HUCRHkImUMUZv7AnKJLxuwi2/wpalWmGNvZuq\n",
       "l7UMhBhzXhTzZDS1XIMB4U+reLOp5NLDEEyINytBnv0hdcdljcWyz48Lad9FkA7wMAYSsDpNxPgI\n",
       "vvJRi3Mn703LNBa8CeDZ6T7vpURUYt0h9nxpsLWm+wjLd+62YXvdAeDQI/kyL2f5h8rLZpRoDa1R\n",
       "Kgxn7V98klnaN2EAAAKcQZoTSeEPJlMCG//+p4QAGT/2cBoHnMsYQ3TekJZMGer+UkRebC3Ofj8O\n",
       "gjRCsZxNzMt0FyVraEKK97e2KiBZj9TOSLOMY5AigeeGJP9pQ9VvCmMve6fc+ZFLUge6hDhAEIcZ\n",
       "RY8j/U1OR4Z8E3ZuTgsYlo/kKcomLqwKZsYeLf5BdBxZW/X3bCgtBcv52Jac4bLzIC9MNExCRN/t\n",
       "Cl+Mt1Qxj5ayqR9+19sX+Nf0SO0uxFG9mVHonMO9jYWKl930wRCR/omqX9a57asEijUF4KWvDnZY\n",
       "DFBv7wORfffUavxflBu7VyeoT0a9UreDvYFfdgM3V+gE9bmILQzle6tKK0thioUq03Rchqd0LmSt\n",
       "dYWA0hmUBUrknOdGqL1oOM8msN2uczg/0pTw8MxptkcA9FJPO4weKODFgsCUs2jK/1roVCBg8T2h\n",
       "pD13JKPFKzi9ZnmL6NlB/x8tr0mN3vsmIBj/xKBj+zGgI1G3B6cZvdnzEyBeVXnSNpXXUw0b2Slo\n",
       "3AAvCX5LISgwKzjNjIEFVEZJI5elx9qvx1pZxr8ESNcZFyC+/XeOu3abwURQKT4OHhZ5mb+KeS6/\n",
       "EOhVpuMzDMek9GsuKTbFBjAff9YBeT4lM2rDuBZ3u7m7r+5iR0z6F5IolAByo4cRMUYIvL2AT2xs\n",
       "sH6lS1NfsBtSQad/Onu03xBrRFhIM+F9r+f0O5h5R3ENSipAmC+yaZ5qcWYGe+2xdKnOr4WOAI9i\n",
       "PilTHZfMJZLWrjxpAuA8A0frCMdP+Mcs+Gh7sM7IMXFLuwKQ7enOmkfBNZ/zp52m7ECq6b2USz2l\n",
       "+rBE/KazDqHogNoxmLW6g8+vfWDeGWVxQQGCOjTacQh/E814ui6dxgorMqdQZMUVnDTZzwSESfgA\n",
       "AALLQZo0SeEPJlMCG//+p4QAGRc8glueumnhoAP0AnmjLUT3NeURQ4UGvHQFG+NtbS41fQaQDdDL\n",
       "nxBtpHVbI6BKq/jXtfSZYCMZAg/WbXquOYfUOhuKRCMHlNuZivfIwWHPUV4cJAGCD1oYMrSy9s1s\n",
       "am+ekPlEj3bEyBlK228lNtXX89HKTif7R2oh2W9HEyzGJ3a9g4vyOABAf54hJQrEbmzjpD8fI5fU\n",
       "hFIPOjSTzb/38m4cOKatPb8bkiIj6pSGnRjqM37b36o5Kn2cdCOWVL9dkWfFpib9W58UoNOMs+3q\n",
       "fpB6x7tSWT7q+Uv6V8UqTLQbF+u7zM+SHjnKN4CNScziBuRmNzoF7RugqFuAxaA4GreY0KaKmKgB\n",
       "XVU6nVhnbjZuDRdwemR34p/xfriKA2tWG9y21ZURkJDMIgawir7BjIRwDrli1tB12iB7qhFPwl1M\n",
       "0DtRLw01XzVOjlSmUbeamgiD+IEoB1OqU/c6QZ4WHASaCMC4QbY6Mx/N4OzojjeNrU8yGmRyiSZr\n",
       "hgNQ+kDyC7FK6/RYp4HOEgvfjq4XEOBTmNK+UIeKWQRN2fbW8x+8RS/ccrHfcNm6Se+UVUfn13pZ\n",
       "jLJ8Q4iUwR90D2f7TO48hV2XnbPTkv/xNkNS5GReTyYihk077B+i5g12dGrQEyBuiC3APlQUNzsX\n",
       "Qr7ee0G4Zr6S4tRzwO3yRG0QBDlzPwkSjeSLxArQtlAlb0ccHpJ989alX9RD6D86mm7YYLJs5Q+E\n",
       "KcV1iQbox696kgYTlNeSYg64/Cb0jhcHBuWkUwyueNSOw0MWpLfl95zTCe+7Gcc9Sd38K4P2bAnO\n",
       "Bzfa9Wgz5Oms8Z+7O9MPiV9y4rBuiWfI/NOaXx7+txDzBhViIOo31l1CuDoAqiA0eSNWQR58ZhYZ\n",
       "wrpdjf7eqSEzCbrkoPggu0j4vuVC8HKuCWt4egc18g9lgAAAA/JBmlZJ4Q8mUwURPDf//qeEADIu\n",
       "nCKAGyA/taU3dUx3IMYLH+cEi+kve0Iof1FFKWLiuL5u9kqRBUhNGQuBr+LSgLKFGiKmBZgYjtDj\n",
       "LwvDoJE6Vzs7m1SZ/Z37QMqGmdkHgBLawuEkQS4xHtW+ScLf/b4LrdT+bdiYW2tOjG8iRNi5eakZ\n",
       "d62qbpLKciHZKub3eCDfm52fczKl6J+UKa2sVuwTJz//bmsO1T0Aq2J6lbx3HblAlWwv/bCEHpLr\n",
       "JUkF5FMDKIv5ei3D1ebHmgx2wvkILpa7cHnjMPHTyoN5PSA/XMQe3R3I8HjgyeQvFZih1Fy1YmwK\n",
       "gpWwdyimzn16k6OdwodnmFHlymrWDWBbADtz0qLlBji62Ovj0Ez5zX1zpc9UccAdHE4wwld0FJZX\n",
       "eQCm1uaQMPr+tWmM3BEStPvRmBmtAtmVX5WjdUTqyrBJhWmbfij/boA5oL7Drusoy2K8r4/2sybr\n",
       "bya6pc0VSZClOMI0qXxkSg67zpg+CdsLNmpbJYlqn8Co4/SkckxnGhLPJZ9II6qCb74OwF+lhiUg\n",
       "diJHeyvh1hWkhmjwuWt9nmAHYk1ctUu44Lcg6nvsVdseRr8qmVq0uE1vgYbU7eAPhaA9cgc7iFJf\n",
       "5VRHeYe6zEZTHQ0ZVucPlBSkfKiFfpeGpc6Rn0rKvDEMjxP/S8liN8GLwlpD3LQxLhegoGHX6BLd\n",
       "o7R26gIEj6rmbIXqoOMqhRTwldeMg1YHQn37CNbnudfD3yyfQxpHvVCES03AuMn6IFRwPSLN7c/S\n",
       "nf4tvC6jLYZb89svfYtvoJfHFAnZqR17ActkqBO4qTS9X/uN/v/8YTk77gKpcK+gAAckuR8TN2rl\n",
       "pkRgAbmKkLfEfaZl3oV8SUTgTGMQrZmtVFQU62j6dBeqQFlypIFs1NqCExsKy6zzLLKi+yk4KvjT\n",
       "cjFT5IydRt302DZdYR6Fw7RsOBYf25CjPoXswnkotGh6ZbqJuXKGZMlcLEJ+82b4eHi0pvMgXBMr\n",
       "kDMibLXJy6XZ8u52jOv+kRkZmu6wrhuP/Kk2iteoiLZQq/sX4Im7mrZxA5cKy21u0H3+WLnEwSdR\n",
       "qD2LbUcrgkH4Aq/M1FRD9N3DvMXbkO8xLzfXM4avnNB0CliEF+hd6bYOh/Wswy5LqwqWyE8vMJ7h\n",
       "Kg2aPa40iXHAGKd0Dy4v4o82/OtxDdrONwuwQsW9lV4/UkcoV3z4F78g9zC4/gAkCiuoN0ngPl9h\n",
       "KYA4f+8G79yR2UoMdqx7v1gkjshW0r/35SkvX8y+TuVaFKvsL+tvyT98u5Vvycq0yVVAe3v7Q2qs\n",
       "sVeSuKurwjZdv8qonnw/4g8fGFcD/QAAAQcBnnVqQr8ATqzJLZE7GuAHnUjaQBza8SxOFVa3XAbE\n",
       "tcKACQjPAGHS6sYpXgF5yumIDf+2dNeeSeQQk7UN1eWtP1hyn2N/7zvMXTvZfD+y99/VAX6fnrtD\n",
       "JhRSP4UV1gDvvPHegur5kLDq5yyuZRhcvwlLgXRN1vek4O/Lq4wmKzpMHn4xxdY0xVjprX9Xbl+h\n",
       "xIY3FrtJVq1HM765hg8C4kwJ8Rc9ojznHw040v2uak/K4URsgHBj5BZxE+j5uQnj5WTv5iw9XNPn\n",
       "BPRwFSsd2Wg6lTRbG3iOezNxLcD+H1Y+JjKBf7pIEMTqKu43WU1CKYgquU4kQylEGNMYqoFHugUL\n",
       "LWBcwAAAAqJBmndJ4Q8mUwIb//6nhAAyQpKHTjIAb5GGxkU5Az5RGqy7NRPIMaQjkKfySxZ73k9S\n",
       "MG3cZsSnSmZ9q3wNTYiA8DGG3U/ZYiJBwlo3VBs03Iu9Yo5i5wMcuWscwadIjyBhmBUHTHSTgTpP\n",
       "sU3TdMxEWSj5c+5KGsDvdERwho2zVa6N7+KZ1a/iF1cftucmx8pC04evwiJIJQEle7QceAhEjRLt\n",
       "QP0UUlWTHM5V728FsR9WNjo1Rg5bZiqTnbi5D0DGWIOizXOGDGDOoaVE47jeWo5IVT4S20EpFJed\n",
       "c9vdxZUJMPI7zp0oAO50hdyxvO1Czt/TmleUtR6v7yZF82M9U7nyK7UxycR6+ZYdEE5waC22imaW\n",
       "fvLaEwPP7J2VWITuIMOtC9m9/PSlwKZR9kZGaLNB3UPe8L92cSinDAnpxgO2nFHOUUhEzvS1uazD\n",
       "2gv98EjKvGdUpECFibVR5azJDqSbbKUL/vz4gbfGlvaNIURXCCU5nT+IuBmhGKkebcBc9n5zGc5O\n",
       "stbWjsupvRcVm/EUiaPKwKrWLU8sBAVqfKV36mPa/comSzmwsjzDViltCULK/GO3YrfUUm52I2Kq\n",
       "Wkh12eYgWceN7wUsWkFPBgWM01vLwyZCj1cQlJymbNjLhcVWZm/MEEBpwJuDLMmSOv6SKMkKMjpb\n",
       "bUzDthVgJ9lbCCm9U4m0qjbIvyI5eBEfJT7jCSkkyOQe6J0XLOLF3uxPuPB/vCat1VLc63tBpCF0\n",
       "6sCpg8PpH1vMn7OE5o65QuZdam6ogCWXyKgSJ/mFOppT82hI2TtWTU+JwwfD1lWASww/0E9y9ouv\n",
       "cxSuOkwR9rYs9ysU/ZBqO96Vc9OZiZnXV0zK2FT/syDcz4f66nVihPGxV/2ZJL47QdU6v7cBLwAA\n",
       "Ar9BmphJ4Q8mUwIb//6nhABifJiNokjGS0JfEowOLUl5Br/nSautPw+DWtb6ydQztLwhZJK+ZED+\n",
       "5mvy4+grQ+ycJL86PyTT7gPW9Wtf041nOgvWgDYXB0CuikNdXPZ7ysJXs7i41Cm2nLoErI4a09Wc\n",
       "mrKG82gOTqG74u5n8MWPQ7XiyxgdRe/7ueHpO2P4phyxvOfNGdlaoifG/IqA9vWKHhqrqMtc02uH\n",
       "40GZlmDj9mGzZLrFpkLQE4VJ19PS8ln2CQ+dke0jJs0YWabahACuOHWgaugXsJW1lz6YH3TQiFc5\n",
       "xIXgkvp54Pz4ZZlu37ZiCBJuFxHGD5Fnit3mU/0bujpxzRDzrwdIgDqu0sTlR/w0iG7ZOf9mWYz2\n",
       "jxiW5AxIuEIDpzpyoFcguWHr4TJZ6HgViplr0ExQgEQGGiseePLw9nxUbSzQNFBpXJi3h3NMJtOm\n",
       "z1NgznhqI9JrgD+UHs3RCW9Gc8ivmxv8J8IPuunetE+Gd5rhrGAp2hp5c/eTRNbFguyj0bdoqN0C\n",
       "TpVewT4qnFwTa9TsGku/fkWNciBCKxmrBOrDoWq6YSDRl1wJ9BjtFDJP3esPjmkiytG5tU0UVAqK\n",
       "RtLTB/DOfxVElmhh49mpVhEOjrve9tZozTgPz4kznJMMkoH4Ii4oX5yGb9DkPnzgq+0wYlf/EGPA\n",
       "8IBrHCBIa3ABMcwGNQZo8oLbQ51FU8MHDG1UJSpc9thsYvfMel/GbNAWsdnw9yg6n0IxAZx04YZg\n",
       "n/3jYudgvX2FEz8Tv3jdv61/fRalrNmEj8Ehj9z7HE+RfeFUBos5DeufaynEd3J0km1/HBCBZjSM\n",
       "Knp3bYODPbLVQmVRLg3ZXRDjqVinQP7J7yigdLoYVyUklPq1p2tMq8gVP1C897Qtx+PCENwXJN/v\n",
       "5T5J/tqioMPpldIGMagFL9jLWVEXAAACjkGauUnhDyZTAh3//qmWADFmM++r8YALZMP+GGi7q3Tg\n",
       "73tb6tuHCSXaMqcfyVY13hySAzLY3nGsa+AhS7KcAbZNfw3Prpa+Bx2USsGNfX9MeZKCfPX3dknd\n",
       "/fRZ+87Unb1q8hvGhpDdBrhJDB8YMymDSJMbhyR+98h1c2gz5k2WhMPnnd8V6f+hT4VQOmufu6/2\n",
       "N5fI4dIdNS79cpQ5AqE+UTIe5p+76BF0x1ZVEAtdVjjWusk65q+zY66GEtG6UBUYxPGlQi7kiDiT\n",
       "VrrEAa1KjrIUAqnt6vu+hI+r8aQ9w0jvsqka6CrTN/qh3qzdtdT3RsCBIBF5SbVQtd2x8vyfb0Ln\n",
       "o8Z1HlhsvXFu1Drrmo/LvX/kXDNEfbVG97m2z3F2SROOoorGcmDZ3udiDrBjcgCzVz6cUItTxiyq\n",
       "7R7sBQwojCQDUWuHTK6E+DOf0oJELUopyF7U71PuhyLiGCVmT4NiVgf5ZW/3q2QBG7eiNgWEAwn0\n",
       "PIBNYlcSpd1YRot5uEVvZaTDiIu/2sU7XW0AarkSf3nAtUmM2fA1tlVLzf3wzw7+tWLuKD/q0AFS\n",
       "QAkIrJuFafZj8N9n07dqrXLlmigolcHiIi2pb0bI+EzdyWY+AnN4E04dSPSFy54h2Qu0AS6oLjwn\n",
       "D3YXF+UE+06IhjKAwIccSzYqYdMsLnMLX7lzsMO+W5irjZXWf5c/+zR8nsT5AkZONBqMAPEgdmUc\n",
       "OcLeCQux7ZMhcXmxL7H3hWS0wGQpXx3eVcO2EQN02IKjHyi7J8Y7VlnFV5SvgELfyaFnfIJK5a1Q\n",
       "zuqeUq6yUrXFnuYxYo9RXxUos8sKRTpoWq8qcj4n71dxYVzFbdI6B3AZeqUeFGqgxZDQgAAAAx9B\n",
       "mttJ4Q8mUwURPDv//qmWADKQk1rGoAoNo8OPpBqYgpJxxBqppNLC8A4z+G65NgtBtC2sjfF3zj9d\n",
       "ogtCNuZBahwJRh7UHs+tN07Y/C4EEWSqVpLDY2UMr/Sa/Vp0BRKYADvbSizWpGxrvbr5oR+uSQHQ\n",
       "pSl4yPF9i2kOeST2WcK6VEd8pfzqKMVIJcXQ7+/tcp6oQqD1tls4wjP+uS/o8AXl6vMEvzAH7wwG\n",
       "SCHK/m2ioyKlXzGkd19iGtYXdvNLjCzSnl240xIuN6vzuJTg/4VVveHX6oh5fRbLZXuB8xtOgA5p\n",
       "RwFcY3xisLCpynPjRgjcvabDxlJJYrEEHVVJtl9C3YJON53gtLbSoThBN7+Tkrn+FUyNPOPil/6d\n",
       "sVozNX97LYkZI3RPpXsxGq2vK7v+i+I7EbtBsVPaTX48rA513H1Js33z9v3eGfyWMmUcjZVODv5L\n",
       "3ckXCS+hkPqVwOd2gM922tCWBeiBGYtylizRzsZC/cm8Zl1eDWfaoUp5abBQ7CvePkJRFDdFUpZf\n",
       "pDbfs5JV3jduUaXR201VTJm0/dE7u0p58MrswCq/iX89AnrVSCTI40LOrL2kNa/rEPsz4igjPurI\n",
       "M1hLr+pg4/x8i+YjBIbxj+t8bV9G09xlF9ZrPcIz2F2UZRsL6vxVCl+JIp642oInyppHLxy+3cnX\n",
       "YOnlGp3Bl8zJ+oZlTim6MGTr4j+WZhzI3o6sZEra7VEoYEaQxQEvtmSb+9t+uNhdkuXUkiGesBMC\n",
       "tKG8WkpXb2XLK4ucnaVAk1hAAkYUs1RrizN+213v3tz/fjYMnitYU96rlu3nyX4ai8OZEj3D85Kp\n",
       "RZ70oDvpY8tvZINRPj0mLBZWLiKPbm/8REsFyacCMnjI0hvl3K76dlHXtffM2V8+tyVE9l0dT9rq\n",
       "FJuynGJk7KaekiHrqlBcZ4GKGpXXiBm6AwAZdeBboJ7yjTpbePTY9lQ2qApZy7XIxgL1OZpwDTVn\n",
       "/7D/sM3pT2n9JRIxY6nPH+uBu6XrzdsyRtkBSTk1nUYG/uiOZ5kjnVWptn+LR3bR2EIxwbf29MHt\n",
       "AAAAzwGe+mpCvwBR8E1bCDfSkvzqSFBCIZS13Hi8OVH7Jzny+V4gjKqizrkuFfuERa6wSQ3Qu9wh\n",
       "p1sLRjgUswQHu+axE8sYjXyZHn9wlveFQ5nMhgfCCA/Uh1i8gfndFwBrNGWYCinWa+1lKC9w1tPw\n",
       "JZOzL8Pfc0G7eRbHAO6YuYEifUb9N9082wbwjTNEczz6FFPMbpEWUTPj+b4LhsDreIAN3AP3RBM8\n",
       "qU8sLGXO8hrxSFqI1eUveT2G98O+sTPI+sIJ50GzIP67y/kMLZsHhAAAAe5Bmv9J4Q8mUwIb//6n\n",
       "hACKqD6l7hkkDwBehlJfR5mB/cqDBan/gtxSbEy3k9dwn1PRIlb5dq9MWWOWdeL8tgUbFV9+NFyd\n",
       "VITeCVeDbYw/e/VKvwPkI0OQ9hkrIOOmoXiJVRgyF5DMitwisBKfQ4p7gMvyW1zO3BWZkhXb+hs0\n",
       "eRto8dVDgcMjthZQjfEnvWhDUt3RJ+ml6iK+pv3bcDr9MHweBSj7BWisNfkS6ZKCHJVt8pCpvJlM\n",
       "HyKZhxP8Cwpi+4hbs7pMwEThXc4qbzWR5jN2//3kp+CyXz2aCY1KSf/TZP9izs8P7CLzmEkU2aWr\n",
       "4v4IAGoRKlPZz3+hVIZPEvNIn7BkxTUpFjvgi7QZYO+IkaH2MbHRWtoeXNoYioyy8eupHBivq8dn\n",
       "Oyp+QZ4ROuRpcdf8mN8LoJ3/jNzElKwRJT+p++mc3m6Hzos6d/gVgyxhLT2ZOcczLgrr0rXUNXEu\n",
       "+IKyr22JvH/PB/Bk3tRh7uVA/U8jTO8DXZscVt+cujpIWIJND12mTR6WQ4lzHfh+Zq2jpVxBoVNl\n",
       "laJ3YXKCZCzg/aa07t94fWT4ctj1lyGtSK2mnV4HvCOURbJXl+RGG7n4hYmkv13Kyx9tWJvUXcWh\n",
       "jwJSfF7fWWDBqCSvv6N/F7T5HazkphZYNwAAAMBBnx1FETwz/wBWYDwPf6SF/ma+VSJgAE4aZBjP\n",
       "VcEUqSTpY8iGbauXFvJ/jPXWvOQJWpPJOKQE29Q1iiRXqfFoBqu2zRWbKt0Tmzcly+bV3z+szPiH\n",
       "9wQOtaHa54vTkGYUjmZvvEAhtd6SGCDERFaxCfQ7d3CW2Us+HBlu7muAvGB7hn0KAf1MHxhnDqC/\n",
       "mkAnG3NcuYWoDSde1fQIDmBy6vejLZNxatmhNwn1H/45GRoDWSAahD4+ofPETbvJxoEAAACOAZ88\n",
       "dEK/AHFhuXAI1giRqyqouabYl96ZYVsfb7iQZWwGYEoAUtIbKMWDy9hph9yiDM6C0K81dPA/wu/z\n",
       "SCqNbr5/1ZmAdkOmVQbKLM5UvGvq/r+xli6SSfNoPepl7vm94JLUYqoM/gmrC1PRaVbXYUTpoFgY\n",
       "a8JqAEhq8rQf9SC8fQ13V3lyQdVuYcHpBAAAAGoBnz5qQr8An1gcrnA6Z49Vmppm26uoH+/noAMU\n",
       "k9VxF5pOagrQN9KVIzOsUMF9uEjRTByqRqGwc5F4bCfEVsUREv//5/LuyTV4S1zh4wm7rt0ngX0u\n",
       "c0jltIrwzpLWPJ70hiiw3tjg5tSAAAABQUGbIUmoQWiZTBTw3/6nhACHdN7VAmtKnaveACZ8uuF9\n",
       "hFnSxaAtfEA4KDP+E3LbtBUytnebdB2P9KdAqjz3Ip8C/mmy+v/bP+OHSrR5zqJJJP4kWzbyNm7a\n",
       "MoxN1NTFuJiHQ8ZUHyac26BK/sa8joa0VWc0f565nr4y3ufRApf/iH/NvoKi0e82nqnGQQF8LRIH\n",
       "0FscDZHLheSgcOP18j92cR17hadcgjmpV2n8NVMdNqR6C7kHrxHh+2z8cCe7vjPeaHXyXPsfbfHR\n",
       "qjJuTDq87bWaquliGd1Qi1f6OAQASYeZvaDedeT645c7RLLLakYzrFJ9VHLSRzbrGuTHtpdjzw1D\n",
       "aSpV4u44hRUw6wuODU8qUlkj21cwAAFKRNBpxhvbG4xrAjSSXT8JmWRSGV+Ii/NPSKJqIEVgdT8t\n",
       "Sp5qIQAAAJkBn0BqQr8An3JvZjfEyUinn7ixCH/zULd/5tXUQ0S4uLV+Rj6bcxY+8Nrey9GTXwkU\n",
       "3+Rq1gMvAum4mrjl+kCadR3eQyCuR4x1M+gZoyT/lSppORyNgcr7j6n9ukylc/r/yqSjzDI+I15u\n",
       "olM7U0G8biMemMPqAEp2S/k/XS1KTSacTyfqZ3YZkCvGhFWYytaihbJzmNVas4AAAAFtQZtCSeEK\n",
       "UmUwId/+qZYAMo/wdKq8XF/QPnzXACCjVl12doDc7sBIIaD1MouNJR6JzQzSe5IIoTwxM9Yg+BuO\n",
       "jn1+L1Gzlnht149QgTjBOi6SYK35sa9hqM6+c1UTL3L0TicC6hPpLvS7KNz2AsTZl9FTuuNJ2CRM\n",
       "CCtEl0YoRoa0l5+EszWYWOpPT6PgSg0+Zfe2pBnNJW/PHL8m+O+bR27U9lBEPOBoh2vuDhVffYAF\n",
       "8HyH2P8VtuxfyGN4keyf39ZYqdVvE81qqEB3Zrc0Aq+iUG5kICTA4c0WAAY1UhhQiitvPOXBiE4U\n",
       "HlogbRqdX1edvqFbE0rgd4w+0usmTJFnYQ13mcxuvnLb1sqscoKkS2jFXrN02KYjTodV8td6roVt\n",
       "SJd9xhF/UEIWlVEJy9sKiqgpWP/QZeZmiF4Qino2KAVOgzXMJPczl0o4LbP8PctgomQ5dzDJaOP4\n",
       "IiUpG5AOpAUUePMiGSSZVMEAAAItQZtlSeEOiZTAhv/+p4QAZPhM6Vd45OERiHvOwuixstdA4ABv\n",
       "vPNqEkAYYaKd2LetLddlK47fQkonSptPoHfbNtCDNIJHDqQDM/r+v/aUUvhDedFYzUPKmtQtJhMx\n",
       "ej4XitkhgB+ark+cij4UlB66Nk9zFVuHfo6iwMj7zaLDgIUdGdp8nRzaZBm08P+amspTWDkO2dIS\n",
       "yvuH1hVsBsKReRjqEiUpcwNum4ZMklpckkspOuf0qIz/Aig5jHcaOyNdY8dNhvFMU9xLf+h6CECk\n",
       "VDh9moZzLDwC4IOsDfCfwd6b3/0+P+V1auW4Sf/m8dx+TptBpG99SAJbtI6LabPRJeUo4qMhy9k+\n",
       "OuB5hByNVlgBiu0HcvQY9XzamhYQ+K0b+6dgkYoU/aA3VtDdLi1MrjEuBfigq53UNjeyTrvnsvNb\n",
       "92tS4flDfVeqZIFTy7WNobELocopAN+Ly52Z8Ftg9abtZvpV0uiqncajw+zy6yo4cZxx6/ukhQ1A\n",
       "S5n5ETvhhKIRedd7Au7owmpq+FbdEyzCwyB01olyNd7/mOUrlbrMvTKTNxSzENtokghOALIRi5rJ\n",
       "bXSmLqzNY+DMF2B41NM3ZOREiFe3Vet/ohy3BzKR9x+TG58HI/0a7G+Pw0yjWdy8Vgr/bXckCBp1\n",
       "+nwGPwhjHkT7Kf5PmS5i+XuzkYNgG7KbI5gt3IhGlYkbDBG7rzV5gFG+iYM7haU2K/0scwy21vH9\n",
       "KH3O6xSsHnAAAADpQZ+DRRE8L/8AdBrBGYBWg92ZGvYzboAFo9nR2lE7cOAR8Y0Z7S4/3M0r9iSl\n",
       "BPEiJjba+rxEvqPROVC6bX/vUK3CftPlomlvpuhCrafKvOHJrdsSoxtsDq/9E07O/Jy3Jdut5KFV\n",
       "vr/QUPfq6BFYXdw2Dye1gT4hfklZahdOpL5S9tJFFV5ezjSp0ujY2wwaSvlRR7ZMwfOiSXXmJy7n\n",
       "chzvxinTbS7qRpY8tiIfMBxkUL84Cah74I5wFGJURLRw9b0avbwBfUvwpNbi1g5h4VlqJ/BVkjs+\n",
       "Rz4ELf5yWnBT9OA1O/fXJiEAAADpAZ+kakK/AJ9YBo0fByYU3GwYffgs7DPQ+ShUI/ABEqwCKPQb\n",
       "9CXp7kZ3e9YWzmLTO7kCWyGb3Z0sZ0E0zV6n44WSk6tY9IBacBYWyBtH+w5xbj5XlloEQeKZ4wnL\n",
       "G9JX8EzhypljjhumfjH1GUHNdnE1m/VTKoM7uBG7pdbDsvn2oikPvs1nvgf6edpvDalfGbrr0lRo\n",
       "SNyhM7OtcOPJ6H5gBZUJkRokpA2pCZivhw0CPK8mnLW+Xg3E3CkXGh1cOfLM/3EPRuJha9uhxZBt\n",
       "f1UIvBwd07m8rx7+nrhXtmmnHxAjc24/gpkAAAGxQZumSahBaJlMCG///qeEADIu193u0lqKIALS\n",
       "YbYWc2ZxVvobM1gMgMpr23sL1vXrySk9HVqUt6o+suFWi1a6YsJ4FrWIJaCeFxMDEiVBbZGOUFAs\n",
       "jwfXR9vCAZ5xL/1lRnqWeNVjeN+mtHs3zQu64MNgTc6J1oc/pP4ihyo/VcM8bZVlhDgBFKhDh/wP\n",
       "rT+fj9Y0Ktz379ownRD2WtOGHs38y9RdhoU78G//MvNeM/eXTNLDZDTkgmkqjmouWetMq9Q2F3OI\n",
       "e3xaePJ65Pr+dICGexiQoWVCuJOiHeJJc2RnXQB8g2fan/7lBC6QbJ9Q1MRRq1DYptwbdiPkXT2/\n",
       "F3pInhyzo3kxWbG1Eb/bhJ4JeKE5ffJVL06UQXqme/ubUla3EGVvg5kZAYdc4pFCp9tdc0n7ALh0\n",
       "aHMPSXhmVmB1PdrWxG4FB6U87wbHM8MNhLqufqa90BGMBC+cxveIw8NhhMNUWWanvRD/qBEmS3ti\n",
       "pclt3K0k3BMIuK6FpB3Z7fvF3ucyj/oKnVQfOkY5L+TNg2J8Bk4mpTrBjiC9oY+VmwzQMq9GyL47\n",
       "8sutGGo/wQAAAepBm8dJ4QpSZTAhv/6nhAAyfCeSp8vCZ4ATPmzHgMev/RDfyTZ6qYZG6UxsF4FF\n",
       "33mkfMXfa3w7I/RN1NkDuVL2j+0ssWR7Pta76wpjktiAKojk+ulnfaUtYoP/nhGcJHQZLw1VVeP6\n",
       "eY8dsKxiRg2fsdgwDPVB51nxQVflIsCHt6L/y2bp/aTONfxG/VdhBmVbUfYIxjO1hnv54NNr4isI\n",
       "c7u/p9aMny7vl+kYefJG0FVNNAb7Vw8Gi4ptiIyumQBCofPPxrQ7mLKCOvUlkUdUIs/ideVln+Jk\n",
       "e9tBIgbHNSuMGfKxiri7BCBmMZzFBI2S6NduhfAwTfg7kgJPs6FIMUwGNDL2zhKDRTtWAkRiZlIR\n",
       "tPDeqcVnXYn4PGFVHpjSurlJkAfzjz+7aU0DWlvXt7UeDsTNVgfevk1UC5OinsErHXRMjn1N6uys\n",
       "cLN3h/lf4RD6VHgmLzS7UigieZwMI4GVsresojaQ5MargJFfsb9Dik/INmrrJE1dnkXVKYB3NacY\n",
       "nSUiUkRVk/Wqc2nFWaePHScRPMjhGfgka7LXfa0SQxitru+XPfaw0X1Tz9cSyZKKNu8IzLxKqlKr\n",
       "lmiNsippKXlw+q85S/n31r4huCQ/ti/qtKCUM0mKrIYKJHR0aryYrZMpuBERAAABvUGb6EnhDomU\n",
       "wIb//qeEADE8J5ksRC3eZ7wQy5+0NZSMQSU61HwAE6XwXnm7fv0FuOmE0jZeGIiJ9eAqY6uOfyEe\n",
       "gH4C3DdBJvsbT7nO8nUQ5TAPCR3cyVtAYzT79woPMKPGxxLwB3KidEzr4AL+9+wAD360ppWkvMa0\n",
       "XBhqJd27pSLLyRjuBb0eUUJxa7yqi3DiNJ0g8YDmoUYVrY9Xdnkok4653AT7ZMB1F0LfvyrZyn/A\n",
       "UQDAxl4nRxeRTVLnOtieUrHvl3A1lWfRiaDKvSj58QoOl4J2Ju5p6L7L2YC8h7cRtD68D2kKlbcm\n",
       "aiywWW2aI4sjESS/z8ANwwBOYCPHyMS0Kbkm15cWG7W7EC4csJdMUp7PXLpHpZqCcUC1usI2hciO\n",
       "BEFBlz87RHo6Lgk0N/5xxxvGXqym7/1+rG4CESPSXRz8lKOsReDRNAtx249kt7HDri5xVh3m9btW\n",
       "Bb9RS1Ah7mAC3fHOmYuFbEIQg8xbogk4r42fZuAZTzP8SpQQVz45APtrY6DgDnjtQi5uYT97sQZ6\n",
       "Q5XDp/VkI3yskznD9zYm6wUm7yZCix1egjatySVS4HW3gYWNwIAAAAHbQZoJSeEPJlMCG//+p4QA\n",
       "GRfvMK7dmwm8msAFs1ww3cS4QeThVk2dyvav+ZIshsFmF+dCsDrygGct+itEMkQ93FMUiC+TMQxW\n",
       "REpDMiaiaeA3MRolb/ARLx0j5gik1ehv8hkhglcCI0ZKrgLvXRHdPKmSB3DAFaG9bta+fpuwqXy6\n",
       "X5N/lsMVtvRwiAgrOI754lRT15T4YKjlYRwYHnov/haOr3XDQxsvnOKPTA1+8vLxhlbzIH/hTYfB\n",
       "SrK7T3v/wanE0uG6Oj2Uxk6ufz+rxalfYWzZJuLRiaEdV3AgRmceXf6kBC+BMexWZIlZO2JZX4p7\n",
       "rHyXStTv1WgF08lyec6rDEMSoBezFEa26rFHtxQ+W8v1SBifxX9Nt3bn2YPTC8hwB3oheeaMnhAz\n",
       "QUsst9pASWMWtA3EG7o85IgzCJ1Dl7ilNmqJ6n42FRY08EfCq0PDh8IDwE6Uftz2fxX9J0DM3jeK\n",
       "4f1SiwVo/emKWoGmwm/v4BfdcmD45gxe2SAXxELxYRTT93rmeYLXTI2AdFbT7b+09+HWsZYBiZwz\n",
       "xWyXUaalt5/bIeJNMLBbQcjGT7BqMi69rd8yH8Hyi7tSxjuLXft9RPu/WmHQ/+mcus0UWNBjc2xa\n",
       "1KkM6AAAAbVBmipJ4Q8mUwId//6plgAMtxfo0zTVm8zDjwREKPfGBrEZF/e96UnZZfmwiGhbhVO/\n",
       "kPmEbULg2qmwdgoAYRuESj4mGe1OBANkxbdVCA4HpUAEsClicQbN0d7QXId3q4lQ62MdZD2Qbw6/\n",
       "HT51gN+P0jQpWe7uTDQqJN5hI63/O8eKlX+UJcfa4AyhGQe+m4qrbWe1UIy7oTRBniP+ayQycrqG\n",
       "JWrUVUnB12rgg5JfWKMWMcfddQObjSFd+RyixavNRbMkwvtkGjIk1Xl6O0zuGd2W9Zx96S4xcSbV\n",
       "Llttqa7E+wgl8ZdlJitR32ANLQY+3GzgfH9fUvySLzvSvYZkDoXUlHVjxlumUbOmxqnd1qV9XwRn\n",
       "d3SLKU+djED+7+xh6U9NB2W+2tmRmeSFbKIbqM/Xawq4LJSsF6Z1BtAj2X34T0Pw5rNuuJlVY1ip\n",
       "51rkLNdutNvGUDLzoAseXu8BClVDdSDtaswCMNkS9/0FQFD3jPauDEn7SwBNfY0ufusfNEpuc8ok\n",
       "oDUkqQuNiW9cIAoV9ONWwZ5IG2hdI9Ej8GFwfZjKE4wl7WMfEJvNnD8N6CKRUwAAAt1Bmk1J4Q8m\n",
       "UwIb//6nhAAM3dSxNoOEvODD9v6jPQ+LhdSU4BER5Rz+cdujOABD9V20FrcWu9ZXxTpa1GQtSlH7\n",
       "DutBTY22e4lMDDhoHMTLNIvaRuSCS5NOGNnkHaf0d1m0QF4rrojFJYbMO+kMepp/fTpby6KIbHGH\n",
       "vNFqwJu0Lca4cnnXt7Cn4VBBkoGRBYy67t/E4QiyYvNfaN/CEt7tv43GBYfaJSqe5xWstlkwmyhh\n",
       "xP73j3bVXxFMw9/8U+/QHXpg7+8QN4vgjfrq+hWekz4VUCCho0PmKDIXB+quaSXXS3Ma/aC1YuOx\n",
       "1pMXu+xDrubOjS59wIcRXHKVr/xXbk7h05u0Q43spaN+5rFmlPHjZbG8cd4vZa4mpatU+VZvFvPi\n",
       "Fbxa6emRE+v4ehu/BpZ6qARyUQtzE1JRv33FXkJRfXTjsVpbkgSzftM0dq7qPdiEUNH6lqmT8mzH\n",
       "Kl9pS+27A7Mvqvlij53rVLJ/hRc8aAdSwn0Sxjky4XMKxfeeJQI21nK+ijtyMOeygnoQq3ncbnSa\n",
       "P86vXq0+O57npavCA9gg1BNUl1pu+l9hqd3ANUEjT69FXqDNR5mF29nqfBkN+bujPIgC0dP0mhyj\n",
       "7AfnoMECiZNAIC4aUh2YsdVoiJrfEYewo4zE20TYq8osM3CcrepHpD+1OI6vycm5VmLOPX/FMztX\n",
       "rEWi0nM60HKfr2g3Vi8yTZIUewzpSbKKgvd7BTDx2qckm+DBOcYhquJAF5mJhB9uLEYJ3ftl/HA6\n",
       "7PSHWN9p13p4J04UlzZi9hbk/bhGz96+Axceil3/PkAug2tDOVX6N1vNxBEAFzprY7DwCbUMK/He\n",
       "HUJKb6bK5zVLPAybAMkzeRdvWwWLDbjdG71GNoTx2kKQRGI9yfKIIVDMrR9tKx5fz1NVn80B6Ak9\n",
       "U/FfeKFgkIwlpLUgTLtL483oPY3yaQTU3y52SPOU5T9fWVwgKaEPjhseAAABykGea0URPC//AAeX\n",
       "38HhVwsgAtdbKnPjdGeDnJXPXTirSxhGYtd2qqjvThgds0sWbqXubheZLlZOdivnJDzC0ZussmlQ\n",
       "iLFXfS90YTbfbI4i2ZcMq5f7qpUu4VK1c62LSlHlLJbIdCg+DXTUv8I0SWJgdr1RemBw0bAKdMY5\n",
       "9jqhtEBxiQi+fKkkonx3aO6Get7LfgjpuEEc3lewPCgD0nVVQYCEQAuDscIl3G5B/Qhi2Afamo27\n",
       "mt++HePEUIapXRHkimg4I5RhW8khSud2FE7IcPfFUoMPw3C8H9wmpfERlMwvMr6Fhl5V0LDM2Tnm\n",
       "zOfXuNM0BMNsVfJzvp1ugJBj9a3cUyLaXDqG4RxtT9rkX4iulYmCLisKrMCd0x7BI+1VeyngptkY\n",
       "VxLX6mGrgjJHWKChcdPLrovny3btKxVO9WdYTCnrqCKFAhNZ+fYBABpGKCzq85JalOCxEFA31Gld\n",
       "8Z7cXFIA3k37KaapSEWBO2NKy3eQlnEx4v41/kuKDma29biFh6eomtlhnCXeMTEHQ5/QhlNSmC6K\n",
       "xDXiGVxn8ua7POAckSds7jH1ciYuemHnsOvp0/rqDhFxez8FYEkIRAxCrSdLaC/gAAABjAGejGpC\n",
       "vwAKg0TZ//TcOkakyX/QA6QJeLcWrpFpnfTjXm15T6YE+jjmK2i+7ISc6zr5ppdnedgmELpfR3C0\n",
       "y/aT6BgAZIEEbeSuZNtjo697QNYdgp5M2eNosxdOl0eH2PDmVMq9CVmi+df4ZUgkqf4YZTxFgi0Z\n",
       "3p7PsoOe7PqEYHMdLd0qs5LLtX6wFaeY+x6ks+FInTPxa8m4aZK9amkAhdSD8OlXAErKAovy3wYv\n",
       "eUaPhEhNfALZRyL4zKKM+zhJKEmznHmArDF1s8kMuVZCmUdD0HtBx6dfUqvbJ0aOmwxjrLFDkYSe\n",
       "zeYrcFIVZvSSiLWBya/cueG5XVlMN3iFAYNwbuDeX5JHThY+xFMiuRbWjnrufMrNjd3BZdggKFdl\n",
       "1nLwZKGIbYbJITl1NfN5h7vlmfp7yp89FZxexizXLTAjLd0psmRxmrhiX8wy6pikg3VCfiR9EhpN\n",
       "EQJ2ag1IZ5cGoZ4RgBqzR+/svky6vokeTml+Wye6L6AEOx0hKcPCoPH03FaTSBgmgQAAAVBBmo5J\n",
       "qEFomUwIb//+p4QABuYyXAA7S033B3xkQpyB+Pwpm2tqcz8fsw+eajjt4eH5b2f0bvb44fTfO3t5\n",
       "ZDIfHDp5vLn/j4d1A70QkKx3MeRRk43uazG28GBOGnt/ox8czpiA5huiyzd9Ziz7gLf7udIVt+wt\n",
       "905Bz7nAFcqoGQNsgcqlbYA//9ZuAAQyUnnf18EqT8RYlgyjOKn6wAcLHNsegzoYaCkVUTmxehVw\n",
       "MiNfW8iTNj5rA7PzSZBJOldRbLJpE8q8gTNWHBa7QpZXR/f8EigjPgUYTQ7vBOswPFKCGr8YHWsj\n",
       "nCOn4qkcTj480VKIfYQMNCy/VD3aL5s7NCT0msn/gWhl/GyHLLdMDXXv8zQdXFC+CmpAZlsGHgb2\n",
       "wdekQn1alUDqW3G96lteicG3l+Cugf9fpQm/SQWN/giGRlVg10mpz9x/uQH+joEAAAJ1QZqvSeEK\n",
       "UmUwIb/+p4QABubdpQANG9txo6VbmQa5upl8FyuKJLEStpjgywtcWHz181wiLMu1CEufVdzjcWCK\n",
       "87ncqvCYlpRn5L4v+SQyld+BjwC8LPAeyLUl5MOnP+Jk1Ifk+z0LAvD5tScuWJ3fbzHlpPLHIm2m\n",
       "RCBpo037sZbM2rU7Ks2hejr4OoEbK2smJlCuuVC4Sg4zP83q78ebocAIi4hRw+yLWB8ZCR7rlsYJ\n",
       "CsGHVc+TxZFMbqEZQKofoksdjHA2xWOdlKC2SdR1/RPtQJuuFniCaa+ByzbGeFu5RmCpivAh35dY\n",
       "w9QFVjt02sqLx2BT0QLemTnEHkm5a3X8qOcQWXutkFGOpsF7r3PLbDDVdDPk7NKslts1HQw/5N4a\n",
       "RDuxSIotsGx9qWgR/a3bQKVwq3F78UbJDdhBmK5OGom+GTw0+nypuLAAXH4ooB3Cj6TtqiXpTCHU\n",
       "xwyzRyxEGeMZkuByNBSG2XTLUIWTzwklsq54sHOfXtwmLk0CsnhnpgkKgpzyU8Ey9AAhMG+BzZLu\n",
       "OQVTdI48LnB2qHCHGHIpzjwJR9v5TD6j09fE4Zabyk/3JOlTcjj7Q8dcX5QKMk/PinIEqADjhJOh\n",
       "hX0XF97BUMTVVSl35gkvBNhq9jZ5Btmc9CzthSkLJxmaVZlF6mqbVndpJXcgLISlmP9rNSuWB04B\n",
       "YoZ/bP8Z1f1BCzAJIAlBfPUrMxvuJIAvQkqxxILFopfL6NExTsUi7t/xmwwzS8EmQg0FjjHGHXN8\n",
       "0jezUSkg6xUEs0CYDfvj2W4A1ydbTjjbf/ghzNx7NMS2GKemBeJ4vrLwsIuawCoHEGvByhkAAAJ0\n",
       "QZrQSeEOiZTAhv/+p4QACtcy7KePM6k/Bp2jMbajjbyAB/GG5PxH+RcT0ntylTFHzvC6pvAxrKrk\n",
       "hibBP3V/jnczwn9f06i1qGxLm4LxIWniiw908tuLakhRqMsL4p4sFKFJBFEnfuYBRm+YylQ6BDvQ\n",
       "/J5Asj5sA0LWDK0bcfOrjhGAAUJvYGKtJM7pN5v4vg9XlhIuwT4stO/dmakIPOfrWi3V2qL5TTXF\n",
       "qYXtluULJSPHYI05siuRij4UbR0hwaHLuBX9mqxYh0KkRhboDoHPOA7Vmd6QpEE+MDEGKCKUIG6I\n",
       "cwQLX+uckCR+TkCI8iYNt5cDt9VNO57HZzx1om0mC3D4xYNpTeZq2JnNENKuacB+D83j+ZkFUpnI\n",
       "LZ+7jJ+gksRnH4M/jy7zcsacuMkaZwSJKD2j7fXuv63I7fGGx9rIKGXVnoW+TOdKLqTfIljT8m1r\n",
       "cZEQ0yFN5Nj/azFL0WeAtD7Rb4l2FWkMoWIAHMWONt1hBkNQ3rqthmkn2cPBd1GptL7kAugA9hOA\n",
       "+yRvzBz1/2zILzWJ8f06wKiHDaq/1hW7lECY4bNRubiKXxLnaycT2Hsy/IGDQWBow2nXIGS/14kL\n",
       "4PB/wv7Hiy1KxaH6O/aEanVLN9JJaBsPh7zNlw2xpGO3Vvtm4KCSqD/qDSkDVg9PgSJ9n4DOFuZC\n",
       "3EH60jXJBoTkeNZ4V8/yFt+KEXkSFRyBEP0LvMQbB1XGJb+3hYVpkOlvQIF7ThbSzH9dfCdXocsD\n",
       "Bgucm4TFqzC/hCcLOszd/6DEBBP9dTqnI0+EQyt935dAmJrtesDqijYKk1sViI2lRZ29YHMY+VjV\n",
       "JAAAAtdBmvFJ4Q8mUwIb//6nhAANya76ESXW7gADRpX5NM2zI1i3dhyfu49LKnhHP2EinBA78UgA\n",
       "hyazshSiyQyv44DoZ25bCQxBEE/pzTlDoFKSvqDqE7q+NovRSxVoGjUN6QFI134TnkUh+6vvAURJ\n",
       "/hH777dUGH1loOapNtMn8nzfE5GhNIyd1gt+N1kFEEcVPfnTki0teGxQGzOfjaAbLaiJvb15iqBZ\n",
       "PcXdf426SoV0VQpygzgC2Znb2MB9DdVxtVYeH1ugblCtszJcRD9iDMIIUU1As0bRuiGfvwoRJevj\n",
       "ky4ktofOLjvgAYMLkK8hFC2qXRtKlPSYpCvvihplFjLPJSKffpbBE1xuP+Z+ESm84jXdAWtTCUxO\n",
       "hwn7bN9zkhAjJrHeEn71g+91ivpgwblkNkaoFPX3j7KZ+XAXZ7rPupxGsufMSn+h426Il0WQeGXT\n",
       "wi/m4cye9gnt2/0hxUkSlTXyNPcLR8cl0tXm+y8XMdRhxiZGb9GPzGkXrDmhfTcSBcp3i5xK2kxK\n",
       "nEqcwCAtMB0e00FWKdwZKQ6b52FvP8x/FVQxDOxRK9WRGKMU+vEuzOgywU3YVk8f3VxpdDF2CkHH\n",
       "493/6YdwDANc5k9mxEwnTxhd+V3YA1Z+1mSf3Cx7FNhLGlfXkCLV1hZCNLPdOPF87W6I8DNV9tT9\n",
       "9KT4S9zVvojRUdIOp6axhWN0R2D8uyaJdrLeAxFnx9frSl1Ejil9cDK/e8r6OT3KdCR/qlPWGvxM\n",
       "dyN/lUX4q5XQfpZz7zbaEOkK/3MYuuARfjQJkUw1RS9Ce7f5A0PuaAJYJp1MxhW7G9u4ZOdbZIIQ\n",
       "zSry+DrhDm2XzfBPTHGQxWVSz3llPM3dF6zLwM/ZZzHHi++pSy9O4j18QnEuRIkpPu9tEYLhQ0PG\n",
       "9O6oViCKYdT7Rfh5lAOvUng+XJ8zrNN0pCpN18pfJIdy/5s3sikCdD73nNisqsK6AAAC20GbEknh\n",
       "DyZTAhv//qeEABUf6Pp0rIzQv4FIz+xiSuqlVvURq1CnY1+f+ASo9/W+Ye2uS5EF4mBlSD5Xrznf\n",
       "XivTqFgrAiIHD558W6qSXCuR0vrVpRsvj9bNUK7ZiMM6iBhFCaPuowAs2SObWZxGYmNhnN4dwjOR\n",
       "TMBHamfVZPBHprJtt2LjhdlPp3KCkFUQTjt+g6mAz21rRiEdAS0vl21ZjMHAiQ344LDuzsoKeRJK\n",
       "6du9LhSNgtJdsN3aChL+iYYbEGDx32LwgI7MTG0PG/cQ721DVgtZTOH7EvowRag3mxsYDXRb0HlB\n",
       "Ev4hzGjbaX1CaCeTAedF+voTntKc/NgnGm/vmUodlt9fGaGB/OhTeyGuTJ0B/+qH7mjI8l1GXTnD\n",
       "xZDIR6FN8MoSZk+TDaHJL0o2d0Kn2nVCjiETK3LE5/Rgd1Uri1qExs53hHmAsYAma5w1xJcYKRbu\n",
       "i/kjjepfZXUgDtyjqV2LPEf9bGvVW3QQcsCXBUgeMROZqF2Nx5GTW7CxF/jUVUe6lNefwj7QuRqB\n",
       "JMv77mtJQHcIhw1zngjyX9DQhz3sq45LzVRjx0slTX+sXFJ3AhuwAzPhmgGVSjLI7hS9sVhBDqi2\n",
       "C0RqYr23SiXMXLipu5CczrRsvgZSFcKQNmH7D45h9FMvOnC/R++MMAk7oozx/ACAJRYs0r9jVZqQ\n",
       "McauqD6tdI+u16RJ0G+LXn50S6QLkLzqC6kQEnxb7IDyc/Tbrj+03BSXIxLqrWLQuvTs0I+3kUGk\n",
       "3+ynV/rgcdyVxOHV/Y3kDy8WZMUInsH/DzxyLJfZJ4TSQQrms7n1YwpJGIsForWn7tVWcT3MqpGT\n",
       "qznLuBOmzC6edqT+HIB1BQHs06pJdbaSasd/GxqsJ2wRyY8hpNvVLY9m0+FS5N6w0swmZRzgrdzX\n",
       "Jh4XLDv5NIzK9dPZVxz43jvBhu501kxY/6ESk9pFqDL/xXBKW9HzAeYxAAAC70GbM0nhDyZTAhv/\n",
       "/qeEABu9FF4dnGAATt6CzhrTAkRkyZtR1JYnAlX8LVhVZtZWqikfQoLvCi9aiPyFX1I8GLpbZm3G\n",
       "gyoGxmv9TWqB4MF8o1NuZKh89SJizbLlja7mQlU14xgmxOoe3CFy95zvVIThKQuN37QPE/QPaVFd\n",
       "1OsjZklbSsTtvx3ulYDdQqQfCgh3TUwn4gAgYkrvQMv17uMQnJVuKCIiFxu/nfOOb+n4svetg+XX\n",
       "Mybm9FW9NnvHx5s2h7nzA6y3YBk16SMxJ9WXOAYJVZkl5J/hjEcoBQjW+Nmd+E1m/jHgjJZ/0A3Z\n",
       "eFp/eVWp5WFYCTFBb9FU4F9kXAEpyOqzTrPOiE7pxmZE++H/I6DZ7UtWCQWIPdN/0nwDZaAcmIkc\n",
       "ZjUZWFrrtSO4/Y6ZWm7+DfLK8QLHjmNzIeLsaNlx0pqncC3tm4OIR+gJ9J0+6qEgGpxoBirsvDjA\n",
       "xaLIx7y/EFIQYKLCr47TZCCVeCaVUHwx1uu0hagwwo1tsaqNZ1sfkRg8H40i9R8aewE/bytCxcKc\n",
       "JjPuUqd3sDdNwDC9yLAYDOMWK03HfC2RxmGv0hW4X/QUF1Iaqn5ODfSi+NgYzRQRpfFYeGBXEvqN\n",
       "zoXdgV/gzjV8hYeS2TuJK+BXPwugPRh35TZfBVps/lu2C9Of5g7kRrhvSbZW0GxeK33rXKkQ3RSE\n",
       "J+X2ayRF1WMrFM7ole0E3LdMbU584VECvFjiVkz3olkLQwb1HjJWKCmPPbeDDU42Drm6laj+u5Qr\n",
       "Mi1eivBOGpltpgecyJKIYHdwnGBczcxOJJXO5bUmhn/qV9gban4WvbRFMneyN8oq6AoxNivBj++8\n",
       "Dw/a/YogxHn6WNTW7v5MgTHpacJfzjHQxoe28xAAiBn4ljbi0M8Jn6ODZCqvSU+YgI4GYVm4o7Zh\n",
       "BxO6e428CF5agh7mKxRWf+dSuzs9mBk9tfyqG+BS6jAwKdYXhKzIhW2eXEzin9jZnn7665UbXg8A\n",
       "AALBQZtUSeEPJlMCG//+p4QAG66d4QmQgAIb2MHv8H38A/4CAWRmIJWbwaHGbtnjTu3YFAPw1hDS\n",
       "/lgAyb1NZ3o7ToYP9iKVMmMwdoX2OCiQXbdmNOBzlzYNYwd2RGE4TP2Gfv/AhJJPaPWJ8JPM90cB\n",
       "ILmmLsjWNTOFilXGu1y3uy6YBziCgpkcaaW/kTDaSXm/8zd2lt3TQ7uUnZzaBoy0LOJ1SitMjZss\n",
       "6YLYi2BFCMoSlKm+WfOK/mHbaLS/dCGLpQLycIrIoLylTbxDotYLFGSb+YLZxWkoXRd+x2Lhl5XH\n",
       "D7Z2UuDbCa7Zns9LPxuHgV7X5bJIw97u2/KVzLYxe8ghNNZXUKZdXW3fXwt/XDM8fTr5lt6oht2p\n",
       "nl+s6tviLnAyLk59CyRH3aaiQ1IDrk6kZ1oe8hRwn7sbUKldbpTm+r/ouVQUE/jEfKk3lvkZDdBY\n",
       "WkAGaL9ScKwp+vrlu/k28y6cD55csuiduGfgLfD5lSItvrxgHfUSRKOPnfmyjxuz4UkVATze2li4\n",
       "1n2Ec9UPPBrjEFhpUgJPBchdF//NH568C68j6jEgruPEUuVQa/CeZQTYnpgATQBUO+5ex7DHzbVV\n",
       "euam/Kxmep577/tk4ITzfaRY1kXX2ikNJfGGOgeSd/RZxGQTCiG4WQO1cStyOqZUcbBfVAd0uSMl\n",
       "hlBrG56MNt8+59MckLXdLp1a/iaqO2+v61ETE7UMGeDAZlGYPDZ/KMc9lQ1XjbY6EW2bqYlBRFj9\n",
       "YoiooIPMm23T70wx25v3vzbCAI9Ozo9y2nW8zjdh9ac9+dpiar2Kakp9bbDMKdnTRDbYt6kMc0lS\n",
       "JQ1mKtSLqfmkjwWzkwSvDATtwm0m7Y9noNBkYcBG8xRMBSXrFu1SNcG1xOeRqDpF2nc9O/TFKADm\n",
       "TrVTlm3F5jrOTdp5usQhYZblK8GqKhRQAAAChEGbdUnhDyZTAhv//qeEACoNOzo0OmFqAD1xkDOA\n",
       "dZ3rAXJlbE99SLyOxsOLzcIk7k4hmmR18AfEXTNkvXFbTtSiEZlG4+E3rBz+2ssrUsslsW6EfjJV\n",
       "aS5SGwIi3dfGcFldFZQi/R5/fRpl6lIHcwbpT/7pIs66xaoqDpxJNhhMVZo+RDO1J/wxxD3nEW2k\n",
       "9JAhZZnWEWsHTkYIaygq8HbNWHlFz1tsXTXzMJfZ+pLPsASjO5/fRgAHl6qutJIfW2GPpTL8hC58\n",
       "E2+SzAVah6pXDDzJ57bCsT8l/BMTrpO0k7xhd1Z9+1Cl8uVQcfMripWzfQB8ld64zuOq2aXgKwi+\n",
       "ZgnvGDlZohA7lEAwhm2xVXbIDSuTY1eXJVKwZoN8lsO7JssItiiv3QMNb9Al7X2w7i7G0rQbgVpt\n",
       "quJtXCz088GweustJlDfxn5KdMvmO8qcVPQIzHT4PPVaPpc91ZkpnZwKzulx7b1M1fe+CaqKH61D\n",
       "AzT2k52ljWCW1cyu+W6X+X4hg/WLpnQHMCEI0HWIddNW+xMsjMTLh3BRqx2cUGqsYbQ6lfnSrq9h\n",
       "MKQmIo5aInQe8ywI+dL4bFwuma1gY/UdBZANvhRWgTorwfV8S6FDy5C0lVxiXltB8J85VhmwshIy\n",
       "6ghsz7CRJFu1k7kjVBd1YvHPiZ2mksop6biXX5/V8TCiqPaIcUwLo/2Xw3z/Eia3WnAns1X6oeLx\n",
       "sbw85buBdV24g5Bzw7PyHlGM2PiP+n3drPFOKKF0yvQ+GFlUaxnqttLWNe7erqb589c/zQGBE9ZM\n",
       "idquE+LGQaOYn9gqbseYR7dy53obRFmZnssoOD/qcK5FoSZDdUaOWHiv9wx5AAACo0GblknhDyZT\n",
       "Ahv//qeEADcxx+AFtIRk1QG9/jbc+puuNq6Jb+EHfZgyrRY9T9dVU6lDyOKf/6APU1oF3RW6AfNy\n",
       "C14Xt8ClwB1mt8VSphDTcBIJVk1FXx/gXGD2L8+fbFgaCDTlQ2GNg3JglzO2cmDc+ZcnhQqUOiRz\n",
       "+GepnNPx4hXxE6/KVwAC34mGD9dSOdMACzgFXWHjFPTwwQjeJFM8Jz0n8gB4BnjUb1XmwopCJtVh\n",
       "Fjhhjfod27SUuCexF6aIYF7IQoMmS9fU/oSLpDYNrjp89nILBCHNgPYZFEkBUNyeBw8nSE8zMLVL\n",
       "iz47v/JbGhzA0bkb5oTYY91Ze7QCbubUFezUURXwIJIjVXgrRZ5FYzVetYZLxWhjQQ8aN7kItw77\n",
       "QoZpCmnGv8Bb4FVv/4d9NHjvOPB0hZftEwHVYOSRG5QTGXHWTTS5MEOaETVCbW23XaUZkXl1/PJm\n",
       "qcjQeYCJrtqAgJURPQSo60eK/dTODDmL9ceF15Pu7Yc8vTZDfowLDyV7fpAlgAO3n/9Az4A3tJfo\n",
       "CYftWQH9NHYCKNAQ8akEKDXosD6Eh/0E/gu8SpBC7c7pHw0f5gaUResL8JyFo05SKkzluFbQHP/M\n",
       "OLwJGXQA938d38/n0LssGG9QhT2f1j4TgZgOiBLJeS9jqGTuiorvbX8ClR4Oc6aRSqL0xuUkvCj6\n",
       "MJdMakyun08dX9HlLA7LxQQM4kNeh9nx04WqkjGl/R7cxuqT2pEpCKreNv9o+0IKf8fSbERsU7jm\n",
       "lvqmGMMCNxlq/K6ZS0Jkfaq9zxCjGJYS868NX2f/7Iyd9wiYUW7BKYSKFlhQ84Mw60Nt2UyG4q5o\n",
       "ExksEymQOXAW1J9nePe8AQhdT1X7wFdo0yOK+qIzkeNJQXjm44isgAAAApZBm7dJ4Q8mUwIb//6n\n",
       "hABSOZdqaptFdgLwAWmtPmdrWwdywIfyJG8iCAEn0TtOd67N2uvndrjR5ndhua19a3oaYF/JLTKI\n",
       "72e8di/TBkGX1AklmzI4SfxSzeiaeZQtQvRhKCbPOeuuKNoXT3enDjemLXw2SzGV+65tmitKfKR8\n",
       "Tu8EQ6Bne9jAa5E+1TqwOaG85LBp5HUjdCoMR8BHBDsSxRA6ibAVkIhH8xynC4AyfUW7CZQprU49\n",
       "WVWLr92TPtEKer1S7luXqMf5DOgKjKVIaz0Mk0dh14KEp/Dpj+Pl0kYNoxOHGshTMEd9x1nIzJ9E\n",
       "jKhR2Vntm98qyJmaFfy6JoYn1ussuOcjTnu54IxEElHiAcNX6+7y5jUh/b82P6NUMMonegPNpm0T\n",
       "zdtM0fl5pKwcISDKz4tXnFLdixcyOjPKOpKquEyuXdfmYWJUGw3ydXG7VMPtkWF/HALc8nzFaQ5K\n",
       "QifXZ/cLqhBoMABZ+SbUBXnvbzkuIR9O2OwunDZva9Lzdo2mjkHPgHz5LkF65JENnvM6q4MDhbxX\n",
       "FdRaoFxMBAI6c/zWByJD0vQ5tzRHT2cAdJgEeL55aSLSypE6s72klGKg9XQSe2llgYKzfeCy8GhE\n",
       "9+0z5AoPqTJUZKKvo7GKTubTTAOtfsJDLj0ITRVKZlFvYRZzjLxQPU3JU8+2x3rIK+gYSA75YdBb\n",
       "2E2RBCjXaVrtY3gTTvZcfi1PwumMpnNr4i8vEvV9Qx9CkdHJjVtAtp8dZRUOEVjyWbnzyxPyIAiM\n",
       "x8uNqoyt9n1PnCzFnCzyk7MqFFAqMzXo8Xo/mpBEsXNVjuw/gw2sOJuTIbeQb76N/WE8Q2Xwd6uA\n",
       "iKm7eiPzi8Wx/+ZM8z00Qt6P+NkKmQAAArhBm9hJ4Q8mUwId//6plgAqXGCQKohaj1TB8ekq+Wbr\n",
       "p0vn5UD0uar8bikIQToboejOiXbRyUpaiiTvG3M+0dqT08146NCwwGkhx2upE88lKnMWXvZxEc7U\n",
       "Q2yVeGHeX5ytzP/0GZx2qJW+Od8RgF7U6So3UKehKC4JO2c38+0SD65EoHCbEH3T/thPKMud1P7m\n",
       "OcFWdODbvqj74SOaH5ZvmBzF4vh7h+9+1CzD9WheHJoHdb9rxTwAfYBr5/v93D0E9+kJhcB6Hg10\n",
       "MZWzpyBcR6B18zjjECXGSw+1kimglc2z4I+3Sn6UK1c28ygw9dYzg613GRLS5StlAiTYYzXnjm6P\n",
       "WAIfWPhMW8o+MrR43RxhKe6nxT8PcND2yKJWVFHLbtt57u+YFDMDJrgGgBPTUarEEMCfVpN2s7Vq\n",
       "7NikEtMHJBNvANFHjiABp3Dfgi9AyKVmbOd+o4LlvoBOv6gJj46xnqE0HQIp0YAar8BwJj7kR4pb\n",
       "OJpJcHP0N+C+ZVwsrqMI1+Sd/x5FmyiHpQUICZ0uEgfZSEMMjAv/tjnifYnCtBmuw7iaRsv7tIim\n",
       "ziGLCiiQVfR0DhjQhwykJZMcDe4eBdEUrdmAdjKao+wtRzq3f1dfQeVhvNkU3g3FukCa6VRAMGFU\n",
       "DWbxedwzfRbS63p9OtLLGpllSn/DAILa1JV7gAHDsYmlENd2n/dWoRKyOzmCYCQJddl3CnJ46J2M\n",
       "uFJMHeaLCi+mGbriF93jzrnYAMnzWMy1rcPpIVhsNt5XFOLg9/AHLUyBXgzyOYpjep2TiYqZb3Fw\n",
       "dLD4VGfDfOU0I9c6oBwkr468+vc3dc4EOYoicCvZbAj9zZnUW/39z/nuA5ughd+8pqRFuqQ37xNh\n",
       "JoLHt7dyfKEd2Urj7tG77d8IUmrOIXqyg6QqlsKeG6eysrA942cAAAKhQZv5SeEPJlMCHf/+qZYA\n",
       "KmBflM6AEdzb88zShNY+NsTR7Qo8TtSyfGi/lbpToHv86kF5Ko9MScHazjDsvz44/8QssFHRw186\n",
       "SMnepvi+ZviD/I4oEEKsfvq/+idaoXTAYOkDtLjZJ5bJXRxM7nKVXhpFKe+xAZwOrhQtWYDbT8Kg\n",
       "a338Al2EtiOH8LXP8vj5UpG26O6bbPH1UIOTfG4pGruAtDa5oYXGrE0rF4wIGDNL2eAJXG1ioMcR\n",
       "uHe8i1+NNWfIdjr7UG/Wnt6V0/HWYJRKx/av9w7fJ1Rxpwf/KV1UWOY7mzi4g8OB9kFs6hlilQ9/\n",
       "PqhuJwec+/ut70zR08mkj7TH3bRfRfb/oRTrnQUNJ9d2p2d2A4HSc94Ojt88F46zn3y70yoYa1dP\n",
       "1HvLcVg8B1JGz+TI/WNzUhE6kpfZ79xCWHc11t4+l7HzeGU26DXgnNIL6RigvT3wb+17DIS8c1iW\n",
       "vcVIyKSo5MzaQUvlMyF7qGsZzCV8CuLZngccoWzATQG2xU/IThR1YgyEStZn7u8Z4t7IIBONdFQz\n",
       "WuJHmRuNC4gX+VwdQ0G9n3kVQGnI5X9QZu6ZlxGsrEj0u1a+bGrsQgEnxkbdY+pJuAYlvRZv4k1/\n",
       "lth7k/e6XId//9v5wItfCK3EAC8ZY+7HFuC7aGm0FplSZucyixkTdLapXyIwl+Cp0EnSJTpFgyCX\n",
       "FOapYy7Ltj6E3lnHi1d0xr5wde8QMEUkxW1BmH+w3bzfczzAEAkXtn5tY7uGugpRxdqRS+vaD03l\n",
       "LGyoyOuhQwRgvbRx55g0bM9fRhs8y3Rwcn7Q8SMxUNF29mKE6e9wv72l7GL+nWCrJP5YgGz4jz1A\n",
       "/ArzVEWyICZ65Gcnk1OQguPsiIMXmhPldKlP0rkRWQAAA05Bmh1J4Q8mUwId//6plgA32lJfHdF2\n",
       "AIfo4ebgY3l3IR9cIS/0HgC681YLGtaG+RwQSHbP6Trc6ma7Yl9IfDkOXr4fE1n1TQ6HHQVkybv1\n",
       "4izSCoqLUT1s9Jw5+go7fs+wPSGOEeduJOC9aRPlWE2ggHs0KJ20W8dYpWnJW3K1w1kR/CL5ueK1\n",
       "KFsBQ2n2mfSvI1YMMM1CguD+2xWQID92k5XhE6la2NJt+gB8kQh0Jiz4F13eM3WM/j8uxKTUUE+O\n",
       "JCvoYIE4NBFD1JpBeCdSJRRYGH0SQDcrm8WKQMcY554BzR2yqnr4b7tTfvBmHhvomighyaxJ0UUW\n",
       "cho8mpIknj806I8cKgB/bW+HHFCcXXc3v0nRMCg5umN+Jv/Ci7+w7jlPv6/f6BNeSTZYqBqXndIO\n",
       "ywVZKrxLtX6P+5W8lLFbnUNMV1wYDmNHaWA1eSPHLRT460sQ2yhIAqCKlfFwUZVmr/TX58MX/TFi\n",
       "Y8RHpzgn00eiTf+8S6YIcemjcGXStmnXgUR4wXpE3Iy+EnV/G81bsFjv6Z46WB3W81erq7S5Zj3x\n",
       "OKU577Tbyer13+Rqbgvb/dG+AEfu776XvO6AYKjc/57mnZMlybVlthkm0lJZSfSVUCLMtwZyX+Ld\n",
       "AHaaS2yt5Vyn/8qHfvxfYIulV/x+NkGhLe4LEElxnx1L6HzqutnaJNiGfpx9t295LyrADbCiaSzN\n",
       "roEfGZG0jRASBo0Lm+IHe3PsJiFILcMyOGKS9JDOOAqkfcsQma9quaL1oD+xzy5zlTtQFd34yQG+\n",
       "kPzYq/Xy11X1fkjrjzHcPdDp/EwscaAwrJtSFx+Yx9WM9ghyIggKCfIJDv2geLruTcHyMZlehe9u\n",
       "LKHMWEFsT4sjgnKXH8Tfu7GqZ7j0F2rKrzkaq3HLyOQcGX7yDVwB9Jt3GuO+rJM+Iugbrts793/7\n",
       "jAcmB7VhxiuS7r6WGV93nk1nGpHs7v2XymzQjjUsbjSNGqP6i+RP/YgzcQvf7bRWDSNg0YlsaiiW\n",
       "k8V8A/jXDcMEF959ur/PcQ4G1jvNyIff1TNFqB9TYUwv1Rz4IKKcRksUxf01AD5UQYBhfu5qHcpB\n",
       "++tnrpE8rzV/T/Icgk43mz4rSIWnppmhvWEAAAD/QZ47RRE8M/8AMOsOkbRzns0RWOTqkXtf4ZI4\n",
       "ALcqIbYY/gY/expCCJQePBbjaCkWC2RxdJzE5rYXOsZf4HmuSBTaU01Fhc0PocoohJsY8XJn/BMK\n",
       "8t2q9javYN4yagH1pSgkq/JeOOXoPcnoTlovYULVGLiqmdHlUwHOQ99322Ha8gEB75eW2JUwl6YM\n",
       "9zVtfa9eDHNkdkz72IAMd5Iir58VaEWyggByraBglnE2pbuzzAONnZcbZ0oDTwCjO5LgaAfVGV7f\n",
       "eP7emXZeLrP8YK2+13mSIhkcObvazkY9DAvJ6nDy9bufIXKvAQHy8oMnNmZqdRki08+EuxBv2VRA\n",
       "AAAAxAGeWnRCvwBa8mYQU3SvYgEOG1+3OJHALmR8OOo1gYVfSwPu5/w3T9jG5QLfcrhAAsSLUEVU\n",
       "UsDd1vDmKjobedszwu9zGgutvdvvPGXkh7nxxkhXeJW7T+Rtah2ZXF5TzqIZOQkC6L5yudAJA984\n",
       "vXZMa82xU6Dr8E2WLmTV4kLljSaCoHFnYZ4cqmx6utKNMBc8pQNnGsveep9DhMGYhJXJgcH4lETy\n",
       "npFuCvYxh++9pzTqkP0jUxSr/xo7kV50uf9oBL0AAACPAZ5cakK/AFrkGvFgqNwLbibFcbPLFTWv\n",
       "rqCuBkJLoiwXraI9YxKdDzVlwjIXdKv/e/TITb6Brw2+/4ZNoFomPABmetWTo7yS5EoYsB726oNR\n",
       "Is4JBQPoc3IZP3+tKyqQUCaduZmcxBIQ2EAIxGd7gNuc21W5tJ6o8SI0pSfYI7WX08vROTDanrlV\n",
       "Qk8sBQUAAAFNQZpBSahBaJlMCG///qeEAG5RJiLaBl4xTkLm4ABbwaz7ms8fswSUXgk7RgqlHhfF\n",
       "mWwgmhmkwXgd2EzAr+G1HM/+zlYyNJ0f9r5Cl1VqdkmUiMc2XERE2fSFfHLeXLTntVy2idn9hW+9\n",
       "URTqgbHXnEhzsWAnV5jAc6b91IlY1mmrAgvepv6n/q0OuddyoXc+A1JPvZvS/dhYwVtNfmQ2+Oya\n",
       "FpWV7pxybjpbs6EKLBcuLdIMtrE7KZY6BeXXhZh8vqCFMlsuQs1uJwy3js2B2Xus0KR1ZvkTDFf0\n",
       "wtqGq3wRuXuAxQcRXnvcLcfitvw6jTx5aZYGNg94cq/R9o2gv6BefukH0PxNkui6+Z/rO/DsrrHc\n",
       "juSj/Nv96cm/HLzE7ri2sAu1vS5XmypZg/KTvZAAU6UVPpLrBfELE5LjfLh1S30qsZVVnO2dE3JG\n",
       "AAAAt0Gef0URLDP/ADEDD0JqZCsD8IEvlZABC1/qV/rWm5pQchaCXAuPdJJR7kiOhY2MsU2IVqnT\n",
       "DlL8zShvb5asbSaLqTT1QSB2vuq858EQUVoS+mWZ/O8seRlcKP+p8pa1iA5rWJtk/uX9zuQCwDfR\n",
       "Um8Yj4NhnCBwj0ZOBOtshazMKAvhJSoilSl/MXATd5MUvNqyi2GRuE8ZsaxFC/24UqH9jACzw4ba\n",
       "oIfXrShEtdOvrvlBtCaVEAAAAHcBnp50Qr8Agvi8NLWpNcLRhkKg3kru4if5qdVKjzlPmXqS04j1\n",
       "yea5aQYBpo/cGL296pM4tzAfyU/lTb92crCtxIJWBAaqIrpQ3VYAXQQ2bvWne418rMoP3BgmB+R4\n",
       "wNTSbAK5E8G6cC+XQxD67mG8xIXoxryxgQAAAJIBnoBqQr8Agsku/zYv15Y9k1tmrGoge09eCxo1\n",
       "HumrszWLJHc1B5HKKISnwY8bU/qFc+IQzPaQWmmD8fBQ6hMK/rrTQlJEmCUyDdHYcF3UbEaPiB1w\n",
       "HBy0Pyd3Gg0YWxsaNvf16bYCm+jIE6WgSuXtScJqrcyBmwo/PdwTwFuSD5BpYYEJ/62IDbT8FN78\n",
       "IPDJQAAAAXJBmoJJqEFsmUwIb//+p4QAbv2ZoB1Y8X0u64CSSO5cDau3V2fCvceAKuwcYHAe3Ctq\n",
       "2YXgYq0lRcqzLlD2DYwBE38jRFS/uSpXXx53SeFIjfx8UmjcQOae3k4dhYyDkbvimlTbswg/MvME\n",
       "jXJYZ4nJ698gs3WGqaFXW0K6eFJEPjYU0qDePLBl9L3/LDOwejTaCsYq72Qa6ppm88Kse/Y53/Sk\n",
       "hRvkQ5t00QHn7qfjUtoKn+q4HiF8Mcqa94J/7cwHqAGLacBBYxcisiK46Fq6Y1CpYG8dvsUyFXTE\n",
       "2qKOeQ8w+3wXpR+i5euVjP8J/gxPGdrdsPYXz7doLGOANIMT8QcTMnjw2+GEPGyUuswxI/TLhNTr\n",
       "7lbwHzUw0uNj/fiSpItkfqIvgAl49AhIiQfRKKfWTdCnfHI5OAWh5iQdwaJmATbkBVR2GEVTEJC6\n",
       "pdBYYcoCPYblb3+MTPwJiSqpx04c3G9wFJ7Oi/y/4ghllCThAAABZUGao0nhClJlMCG//qeEAFP/\n",
       "wsKryORI8AATsejLyR+P0El2B0JWsmHpdje/mrEUZIUd/jeCr+0cfYYb1Lm0wHeMeYdttvs41YJo\n",
       "Nm3N9Rwy7PZv/VeqPPGEOmY6wXt6c3xPrHQpcyuy3PfHqKMjyoIKqM8U9pbFu+Pl1Rk+Sfeo1tPE\n",
       "Im0A8T/4vbNW1EjZpY4xnpdwdNtND8jbXMKLzyMG/pkwS+O/2JW69XJ7gozSitfFXwRJuhTGH8ft\n",
       "aJLug5TfXok0BLE5Z1r2oDBOCSvlC2hazhUrzxvKbdgJ66RjAz9POP99pjjzC9myvXzUNlATY5/y\n",
       "Qbl44ec42C0HltUNSochp0LGmYf9MOFNDMGlW376SpSu3dy6LP5yfX1arjvZKd/bebl+yU/ODLVC\n",
       "mKCpPGICw27Ee8JVOuuouns6oJj2HtUEJA3pDZDwQBak/sNriGXkmmJi+ddcP1ZVEF9N+GQPeAAA\n",
       "AfpBmsVJ4Q6JlMFNEw3//qeEAFR5l2jm8oepaSDwLzT0YAHPp5DZxfIy9DETbFI9m3vVLJKLr1Et\n",
       "S9p3ETIagMtBA4DbCBBdD4bBjvSBLAKxxA7sgEBzPFFQ6c8xrBBQbVpSLm9VJ5YzMsrowS/0xq4X\n",
       "WXdJKCQQFIYiJjV5omp27R6hXmW7oMHVq4T2r9VT6opVId1YqlemT0h4AEaf7IwQRwiQ2sPoD0AQ\n",
       "l/3dyN4csk9en2osy50vrm0Z4RXjmO2znhLyO7UVtPWKNVNxXyoNqq7c38LX8FC3/WXnKyJeuB8j\n",
       "SIhVAZFbky4pHXg5ym6HXC5e5WBYhKQtTlDYKvCzYO/tOp0SQRbL+RYBTVi2BMLpJ2bkp57Qz3/d\n",
       "CYrb4ivV+Q85nSeCgYEU13vQ+RIqSJdAkW+U6rMc3/1IQUsvVwrMPEM30mq/Nn0LFufMWTRRYe7V\n",
       "K9BY9VNG+1q/gKoYPbe0AeLVz4pb5LhhwgdeumjW85GkfbPmNCgKSU1ZiTE5RM3zJBYJPwOfrjPM\n",
       "Jx6Jxfpy3LS89UzgwusLv1Zulz2q6os6KRltCyY42/nPpwACwXuvYlLrL3Na5924JjbTU5bNtE2G\n",
       "GK376nHRehcB+O2z+DG57EDHY2ulhnfWnAaQXgFyd/95DEpYF6AamaZQxP8cz1ADzqsc8QAAAOUB\n",
       "nuRqQr8AQ2QnJhZGrzD0hECEgBMuqMh9R0LIL1xjjvdKiqq8Gz7ETlwKyIhVAM6E9448BbVNP3h3\n",
       "j9F8/vilPqWOJmcMn7yHHToIiVCUlWY/CLV2QGudHGziLo4JYDsP/zpu2VIJwTgVTglLxjCNCEwX\n",
       "c1JiEJbAx78168uzmqtBHdf5KpuOgtlDLXUUHineWJ+7rG/L5d7P48N6WZigGwPzDXq+I2qXbInL\n",
       "OqlxId2aBJGABZAV9C4TIxYzUo28fSndwSuDz3TSkNrImKzoxAf7hXXRUkZUaFqtcDFaMlxVOE5B\n",
       "AAABzUGa5knhDyZTAhv//qeEADcnNcqORbRQEofJRkxK+D7tU3s4m0iWT29Dhsb5pfl6EtEx1DyI\n",
       "meqH7R8sm2f5Uv5DcGw4dOHqacOlHB9//4dUER7npvdFl1CP+LNt+K8t9ioWWgsiPLCJCF4BInQW\n",
       "nJW5Zw0fmtUptwgjM3kPP5m8U035iiavvkoHLUE2oCLyT7Ahf7qRPquCSXgUJz3Dp8pFm3xPpWeP\n",
       "r/I8+M16c0UGEiu/3NRgVvFAynribenukhRPzp6oakBUaGSG4t5P7WqqujgYNubOkaTxj9t9qPAi\n",
       "6qLtycucIXeaOQDo/hVbm+zjMLSLmt5N1xvyUIht0H0ckLfePGEddsE8WuCh8pRo1P2LgvVNIy2B\n",
       "7t6/OfNzCQ810WHtsytcL5v97yZ2BI9vP6R4nuGXNhaf+Ea3n058v/cHCUH7U4Ftgm5Mpck12Iez\n",
       "6zx+tGYlY0SosuF74ddUbJl3IUwmiFnajAnP4t2ptlnkZJd0AUozqzfe56u/zKBjwm8eGsXessEN\n",
       "YcnvVDq8njb6GG94H7UfhFLEmrhvtrexXDOodpnR179DAULiIJ16k767+5N8SubaEDaZQEYv+f5g\n",
       "oTHTuBFLIIGBAAABjEGbB0nhDyZTAhv//qeEACo8y7TiIjig+Do9HJjvrbjTvGk3rtAAF9Qpud4N\n",
       "mN0xU2lz+3fHTSxhDZihlgrkgk3p/vhzb2MzwelhTQVgqf9alZ4n5g4v700Mb/p0j/zVGPm4kTSQ\n",
       "Kk2PsFqCnDBzG1/qt0pFdgu7b3/n/andrSFBypDjJePB/5yNArgswJCJfpvVWM/2a8frZgqjcfdW\n",
       "xdbjwH2uHrRG/ewKrJOXGPq8/rucp8Os2q/lNuoxM19hH86aNaLHSOA3EU9M/jj1CXXgCw/aOS5E\n",
       "cnHMhnkLrPpjnZtsdKYGGT+lLDQCNyxT8PORmQEV+bGcAAe0cbWqpZtMEsj0fpzlVpT7GgkOjYJG\n",
       "F/egRX0QJBm+mw59CGBjABIssBEzLF6D5Y9sgVYYLz7QZ0JhKOJirPn7+c4X2qnEO95SaMpyXF0H\n",
       "CHa0FWH+KlhKfEGUhetN0DEHGC3dxsw0fgmji7zXnlabinzb7IhGVQh9d7P/BXvRu43tW+4bfy/N\n",
       "Um/4jt2eYMI9oQAAAcBBmyhJ4Q8mUwId//6plgAN6Y4r6qyxpIXF+rnBf1ZiGGACjU+ngcgbLLxZ\n",
       "r9m9wnCh/Ywm4tSnLdeMG6vfZwYd1ZOpNRndmSiRUyAv3bZbWGC7TbsjlwowLKmdJ05YPrzpVBNC\n",
       "g7srmWgA1Y2s2MG/eCOS/szkqGqX2dpPfFZrusrRKACL7oB48KU6V7n9zBZeHHuHJ09AsWv0ugcl\n",
       "FZF0+bzV2eXMQRQbju/wO1zXks6CLxzyEiomXTlCowDqGuXs8evxcq5dR6gHev6w44bF3TyyvDPX\n",
       "UV9SlJzVpKAfzLV+wcdrph2CYg7+f5wOk8L3XwLu5172aRj1VEF72C+NAl43l/zXkbuMForSed1d\n",
       "2X3I5HCohdwBJhgXqFnt4m+ynlBDDSWN03oWMFa6YVfjqci+dcdQW8W8n0yPb0ToOhg/b270i5E2\n",
       "mUKNyFwg33LleYNn2tdruGVbiKHCw7zjwjqcGpkpbzrgzBLCk/iJ5+Dzxylpi/1Io2nnCSBb/dOM\n",
       "lx0Nztdk6Zs/cRGMXZa4plnwWYk15xOdmiQQVkQjBtRbBUb/cEV+5A/vaSqeOd6+1D5Sf3dNu8R2\n",
       "Qq37DUp+AAACT0GbSknhDyZTBRE8O//+qZYADfaUNJhgVSD/IWm+YqUQ4lWy52zfSKGz2JQA90Ge\n",
       "94QYbZOdZOrLT+CyosXh8HGACerU5WRiOyj2C32LgtQb2Ey2CmIO1f966HktbTbZpBocoTP+FNWA\n",
       "Lj8unQXPvhIrWTP5ZHwYmt15gVRW17fFoDvSuCLXGE6ray1bLsz4l/Ge2F5VDaIBclVf/6qiyu2a\n",
       "gBEQA78ieYn/bJIdRNdITMrE5UbaOuju56KdKmvZbwPdb2mqlnvX99WMvEgs2ihGmxCIeuZehzGZ\n",
       "HBRLvQRvqnjngRbdMLuVJ6TgXy/CmdsdWoNCgm3wOr2WdzJMGp9PaHU9aGUWzfpdbRiMq+UBRw8T\n",
       "Iue30j4MunLyUencXriJGT+zD80loF/fqzjoA3pKD5wN6TGLiQDtxtFpXVqHYYSEINnRIUfoCkik\n",
       "2htj6o+QvrKS6Cu6t8dHHmtXARpyhe92d65BnvDBh2Z7mR/yIfoi/LuCMb5LVCpPV6BNpCqqd1SM\n",
       "+/b/0352wjV/2SpXUjFkJtaHx7E+yiDPufBVlxHwANFoXA3UKZ51KiBNFX1COt3t22xuVEQCZR+z\n",
       "mlD/1ohP1ppV5cjC0aVHJ975jLMKkGsJvRKMdHfRNBfI1kCa+xxhzYaQTBOkRUk/gPnsEKEc9JnG\n",
       "DRkYjzrnqMWpmVbwUN4j1hnGgNVtOi0wfDyzdBpT/UFk/LDFgZrlmoXGgS7WRSU+w2mOBiYRGw5+\n",
       "tbIF0Sf8FpQSOs0JikXQGtI/CQAAAwAnsAfy3NUMLAAAASwBn2lqQr8AH3UdP7BTcrln57YCVBEw\n",
       "Ar4/uLvnWvYOGy6DvejgwMYRdqlT/aGcWqMfrqLts3fc7StwukaKwsetBwuv6bmivkCNT44gBPsD\n",
       "7uAHK24ELpSJ56EJ+U4BeScmAM9sAKoFPkb6JjEFN45AMoY0ZDoNhPKzUjibgHilQ55nQA2IdeUv\n",
       "OLtMJlbP08jIy+mqGIA1ljSfeU/XwEGcssMqXq83gz3pKAgL33vs35R0L9XFEMlWspOifAIT/BbL\n",
       "cc4WrNcktUy4l1UfPMqP5b2SyxkEsAqjeL0QArUlIvGF2EarK94aO8aEcDglAKcDYqNx+AveC2vd\n",
       "YUaPHo4JmiBdFmzb8ogdbujUojziv0ClrwM0YsSqWp8LGjhy305yL96o1WAT/vdNGlcAAAKSQZtu\n",
       "SeEPJlMCG//+p4QADc4GYsEtC+ah0CMqcZlVfAQzMBSbhaFr0cEWJcJOcIhMcMXzYaoUG1eGvN+t\n",
       "5XcAcSF6kkTuT/uFSHpJp7yU1lfTuONxNGPG9knl/93Q0ONVVanSaVTp0g5wNNiOPbHsHQKNJ7fd\n",
       "x8xKO7qZfW+yfymA1uugT+HVm3z7Dw6w7gIybq9FKIQnYysomEo8coHb89FShGr5t03/846btblT\n",
       "oz6kmMGxvKlz2WBuVVq3jcuL966Aft/Zy61brh+oQXDvDiGYsZbcRn2W55CRjjmMduF1AnGGeMqU\n",
       "OWiZVS1vCyH7m2EbaaesOeZfJaDItoyOGOrVExUev7J5DF0lkO7FtPt3z4xAXBcyltI2aOsbiZM5\n",
       "CHtoRpNrJC10uOQ7+UHrEWrzC3RgyXp6dsfREi2W3fZO7SbRDG7DaFo8KwyE93rVuatRmNkK4u5L\n",
       "mFt8xdj0fpMY4d5dz/0ft2wG9TABLCLmt0als9JWx9R+aJBMbx4RiwvvRqTdyLoj7VJT/mvCxGfV\n",
       "p2O93Ygubhj3609s55lqNvF/k8Kd8fiAtMsBZwczb0yTv+AvHNs52GVw+JdOnZLuEFxoBiFOhEma\n",
       "OcvgiiMqHTAsFwhgS95H3g27231KHzu3lPZpwAJUdPg36GvEbwxQ/hmQK6k6g+mh0kgzlZ00bc+Z\n",
       "JLSixnrnc6u7Zyt++gcdWRqPowjBydvWuIBwc9XGzYW6iY83qcYZrpPY3+Pfv9OjBIEVnAZVvPWY\n",
       "mEVh47ul1HiH/Tudppv2Izc0PRcHMg4sJwl+S+upaASJGwrk9E9qDkZCKNN718lKyhk2Lo2dXa6y\n",
       "Kz+JimmU9SbIjNwIhTWc7Y/4lig46PQh2LyH8QAAArVBn4xFETwz/wARKDjtoNAKaZpxraDkZgA7\n",
       "Q+y7zyHOjPCTU/DSWrg0Td/EkPkzjGT6EIDF7WoT69tVjbKMkH6Adkuwid4xHJcylbAxAKuU0LDR\n",
       "BHe53NLfP2cKjphtUu2zVJ+udFsOMQOq2yjwbW6L+jmslX6HQtb9ESgtJL3+lBDgt8x8zUFT7rFz\n",
       "Y4HlENzMW6IzOpF5ATPZDRnoB3iyog7aH2v6/hApgdELWjjpUDDTtxD+9MduUegt85dQXk9G/8ig\n",
       "TGZH/e4+Q4QVPaAGi161uGHqY3t9NEJHY1GWLFNfhbYUmgMqfAlDTEkT2VrbcGDfDzcsodRbgRCH\n",
       "QrDIXqV2U2aIIQ8tunpIw1W9HE6dRnqWt7x2RvyHjIwmv+9kerYRVDbmRATQDlnmWEcCP/qiUEv6\n",
       "xUEhQ2B7RppFsa8leCrSKLIZbjVYZOHjxH9fxmgYK0dHnqf7eysuRDhBl1uW0uIcExTQ/7aRqM1B\n",
       "zySWjGVnMk1B+YQiIkPFNzbkLeUcEj4zreT3/XmO0I4nzwDVHCXW8jLbdcQEULmC5gd0d9dXPA4U\n",
       "YpdDHN/xVXinVxQp2TsKNq8mWfS85nIPqOn0suPZx1UJ/3jt0asNtYviBu+IQMaXAR8tCThbHUgd\n",
       "cqRH7nnESGPsJ2g89GwX+Y2NlWI1ieEowuQjoJ+GBGGcWrIDgxRN+fEEgyv4xtnr+LlkGoFdzbre\n",
       "hN47//SeWFpf71xSvN2EITgGJ6G/3DgdmjQZVRzfClFPeBOHVUyuqeP2lLciU8sh0xuTXLorXg9f\n",
       "dZT38Q0/t8T/IUWhjngCMU8W6oTAZlTR/Nw4ocT9l6t++XBtkXpF8mmlNXbO90cLrQW+ofu3FVS6\n",
       "6tuLWMq6j6fqznTKSADqKcmaSjAViFeJKHbIss1v0OzezTEC4XjOObsAAAFLAZ+rdEK/AB++BC3+\n",
       "QMq8ALeO1U7yJrGDCl3FpXm6PBigkmPLVRc12eE6rLXPOlZD6mRfQrI7pmTxYcR6PcYOrptKd5Kx\n",
       "gjSMZX8iWxXOMljji50MPSDevrKtqLqw7VD4mqFQYgCRSl7kCLvkgcFBEsZSbfGSS4PsxtBRO4c9\n",
       "i6kg++7KV2gXd5qM17psnEWcouarsPT/N2LyJIPGpbScgppsL03NnPBGrxE7RDKDHJ3+ctNG5HOI\n",
       "uAxIF9MhVjtYSvcBIUE2LLne+/dZwDr3/woKd3kjHWzoPZtK1DZgFZ//qynH0aqLYnk01m57M6Qx\n",
       "u2AuJVt60L6WX5NBERoCJ/wIj5booozPOdS0AutHCgwb8MaAW4A4i+xhAHV7iJLPLjExPv6efUf3\n",
       "U0BvKc4+citMGsuV/7x3wzaUZQa6cNOk1oR0VuhIHkDkwQAAAUUBn61qQr8AH8ZT5QB3AiTgYABO\n",
       "3dUQ1fQ4O82C35DdX3ywXo1CZ2ER9KbSjdsVzLMSZ5AVkJa9DszyKq6XtykhnVCQCMrKDmjHhnAe\n",
       "QJgvoerIQhFH5m9GwXCJfiu5yBc8O/1nhUbynYidIuJxgxoTdlnTToDpvgznBbgk9CcdiZHGsbx1\n",
       "jbfM8DL//kQwjykOD+oMmQPvs8ML//WviZtMsukBgppSYuuGglAsTxxvFOT7fAU3gQ/kcQvbB2wz\n",
       "Pm15bPPVHyyFU/H0637szlsNIYUrLoj8AcGp/G9UVi30mYHa6lNl3V3viQ4gNHkKVyGfuB/vpCK8\n",
       "JTmGb37MSeBWz3UeO+6sGa2GdDlNfQdo55I79nIDaJ07qwQ/WUhJ48qf6LhDsL3L74qJFMNaQzeT\n",
       "hg5F2zRlqAMJ7b9OnmiDaQT+Qg7pAAACS0Gbr0moQWiZTAhv//6nhAAIqtpzZhNTKl4U4swAt64G\n",
       "4ihaU5fclX4xjuYhgAlQN+gCO+LWSLuylSN8OFJJRr6YJ/9YuDJc5ZGMx9NQVu4HYxcVWM9jAYZK\n",
       "bJwOLwB7WWWBDJXdkDrLps8TK8zNdHKBQr+ArbK99Gtd3XvyHx/Z0e+7n2HrtwT0BYLk/FCFvpQG\n",
       "xb5Z4wvg/AX3uPEGYyNrILUWBu3M/TFO6cprTyDvdfruVd1y6Rb0sf0o/zgORM0cshHxzlHoJ4SR\n",
       "8qyeEGkvcda6spYKE0r30TYpsXGQ5CN67+IqA9OlZ8kqZXZEUMt/9aaZudJwE3rWE2Mwo/55YSfV\n",
       "LtbpIDAqJUgbQZOfV4uXmh0LQuUysZn1Dd0J1d34uxO3Hv2Uu7ieEDj7duf+tojcvZW/Ktd2OMm7\n",
       "G5eswdASx2njK1whDWV2pKrojrXKZ02jO6u/IuQMzafmXUOg6ldso8WKa7NWJ2/49X25D5vvZVtI\n",
       "WATRMixopVkTGHXHT27/QOsnHkDKyJeOCzfL7ZZBW+aYDsvCHhAiA7i2o+91UzqfpzRGxtbuB40y\n",
       "prMNbGdloZRV06IEY0V4rEvK+/UAm3fqeZynhpcAxlexMogCa4mmDH0BKcE7Dl6JljgYmB+QFUBt\n",
       "zDa8q/nFfxt249l9Wg9wpXWaY6TVt1Z516LYXWy0Q6F9Oftqjt3yngetB17jkUI+39lJUzHy5AZG\n",
       "CCtJZ4qMHkF2DgQ7eCFGzpb+qqj54qQaTZV1CwQapNbFQKMHNTYYBux5AAACokGb0EnhClJlMCG/\n",
       "/qeEAAyLpn1MeRACWpCWgATOExqGzMQmc9cTrL3q8w8bww+p8aj00IHHk7QMkAx/S0tNyAQilcPj\n",
       "4EkzatsYf73CFfEXjcp6K8FgJlD21TUVIRlJFXqKxOYuxSK1j2ENZcgGBv2PIaSHL40N5BqiqsPH\n",
       "8L/WD+hIBatffKGNXBT4FR7acPwT4+GBPFSTc7yPtAK3dQIH4XYkgOBoI391QEjqh8b7BaG3tWj1\n",
       "43+WWu4rceVMLaY0lxjcCbuASeTid//GdTGaYJPfreSVICvTHSsjjTuolgwQs/j8UOwQTmY/gRgh\n",
       "NfzH7KH8+PFLcu4PLbqrsPGHMpjdVhswTIjYlQvgyte9s1nqV5nx1/zQbsLc2wNlcNvHTAKK3kQo\n",
       "RjR5gMKENViIRzkZbIwEzr+DvLCIwG3Miz6OZxit0DBjW7Ok+QiaXTBoEwAFgEyC0VG9hvlE0Lx7\n",
       "vlPdcK3BwTYK4d3EtcmPUetaxjchQ4BWNvh+nFgqiJWu6IMBFIBBZ7HKv3rmIu3hkxQ3759KFUjZ\n",
       "nKh5HyrC1WsrbIJm0qgxCKweDJbSdJHhTJSQg4I5eDvmZ0US2f02SHs2/4o/NfI6ZhG9D5z8/z4B\n",
       "dnMwD0AeYmCfggqSP4FXxN0sv0N1P8x/2/HxaSC7Uo9LjgJJ7gvUUR93bRNgACXcUqzJwXo3OjZd\n",
       "7Jme8dNZoWQo5U+Z7azmKYFU65Q+PfmaUgKJJzMcCfDy0ZiQbcsWSYc6Y3aysTX28VMFdA8pVyA9\n",
       "+I9mC08elWCZulTV446G8iO0T9kghJHp2sx5335EuOQbuZPpumplnng/D1fYCK6ir0OU0+o7I6pf\n",
       "AcqV4Ua5BMCugKIWiDCF1/9SVgb8/Mc4Q7ZMVpgIs1bydLKAAAACj0Gb8UnhDomUwIb//qeEABie\n",
       "E8yWIhbvM94HMuh8DfACMhw4Sy9k19sx6BhD9HN4hfV6aeYH6Ter9Qp0aFqtrDfCkeIxFCpUvWGT\n",
       "h6yPLrqfGhm6tZ+7QL8A6MH/oNf/VuazxYuJQQGnhvNN/xvJa7eyEcdjxAEjplC5x68JQTDTxoyl\n",
       "HOQmEVZBZSnVDr3N0buMW6Yx/+8HMU58bfbPpqnvImT84w0yq95q9SrHeER+MCf1APdQabj+N7Tv\n",
       "LK1S1kV9cWG+tbVRA0aW6hScePuDpiOXQttFlzAr9wZV3DZ93VfshI+HBEsK/XRRBEP26YlZr7Rn\n",
       "x2SvGv2jU0ovGsg+qRZQj5cnyrveqdHOOkV9nat+l79jgfUO1dAwROAZwxZF3AC3zs3GtTlHWVE5\n",
       "O7QcaJt3t81WT9diB/LO5SkPfv/2BM+emrqFhGkgJ1b/Z7qdVYjf/YRyQARGE1diLkpU2ls2IlLY\n",
       "jO28hO4jR58Ny+vtDlBzjfBCg7EjG2PFv6geX6K533XdTcwaPxNhpCRrlR2y3hYAzj222rZ58/rz\n",
       "6U6IHjiLe2XsK4nxfEruK1EJ7ZL7DQj/qoMKhWw1zEcd7MsRBiSM3vQsam5zL3f4QKBeQ96jlTqq\n",
       "rFA0dBYJouj3EXh53SmtJhxGkI1xkQ8VcJr62e3c7/zDsDFqJLsmJs8jJJl6c6oN9JFvhDSWf4Ns\n",
       "dR/6AdKYJrJWpazR5+UkqNRwTFga4IURtEn9a/W8FAaPjbZb55EAPqRSs4V9uc6ryCHAnUlqUzjk\n",
       "gvM/sFJ9xOw2iNaq+awofM+sUZHBs58nedVU/n0/CykyQMAHY/drrVZXavxuTKFwm2p1NRcyAipT\n",
       "B63Loi67cv0YysAAAALbQZoSSeEPJlMCG//+p4QAGSFSr+vcAUAq0C6QAEQEdURhbbnAs22nRABW\n",
       "IdRuF6ImxgwT1sLsZd7tZnU1IPOMthAWUlYNLBYd/BoLOvPxUX35Cw0O2YPjKXMt0NlLHMGOHZR9\n",
       "HXKVEI3N9d8MIbNdzW1Zq1xUN2eYzThL/NXdgmuhYDwvq9woaq1ulP8fZ/XfF+78wtdFMVz7WgHy\n",
       "aCbK9YUqguAoBHnC2Z4XqV/HDDO+BA0h8e4DcFynp9d7eJUxm7ym+G7gXQJt+mYZSLpU3WK8XS8d\n",
       "2PG0UXlXj97oTAPAhZhHwR3uv0kUAGRHg6gNsTpAaT6MZDc8bThuMStnDvzZ+3DSziSX7QrngeYM\n",
       "3Dhq8g1b5up0ENY/OWaNcDB8xhyC16wfKjyGVFKmt6ZWr0fJvqsF2kv/55rFbkhFqZiOTihXGHme\n",
       "kb9/Xy2TrZ/dqt0Ta9BWk7OhUUh2kvXe17uv7TtVZqYqYLT6orpEv2LAjJrspeOArFRd++M7gEgI\n",
       "7d/7nq5t4uDQr0cksMM14KdWBkYMNot2N4GvTzxZ5M9Z8AzUs0AvigHuRVUAJimkXfiRK6DBiLfU\n",
       "BWZ1tSyFsiDyxIUhRVY0ISATE5ju5sgiRFzc/G9pQKWHfC5RMrBi5HqffS/5rimosWMNeIymKHAH\n",
       "RXyIcYyg9n1faNWolhU3zZ0MJL4ClvpgJMB+zBZtrG1ylgk1P1niJdeLLom9/clTCO4cjJy5LQ2/\n",
       "VCyORf04tpomZ3hIKqBCHjaT85yjU5v/yfFh/hqbXLpacJsldltqvXJ5vUgvumRhcZAGXgxjaxZW\n",
       "j3kI0Uv8QYnO84d69fNbWsBgDdbHgkwu25P7JiUNndvZ5WFkEtwKDcmcfL27nP2sXGWoSGVOAdPN\n",
       "Bu4mPajo/UBGPJSWK32m7O/PYhJNMNm021LUKv5Q1mJuFVQj4YoJcGf+e67tKZktminfQaK56LOW\n",
       "hXh7RoUAAAKuQZozSeEPJlMCG//+p4QAGRc8gmDZAC288X6iQiPfipy86EmYmresumC/bbPQHNUK\n",
       "25QllkGruhDHQo2x/iPOaUqAt3YypxTw9S4F1bao16RBoFX7uEx+2qsDcuG0OkqkeR3M4uKTUnm9\n",
       "1uGG0UUd1qpcc121RND3ZBSORwedjWDon8gtx/2bjsWNjEJJ73EePZevTyK7s4GhxEYJ+WnuSU4u\n",
       "vOP7T9n6IbGL27T2+VS9nmE/kkP8a+xV6Oe/unArG0Gdzzc8K+WX2+lAq+2mB5uO42lv7XSHdbSf\n",
       "QpR6pXZc4qexNJLYvDACADrv3VdIMie87oYJ+ij0jlDgO0N45xi9XPvuVtwdSsGov4/vivv2Y5Z4\n",
       "JCFfAgFmwpv5j7e/ymUAOWFBlypXer9n8pmSS3DOKRm1RZbGpmtO8swhbKZ8doCGzw1kQ3NVDsri\n",
       "4J0wU6iENkQe9nEo+zeGJShtr63jW1/xIt2cQZMj95Gv24VVpCNxsyngMzW+dMPOa86oJKKSjWIr\n",
       "l+96+a1o4sLxMhYKT8EwatnFpZ6asmdThwsNqBxL8zUFfQMG3GMJh+xHjuI5emkS5YNW5JpRppsg\n",
       "GOxSzBqrKAlI0WGhuAVZO8O/2QHn7N+N92DnouUCpKfMv5eC33YGgSjLMWoC1N1rtk7YZtFZXoVE\n",
       "3fpnqzd6zVJz0Mly1MidXpL1USFlUJXfBpGebEcejvxKaBnSgE94+s4J2dYvsJhi75dCev+DP0Nc\n",
       "+kOKqow82Vz2fbk5zLhKfYorhk9KU5H7BqFwlFCUVZCqrSyuoiHeqhV3Fb3NmVJYv+4jLP7+jc0X\n",
       "9t3QbZuthhtfRFOQ5PFOj4SJgNymvM+810lP/aWP2kg4B0rpWhnFb+Q7i2jvRJJ8D0sioOlspSMP\n",
       "ew476A4vI63y1nAAAAK2QZpUSeEPJlMCG//+p4QAMQPOH2yAOZIKmswHXsMKbvspcrZcUV6SP8EC\n",
       "Z0CIozGI2m5pM7e7YU/d++Z7ZzwLVRo2qkkjSWpIxV4k7RXxhVL7t/zgMSdeJz6ptk9Icydf/7jO\n",
       "qKKZ8enO+grpluVOV64x1o2gNnfy8dyB/U3mq+yMmn9L0HBKHiPlPoPnUVzZE88WSg37mkVtjzW5\n",
       "dXZ5GnH90s3TH/mGpbecdjdbs2TlH/NMVQ0hrcc94vJPHBqv8sTERJPkBx2p/Qnau0wvuX/ieBIu\n",
       "DUO7wf/1Gaq3Itcz9XV1PCA75nVhKTmS1oib5cPHsbjI25WbN3aZxS0XAPozzokP/qT3lTI8pir1\n",
       "Ny2ID3D52DBPQPtJ0frRBG3++1QfjOCc4KBFs0ZqatmDf+Vpf9hwDjbvIFfB+D7+Vjn7sRLAPSka\n",
       "eUj/ugJxj8eEl8VcMyP1mnAc6rR3PQOVG/HNt3ZSBtBaOiDE5I9ugGQvK97zBrQEYcnseG/fpWqh\n",
       "buReoQWJLU+puVvzsrNB6dTMDz/DT7LsWmHCa2RlrOlZjijg0ldTsYiHfW09Wi8somx3DFEtJPOK\n",
       "4/jmPgzLGZaLtRl3bu+8wMmLppiUKVNMg8kUZN9gEVH3/T+gv8LCrODfpiSxDDjM7EWIInBOwrQg\n",
       "NOLpybX+HyDqCF0R8hJ2s4i5bl6R3mDmkqWe0kd6FKFkN+8RzlBOYE31aHGnPxJtN2mMQHHo0588\n",
       "m38d9uOfTDUlnKbRr/0Toea/EMFDn4tMbT1z6IwfYMS6tGu23lYPsLe3PNpXemL2VdIb0QDJiwR6\n",
       "vkITiM19tgdZpBCYlPK+92DR4+/dG+SEVelpvkNTtvbg+5vzTs11SEsw3moYAc2eejrEHGuHj/8m\n",
       "7Thma6lMwU0v22uaW7//1S3BhePCyliGgAAAAsZBmnVJ4Q8mUwIb//6nhAAyLnkErMADkAz5ouwE\n",
       "cHGO6mXCuirqEDSXBu/uSMFmOb/6kIKWXrPZP2e+knIARTVS66+BlM6ELWLG8NNJDnIEBbdZdJHF\n",
       "DGXIgQvDy8ySr8h72f4M7uhE2v/JLMLpZaqdOd5LoJuf5ntqMO+MLNbeuIABp8bwAra69vElzx2k\n",
       "v9rQ1o0RwvWjR57BPqLXKztf//xNY2PvqBXS8vuqmXYDoiJss3dTZF2108Ain66aSPKYoZ2RtJs0\n",
       "4aMRYqxvDT8Pu/aNDosNTPexUP694tKtIBUp7aMaqJrypyneFopvty+L2ZkSwON8ycVh6+YuIRUg\n",
       "rpksZwlLnXS/WLqLbWcW3EiFyzv6H3/PwyWtwF5WjdZBnvc1bjOXHg7zpp2FbVuZsYkzU+/PIdmv\n",
       "owZC0/SoaWugoZ18OSgq07ZlpDAkdFxcl36iuXml19dPfpgz0sGcrv+XReFlCaEyp6zted6U0KrJ\n",
       "cOorq8g5wE4q+VDis9o9Y3wVf7yn0EoLHGIe2r9MZ/5/M2/ZLx6v2BA7Mc4Az5CydR3sHlJgyUDy\n",
       "KnrvAU/oh6pCQaE2c2nkmUxB0H/a8AJbwZkR/oJU6zDCSgGD4DOIPjByEvU8M8jgVWP0zROMsWW5\n",
       "bg3x8DkSxuMhUfg3M50sSU3oQqVoeAP+KbfgIektE/7xVKYeRURB8gdwQpPbQCrMOl9Ymg74MAq0\n",
       "dX7ZsA3o3r9Cel49bcX/UBVLbfwWW9437E+F5B+twaIQ5luPtTCagSQklf5gTzPsaDaMXoKHoXBg\n",
       "sM1FG2S1FYN/Pj8bGTJOh7rs0W3Wc5oaQRV2M0MBJmAzo9axrnIUQkB9w4hsytN1aeedIyTk1UAb\n",
       "+5KIfiwIlLqRJQeoyDSrUQoFQabxP7y+XwFhp1IZatBQAurKAkZ/FTVsS/ykQQKLMO5lLeEUsQAA\n",
       "AolBmpZJ4Q8mUwIb//6nhAAyQm+Qk1EAEYjg5LVmMCC0WIBDB1peEVI2TmAuJ7ZV/u+l9LXyqGa9\n",
       "rHCb4+fOihEN8jViI/lMSA3u06wq/xHjPg17lg4kzYGa8+CrL9IoBzjMhRC1k+j/P3oGZiXjT2Rt\n",
       "MnD2Xpd4EwleSFihh4ESyK/LMdPQHZEmDesHim9S341/pToHYxB5mjOydZDEveP/Hi7qO6oTp1D4\n",
       "lIzgltpB7cysjGRzZEnIOP6gCnjYoj2zzpkH7fzEltNXXnVKGmEhLQFDLzCRx/choUNsbB8ftw/Q\n",
       "08hePWYyD6Ep4aIWtmljip9nDjQOtIAzWP/de6Znf2zbQuOExlh/XBm7UQYpdJwOG0S60koJRp07\n",
       "JqJXdmSWxlHzOTFGTZYN4+x065E2VX4/doQ2BGHzGA+4WY5KzB0IG/qD5jLVPmHXDjLlV/gUGZJ/\n",
       "FKbzLPZ8mXP4Z8m9DSmWjV4glWoJk4vyL8OU6uKb3RTa+hSLLzq2wxf5bWTjkC9K8dnkmWllanBF\n",
       "29+5tTcK+8AMEtiyDEa7f11wAoaZtP4542v/o0tIt7rkRzSQ6aAhsVrQG0kmue+OFY5lUVSbGdFN\n",
       "I8Ao+TYvDt+VECLknrop3KWH/ETjPx4twQFiL+7Nl/yg/V0RgidWXd7WRUWUsluk0KS+yLzkVuab\n",
       "7xgLf7vwFEZSX5LDAw8sFHVINMMz/lCLtyu9HED4+g1REB0iPlLf7qjbLWNjIadKOWF5+EQml2LS\n",
       "0afP4iS9H/Wgb5aKrUnfh3A2UY5hh5mKJvdlpdB7FP/FLjNkCUU/6ioaJ19npyOQq8IRdFflE/aW\n",
       "k3jq2YdsAQ4iutIKgbowMjG6jwR7irCAAAAC50Gat0nhDyZTAhv//qeEAGIFGv1tRAHzGVbR1Ot3\n",
       "pIWa7E9AE/fQpf35CkWof68+HL4e1sx8UmQrv8PepyZnDAStMOD//SCOPqYoqA7wpSswF0k1Aui4\n",
       "X+7iw0xk+6GAwWk3zYh3QBlHU3Dj1nBZj5bL0SyKD9O98CBjmoN6lbmsg7y+yvLsacwLkHLKeMIg\n",
       "tp1Man6k0V69lgh8TWKVy9re1Qv2dUhCrpM5i+dD/4DpVprmIxtkTwhW0tXlJ3qe0MwRRI3pNSHD\n",
       "onktv4g1RNctr4JYLP1QZhhGxMOWVxCXKssURPn2aLy4cw1kvOfV21fkRPnowsFtVC/pBTQD3Uqk\n",
       "hPmgs6UQOHz15MLVNX9Z4lZydks+4C/83lh7XOeNIqSdHmRjjenylU/8X4K1/D/g3XzrRwXwOIu/\n",
       "amnwJEiyIuNsS+4ACkU1laljSssWajjiNDuaWlA4pm+BVM4x6P3URt3aPvFY3pbs+oz9fYztAnFc\n",
       "p42+XAXD905BP8RForfNXSOLCpjZWwAChBV7eWxx176iHu/n5s5ob3x6N/Mos3krZGvwddVUKoUA\n",
       "xlcZg83/1IQUsvVl+UZLgbQ8G58n7UhwQTCrnVWTCVSO+lizqSMHtMssX7mNuVGf/lsUcCABBg0R\n",
       "7nDdrOWVdc5y0ZgXLKbDJ0PQ5FoZWTw40Bde3klS0r37gz0tU3SSbJySj4X9ZGHk8Uz0DtFL3aU6\n",
       "SkhK7AJA/BnPq+8nHtLGvDDRBlYVotFRbq/SELiCPfqZf5IYxQGFQHxa8OhqSgGtZyn/D7YH5ujf\n",
       "0X3d7obmrj0PSpgtzVcDvtddsKO5+Sp21Nc6lVU9+Ed039+opHBKlhg/3gttY2YqlkY0/aVxXmg5\n",
       "IUEyAbAN9pMf/Kr1Ab37o+QsMwp+NunFYIUSsats0AfqvwpAk0ena+ZDfK08PnueLY9EnIdarfP6\n",
       "Xz5iDCxvUTNpLSPfUdtP8DmDmKvmFqeyg2aukJWBAAACOkGa2EnhDyZTAh3//qmWADFgdcRla2AG\n",
       "6wQrBycvNkjXC+YWV4NaHDNVtWfDGGhRkZfPFPLHdJqDASLrtpu6Vwjxlz6lYTcUJ1dR4OHhzVrP\n",
       "fYw3hyUpTZFIUX6bd18XVvh4n543ewCtaS3A43CW6vvu+p7i9rWJZHXDzD8M/WDOQLbvREoegf3m\n",
       "lrhm7Eg+/qWtEQYKgRLMJk7bwjy2ZBxCQLbUuKsvHl9t3PGNC9ja5cDspc/4NyIQo5oK8fUCYmMB\n",
       "GOmTiOrDuriwAiq4bn26+VUjI4uyn/wxeJn6+2jr/kHBpfVlFUts7Un2BFN7MTmJPeho1RlK+Bq2\n",
       "8TK8At2DFyUTPr7d1dkJY74f8Gc4IKFr8Y7P1syoKvhwU6PtlgdpVaxZNY7tXj43RBZN0/mgS7vg\n",
       "bnQwUE5WtfwthLvkU/H7XnKXBC2qB0+QvfRoptjRDxhMRHC8RIwGjChxzhl2D5uwQICXeUfiQ+tp\n",
       "nuGMPH5NXgk2bCbIrnuZ1zkkwmc5fHdAP9wQTitC6Le3y0C+KWfyHNCrBIPzd6uSOBe/5GMCrt08\n",
       "EUgxQYb4Z9zTvmOAzkSZD9ULIqUi08sw0M8NsQnc+nbreBP2CcXaYafrA3iJpotvUR94lJkZJ8la\n",
       "UKq+X6z7Pu9Zv/MNqBCHLUgYBb0iBWiNIvbsgIrjPoRAJ5nJC4+pot+0SUufZcGgOkG1cSeN0wy/\n",
       "lXv4QwPAWFP6sq9SFSYqJCuiEQq2O8clcvzi2J57Qun70wAAAqdBmvpJ4Q8mUwURPDv//qmWADLF\n",
       "6K1uGdAC/1DbRPBc8M3Q2Gvk9lX4hGQ2ZUeWEQ76WCHr/8kTunu+dvGH0azvoTOW7oxD7QLog8SF\n",
       "zMHtpdFNx3S3VqRVbjDs26bz4l5XVvtH68wb6ycRJDhbLT2XoyW/qAVKScnYrK4CEMBn7MYRKjvh\n",
       "o8k4nIaaQwo37xoILFG92D51VEZ4qHDXUoH0fx2NpSAPcGB0Kl1cYd8y8EgRxAfV8uJuVPdUaV9t\n",
       "8YBA17vFvQcNAmoSnUPfhd0+PQple3SjkM7HKLy5sBN3Pae9vDYyoM0yfpnVxl079DzO1p0myozS\n",
       "VxunAOUbyf3QCuUXarOoIE+oTvvpT0Nv4KV7QT51MDNO+Y4G4iQ8gVdve/1DCJD0YFBRpN3kL1pU\n",
       "ta/niwCir7N6jlj7/UlhGcHJTI3ho6niquB016hPoAS++mggf3S87Bm3qDYDNQl4g6aIDzwOmQ8+\n",
       "tE0lX/gTkr7VFHnKcbpKnXED38QJbf5AtWevUF9ZK2sDXh7rPIYgVdJW05Na//kh23gfcsRsr/vL\n",
       "rEf6hnXQH49uLWe8fZFtQzxtMiIFxiE7wS2oLOSTI/2UIHiiaH6G9DhEyMgypuiWTHVU8k328JP+\n",
       "mP0kEkPEKdrEyqbkRLA3lEfOjrddRvJKwLXALA9FG3JyM9N/t2OPg7OTKzF94xpD9KKTkUbEODg1\n",
       "+rvkOQRdf3FLg+t/Bc672TjfbrSJ0/A46ISo0UNp0JSCi3JrqgIN6lmXsRbaS7Bg3YdoNyXeRMxN\n",
       "cfXvhZnK4TFbdNUIqdIpioHjNlfNFFiI/SlJDcGSbxzY39fsBVY6sEpQMWWHSJaMqKpjZdZZmYYD\n",
       "hTNEusEAJHS/6i64cOmNNy+h1O2i2ntwO2riL6O8YB5wAAAArQGfGWpCvwCdWZN3DMNY/t3fVj+f\n",
       "0AFgQ7WWOyZ9LA6vPrBir2eMEzbZrz2Tmxy4LodzxTgR4NWnQiKZ9Iq+wHSXJXNB+iPn4V8KyuIj\n",
       "U8EapemoxOimZI4Dn86GtpI1PHbyCUilGUJlZ1lhEacewk35Lvit6eiVb+kU67mzB3gOFUu2IfjT\n",
       "5ZnJReVTH7V0LA6gMn+6UYgHILT3gXShvWBAmSkTo8ojbbW5E/sZAAACM0GbHEnhDyZTBTw7//6p\n",
       "lgBguL9G9Pe0Pm4QAcHEN0zz1hR6ZBPsUO+Z8zwieGCYuKou8RZbuHUsP1JymtLXM07Gh9Y/DsPt\n",
       "CCyff/MgQ5S+5kQJhTyE7XVoH0uV91JtF20sOCDdVkYfJoUFLrNFHME1FBKgYzfETCGIBSxIvgIG\n",
       "rFBAWaQLnnHO0uKSvk36YkfR88nMEK1KMZd26MRx/Uq+tcIAoXBhsWmbLOcBs5/7CpVxhD3/S9y6\n",
       "07HfB/xrT5gIacWLCprT2HNQYDx/eVztdAtPkVIOFtFHRkz6npsWekjefnqouYPxtHv8vS1/QpQy\n",
       "rCTXzURTo0MPQxCSzWN7KOTU5LIlsapL/EjhTblR8FLAH2N4IjV82oZCkTHM0cZPEoTV8AXlKY7K\n",
       "Axz+1zwazduNroGzo2OYxFZvy1IxGhV8E9dDv22eKR4TshSmXWYjlcZ2q/PL4sHOngCzUkyvv175\n",
       "LVAGyQmm3twpKViDqg6wQ+CZMYmh9nX51CYWrilal0BxwKZ0j9tVEj5eTlcaCPc7CEoUaKrXTV4M\n",
       "RYlXWDl4Xl2hdA2exQmcWkgw5zvr++pOHgB+v0YOxxLHkoAlmq/hIVG0yNyEoEKKZQQWbpID2bZm\n",
       "A8dx3JR/sbnXvrXfv06fnjqdMfVmp8HXhJCqzEwsjaLhDrHcEvthow6uKZaa4q1Kp1bcDpzxRb7v\n",
       "1eo2oZ04yZhruNS2OBn/QleUK0AADWft49VJjbRXamMWlsn4AAAAkQGfO2pCvwCdWZN302H1xkiA\n",
       "Lqq0pIxuAT0lziW3X2LV+rLzV3kXGA29dnvjHlY25hu5SCP2L2JXey/bOER9k4riFiwb03XFCVrs\n",
       "OlNV6KsckkdBAYaZXNAVqtNWnjqBkZQa9N6wLfFGm6fuM8BYB/SjyY5VoF9sz+P8FcaLP4cWrUGq\n",
       "g+FzT17IY7P9XB9qkrEAAACrQZs+SeEPJlMFPDv//qmWAGM/o+jEv4UjsOFoRC8CElDLAw2xI3+8\n",
       "4HK73Ub3leDRJ3PaAbPhM1RDz0Xdm41PVYkeaZGKKklTdM2C/Nl6j4b0VSecSTjcw3Q/ovh3nLYK\n",
       "Dfr8mIAqCx5B+RQp18BSyESDiyCMOTlEO0ox0wiyOi20KgOJzBIuzveLw/vvlK4dNp/02rav79ut\n",
       "A4SOiykjR7LoD+VcWK1ZTp1bAAAAcgGfXWpCvwCfNTkoQzL8cuKIEpVNQ51IWeFtVa3XnILgALgT\n",
       "Re6hw9rl7xfLh6KqKQqtS2I6diuoXZK5hPlHybb2tf0DL7YB/qd1GOr62orlS/ZGjhxiHfvEUlvY\n",
       "EFrqQ5r2EXdvC4eNNTqsJO7aBpGHkgAAAaNBm0JJ4Q8mUwIb//6nhABk+Ezhezrot4AFodsF9Rwv\n",
       "DPEKeWgENlgnfWdATRUoQfLDWFRABprULNktSIFsCkKR3nCrCHVdJnTH5/uZBda1cNl4ht7PJJZl\n",
       "o0j+ZJHUtiZSwY6f7CrfuDYKs4d+iC9PxhDsIxwgQ2Bi3hQWib+A1maLmwvKHYIgR+LYXdzmBkhr\n",
       "g/5IletMQ+m656uLV5NSPI5zUOVHBTmatjlBXO7qcBFh0eCcpKSRW0Ltv6e+hgMH/9hWYD1SfSwu\n",
       "Hmtc4Gg2JVjodiLs9soO0imtthuxeZDuafnohhjAxk/Yg3OWeP0zCLCtlbMBVmW4fuwdwXe4x1w4\n",
       "fosL5UcV2m45JUge0wceCFyWyVbcZkMJvUd3uPsLDzzwdRWghijYJ/zyicPnHIshjVXLjjLNJ6th\n",
       "BI7fFuNwOhElJJy+CNcPZudXUcNB+z7ppcqQ/GmWYG17NfKqAvXqnJS7oCPfYknWBxtp5pc5FVxh\n",
       "NXvsp9fZO364AuTqN0XVNQu5g3HsqHM1zoejJijsiaGwVsF4sv7SUu3c4sG/gAAAALBBn2BFETwz\n",
       "/wA8zAQl8E0/d9jnpuq0AJAwSycB3vQIdNWZi6lyv9OwAAADAEoh2f5I4VJ+lnbfoSHPya1hpn4/\n",
       "dEyCoy4+2WaTgvll3Tla+fcl4rN5Xxvr0fuL7gDufnzwR3tjHQLaMdEla/Hqn6PLSjNPEhMr74HS\n",
       "kv7S0LFEsWEDYFM9dVfCk0ABfLq0Wfx29TgoP84KfaP+RCQPLlijXh8brspx87b9rn8mlxlEUQAA\n",
       "AGYBn590Qr8AcBRvSRTyQQIVFxFxm7S3b9OyefIV+vkIOR+mM5xjipmH0/Fgjd9wqUf5HcSwi/yw\n",
       "Op2eMxX8+65CBtlYZ56vWwmpBukSiLiJw3sMJEXq+b0C219IgL3PEn+mkXKRsTgAAACxAZ+BakK/\n",
       "AHAUcISBt9cCRpzRSgBWM9k48XcY9y1oWTNHDghfYvbeHBpW55RJGQokUvJpIiWxaeZinKEptHT7\n",
       "KWwgT3tZY+4CUfnb1p+vO3JUSF/ETlTeqHHdfhqvKiuVmSiVa2SfJ0ACMTNGO/CTPlAIyg99mSMz\n",
       "CSWMK/WgBqd/b7ML5QN3+oavz5HzVD8XwR/0Q3/YlO8a13EftIWrgGpie1RxklaEBtFiqkVJxmDt\n",
       "AAAB3UGbg0moQWiZTAhv//6nhABh37ur1MM0SAQWlXFnzv/e2MiBSxtHU6Ls5GpGvrbGsJLWsOr9\n",
       "HNf74jqXecvmktGkbx9sXssZgnHN1hCmQsQ3mOpw6S42jX7/jKS8DYCYBYq7kW4SThCkOl1pnss4\n",
       "k38o1qioeS3sgCj8bjU5PagAtCGWdxT9qIPsYhfBH6aghUHG/sf7ad6bMyy8V+Jo5KB6VFzi8Ta8\n",
       "YD/EH/IMMy4wWi/8zEiKV7C+Zcm/2B+JR51CLDIWU56v/nvv0O/3Zy+SNGytKHmzX89/psGG459Y\n",
       "1qViBAfCuSydOL6dFiaAc/S553PhTDHiCLm2RwQkdStZhuoq4ScIJ+RTZ2KS6PbBB1tUEHOO4dLR\n",
       "PJFjnBbfu+j0QSUqWKGkfOE/8++SznqfbqJzimTdoCVrREGN2cEmECcnzG4bdUICTNtL19Y8u0OL\n",
       "Hj09GNT7SQ+myqGOFjwP2JRf/kWREjoC7q/Se96xAEmF8P8UdX6qJrDu5+pV32Vp5s3vIRZhJznz\n",
       "h32mZjFQpmcvmDNGZ++du0CdLMQqJO9+yx7ar84JGdOWPQEAyvowiawS9eBv3B+gp6DGtFD3dGUV\n",
       "5EzGsa6vmORMXBq578bKSinxw2NZb6aSbgAAAhxBm6VJ4QpSZTBREsN//qeEAGJ4Tdiu9xzodZL9\n",
       "NPKvwmSkhq0JW8MAD/9kacRKpCRYf5gHepXNZRu4S6JYrfaPqDbMu0HSJMgaptL45SkqNOhEc6Cb\n",
       "+Ii4X0EBpjX1MrmkZ7PQyiKfXQhC5SEpQF0Y+AJWiYe4MBm15idO2ZT0drC7JPSzqr6NsBZ8pgE6\n",
       "HSHdPr5UcFBVNxuJfdEZHtl1YgCVf5PyCe9lgtbPbG4l9FsCekQvZqH4AZRGMOEagIrBDqYdVPrd\n",
       "nIqqXC0M6xS0TP9ZTXwGcOg66KQoSTdBNkd7yJh+MgZpTsBYjX++f8zu1AvTpCP65qtdxogU3lP5\n",
       "E+3D7LwTgLTNW2z/lAUgfM1bXHN54MpHpnEYW3mH7fP1JWuP0phwq+PhP/QycU5iUzASNZGE+sFY\n",
       "kFmTxMptNBPRQiBiUS+0mRcoQjr1ubr+29atANFwQQ9VbD4CM13NTcIVNkrrGWoiASlFuQ9I3sHP\n",
       "FxeUa9swR6WVgvleWZV0M+d9w0dQMTbT8PYW5vRR/PK08jdGsgZv+X9WW+Muf38bWFUiysvAPWO3\n",
       "81T1Wyu4W5Ae4M/pG9KG4OAJs3lMtaWXy0oZoySbrYjhDe5YSs9xvOMCDjcWZuf0PNK6DvFlJJ5j\n",
       "UXiHDCuNxKu8khhaZMhc2NGDPhoQc2fczbftnH2O0UsjrKPI3hvDMvLn4omHlynYXW7ccqTAcecA\n",
       "AAD7AZ/EakK/AE+aJ8alndo9f3l2IALU8w+qf+j4c+ZXyeLOoro8ediKKNhbblLQahXSfFHYViWX\n",
       "pd/29C/i5Y//ajYZqapL+iAi2nm5jyed2BG5Db4PVKbZXp2hvuI+t6pauwm3Up6jtjbbhEIm9uBt\n",
       "P10IqNhu0S1Wji07TZyu+6DWDDhaUfD3MXKKtdGPJWz5jiEbJuBY7P1xpA6HdZVxC5zBOLOdWw4K\n",
       "+zjnUYNk7Rj5MKWUk3QQMfdvlfrHlJ93rPinQUjT0z0kmt8da8/90dWdt4h5ueyEqG+Xv+RmOycc\n",
       "0kIT4+QD1B2TNJDoJGtncXPothyUaiu30UEAAAHXQZvGSeEOiZTAhv/+p4QAMnwmcLvExkcAAuhR\n",
       "oqhsKl0daFr9NFOpiICPHtJrQLoVufvo8QRWYw+7NnBTRi5j+W1YpRuAvwLRhza/1wes8YlkZqOf\n",
       "FrcyDoRHWeG0U4fVyb7fOjnILFyD+/Ya96NCEe9rnaJ7Oa4QElAky11DGxjjrFzbOBcXMi5e98/i\n",
       "qiA9/LwGUU2LlTGiUnmdvjRE0bSi4mmwYX9o5p/3b0yYvT6BWQIiLqQQZpfv0y8r3oUs6rJON0Ta\n",
       "2Wj0hX4esRDRqMZm031ijL4VeBmfw5H9XBO95UycqhipZgFcrrZVbXN3wLcpiSHQ/VhefMHJ1BMt\n",
       "j6T8/4coaRGoCWxcE7BeWdmq2Uj/L1wVTigmzndpB1aadGvWQ9uSGEEfSbJRZ6lK0P9H3Bt9d7jI\n",
       "t5yevzQVvQUOlOPkxcoL+kf5e2CYP+qIDuEO+uVAF1r3YRPDJGSYPUojLhDS64xwkC12F7pOJ022\n",
       "Py/ICjwP5e62WeaBr6rbgcrC2LL8vZCyGgrc/01qc1TdPo3/jUHA0j/4fc+GHcoLQ/vHS7jLbG4S\n",
       "nXHK49EGioNmU+ZWP936+9c+g8Vu3eAjzwGtJIBSQeXuq7QE5emhxziHiEU3AAAB3UGb50nhDyZT\n",
       "Ahv//qeEADE8J5ksRC3eZ7wQy8BQdE9L5gntOoB4u9E6/ACE1SjNGyM5drrM/nQmQjNLEV2E90iy\n",
       "EhWAo1MVsc6HE9f3pSwPlSAT1mPPEZoLjuwQY34D2stG30JBz4CgbLCy3PDV7hm5p0xsNi9/W9oV\n",
       "5PGLJcCYlgzfoaKCEGh0RdiRI75dK69bAc9Rwkmaajd+bF9nzt5AU56W5py5JmxlBnt7lmPrOiSJ\n",
       "50bCedqfg4/341vSPT9/9CcwT8SahaDuWZZMLb3gqDJ14swIBeRJ1MbtJoCVBAekPHx11ri9QKNv\n",
       "HytUOSudV/lPbx8x2u+fjHfU/w33SDpsAGY4r5OZW//PjFSWDh/fS0kFiP8eiBKwFYrtdEFdB6Km\n",
       "mX1tXBjPTIyCwjFBdp01wIb7OQzRsEsH1Id06daBzhFJwltXxAZf4VqY9NC6wD7e8VyFF5ein2tB\n",
       "e4rieWy3T//GCJO13dc1fop/VSMH+IvrYwVKBXBZHn3hfPVotuUVMOH4D70ANUy3iuBzHV9nAGLB\n",
       "Zh9peS5MR2E4mgC40TilgZt6YQbVgVTHzKMuagbyKipECckotmyHR/9OUabw16mPmFHXPEHl03aX\n",
       "nis6jllXYqjk4yZZqwAAAhBBmghJ4Q8mUwIb//6nhAAZFhHDAEEtcxAAh5sESo2KJBUt3CG2HBab\n",
       "18TwoZRpOZK+gIFUhsAxvkR515jAcJl7FcVHo/PT8YdSSqvcmt+3i1wgsbRbBlI27jgku9qgf/qP\n",
       "FL+8hV5mqqsVxgY4I2/7zZIQuJ80boshIL9MkYNVJp0tHXCksEYeqJq0Us+9a6kU3cn5rQY7W7IZ\n",
       "TtSD9y7RbtHtoGW8LorgU3o7sRumxQD/UADPxyrh+QTrym1UW96OehBRAD0cmBM3SNpKSMVTVX8Y\n",
       "d5tphmsdXPvIP/40GYbEdIzw8e8f1UAkgJVd9OylICNiZayDO9ORTn9lRX66tVblLEj+gfc00zzR\n",
       "Ue2uzbPib/iH+mDcUXxjBTWiHoxQIIquoGBuuTYgWJUBpGxnY874nsPeP8QhS+n9aMbGIP2wNME6\n",
       "iIKyZq1tVb7tbfHhCok/6XQmUAhld2o6PFKHKpwNjFJens3JFihtwlPoYYgTzYm+izxVr56Ib7pH\n",
       "SgLoSr/OKkWdr2OVjBFsFB/lq/Ehj/lsbFCJcagnZudVBY+Y+WoMhlavUPhGz0a+v8alImkqYz0z\n",
       "Y/ztiJYfldOrNUGru9BHXUZxe0f9X5f5PwH8HLe/8c9Dw2oIt1+Qi8vB0H1/m3GDii5mLMwpczz8\n",
       "AzxVLZAMEkqxoHq1LTDYpZ5xRSKXFonHbl//wTExGZAAAAHWQZopSeEPJlMCHf/+qZYAER+R27hP\n",
       "4QzK1Pjcl/ad/oVoRfDoDTx5B2/WkPwmFMxBW5AUIMADQ0TwlgWm0JhftoqAvwg07EOueUYolMbk\n",
       "ulu52KuwpM0UnCcdQ+otIkPqp3r2oAPjWkAF35IHy9oFRvTmnY81z6Thi+4ekX513VL3btUBc2xX\n",
       "2STOQXDdPQGNSpkAEd4vyUHijZMiitsRvOwHsi3doX6JkuDR2qQ1MEdh3JePeY5JijQH5RTF2Xv/\n",
       "nefIxEEWLArIIC83jQ4Iv93WzKuJoPwxxgIbAGe4MmDsnN6ge7ITyVZfCIFgHbtrLr4VeUjv/Epg\n",
       "q6TRgPD//z8A93nnNP+2GgWcbbr/g0ig2jb/LCr0Q3Rdi360w7NqhwSifZhjYLcvZV+ciQiUfY0H\n",
       "vNuYVNmRuL2wQEkZ7LXBBGn1BX1Ow+RB7MTBsMVgV+yT2840Ffn143qob5cmectATM4QQsZn4jam\n",
       "awLOSzRklRWM4WLLetLpybsJ/1oUez5LMkffSCCRYx9akR8ouEHn1HeljoOnu3O64sZNUiLQ/J9T\n",
       "BIvjVR9MRJWD8RfyaMkn9DKa2gkx6iP19Vt4/hwTrN1W/utfWtxA3/KM2eoH0ygAu4AAAAKYQZpM\n",
       "SeEPJlMCG//+p4QADO/jg+0KX57bJpyUDfPE5NPXHVCshivtm47JgBIZ6oJ31LYmIc02vwV0qztq\n",
       "VYJ8kgRYG536uq0VGx9zb7he7gSfvq3TknI/ygfybGpEN2o8y87TFV3ScHwS9KE5bk2jx/h8u5VK\n",
       "wLopGmO+Pg6wOgcD55xlJIjQv9Xs/S7aXVAn7pIsZGPUmqy5RcNIbgx8F9I7fJOZSwnLPKKYmRAn\n",
       "IGhzNWdKbSAAIkfDZFGdtzNMqOBwkMtcDr6XVzLRhJMBV7qa5wbWtPV0bONiFDK1wJOwAgcja8ng\n",
       "8vGF5QUxIe7+mawRNAXa4nrm4/NP/NIUOD2oN83aUALRTosQOsyqfp4M7vh6vm/AOIVWaNMRlTJX\n",
       "GjgAZvxgQmjc8E2MTKGJYSWlMG5P4hdkPMzyhV+Ohw/uaIpP2hZskUBGKONFqLJfA36qLi4vwfMh\n",
       "lAnIRRUYhJM0fCiX1bSmV4pKFbUPqEYQn7a7y6rc0sKRr3iB5T/yigGEl+N9+NStEOhBp8Q7MOHB\n",
       "ru+bRDnK9fqMZpKmR9JMMQU+uCwadKdoskNNnjFHX5m6IiPYL5qyn5NuaLoaS/sVjfBmdkjx8TaI\n",
       "5ogdw12qjCQrBfG4M9G3r7fm+TVuXZghqGpFJNc90y6njoZdN4NRYs4iMJXDjieUIcsIwPaiOyw9\n",
       "t9smFvX6/lZGCSJt3w7YtVWccmeNP6EnBKOLK3sRsV6Ybn12tCtPs9lrvw5yo6odskqwa5rAxF88\n",
       "ahn/lTjg7+2YwL1J4SwES7/NyA7BdEjvCuNCgkA6Gg+6DVlWtRjFMkUUey/ZRLR/uUQAth17VzZN\n",
       "hMvAbWcxV3a3fLGp351ULoXAzcpOXUcYdrQCQvkd70aoYQAAAZhBnmpFETwv/wAVC1cVPa+anA8C\n",
       "UDXshi/6+gYaro+WWaxAJySWSbFiXmgmIcc3A8MZvQAk9Yt/TMIyKtYcDPqQFpYiE4UguErOe9h8\n",
       "W7xq8ghRexxq2OXkUhdHCBamO48NZ61W26o1P+My3//o4syF2Y5cf4I7BoRlkPK5mFrbchDhPyIA\n",
       "qJ68PR5ei2qrz0kcYb7mtnCGbAChOOoOqj3BsctgdBXb95zKC1ZVSTRCPDLq0yOdBveOIqiTPWTO\n",
       "e9crSGf/mhuYB3RC2J2wP/w2YIZxydEL5oSwgEEj5JP7DiJEVOhHL5o7qR9oo90N2RulC5PCiX0e\n",
       "H3t7TqKBEPESklCX27aRrsuSl7W38zfhx7JL5u26iJKFL8ACoO3mAMtSbwkJpS4JU0KFUtwnjbtr\n",
       "bIhoeKPCO4M8e92vGjyQnQXAB9xzOx0LspzP463Wp44DUhLR7fmbafd1eJcn9Vy0KVltidwQhQ0I\n",
       "7W8Wok6uePMjvgzC60ROc78aM+2d+13dXxXPapLXz5p/VF2EidgPh32IHm5oroAAAAGHAZ6LakK/\n",
       "ABxWVEFl7ouPtJZnJbIUd29VwP0UgQA21des4NWFZGPCjmR3tUzKBW2RMHv4H6H3+iqW2TdXhJAW\n",
       "2yhTb0KCZRoH/GkuqOMbpOXUxlOOXFjy7+CJr7UGPZTL036Ncl8XlGtcQtpsWwPt2ctqLBzqjgoI\n",
       "iECo+KLwx63ToJd+fG+iroCvNFm/sPOKlimsbCTY/W/LagkkMIKrSJEx947JlLjfX9Lr9quc4+XL\n",
       "qg8joyi/ve8AC6ZWhoo6UZ+Y4LP9xmIfKbnfZL5BfYbw2z0vP/tE8FOqnmoSD/LxfQ8BFUUk9jnR\n",
       "+E+htXSP088BUTteJncIMLAVfAF1RnuhFzgwCUvrUX+h8uKVNByNs0qG5Hut077KDu+Vv+yoiMGp\n",
       "jwgBhcy3FjR6WHRVYQWv1h5Q3tZ9gSSPl4K9DbsXPUkoDI9d64B909KA8+ZVZVhQdm07t2CV9QX8\n",
       "cfpm+HGKg6xmcjFZOWlS0p0IWkAQX2LQxgNdOA4J3xwefL5EER0daBoD4gAAAadBmo1JqEFomUwI\n",
       "d//+qZYAA3l1ToAON3OTulRX68GQZq//hlkwIblyp3wJLFEmCLYCZzcvD7IDhF2c6PNER3pLIY6U\n",
       "UFYzroJf3A8+JSmcMo8cKweSDozQAcafTia9XYuw6vsc2NUav3OK5dOkpH4CSNf9Yft4DMB/zSCw\n",
       "eiwf0vWJyddu9ArbACV8C7ycXnGakhcSvYQmqR4Dy750RVNTdFSNLjvjsD/54swBmwmEol6lk94k\n",
       "U9MkhFuhQaytx/scg3I1FFXzAhzadGO+CELT6dH52AuzGFBHKyjw0ZgVeYx0kbFgkW5pXcwGbYhh\n",
       "neAtHV/6oN5cbuftyWLX2fwgnp3qKnKJsctI0FLrt/mzNS2dFmgMWmJrFOm4MyAdsQlFK6vIZJEL\n",
       "vR6UaV4V4Fudp0eW6rT5oKT+nemDuC3/s7huR1MTTQAAbeEszRGyZcq7VmAPcvbxcMLeHwcYttmp\n",
       "seT8hEoNlSBRBpVM44W8BXz8fvyCCXq99gze5dxaeoJ7LmhAKB4S0Kr2Lm4BKsNa4eOvo0gBQ7B1\n",
       "ePAHBKACdcEcXJW0h40AAATuQZqwSeEKUmUwIb/+p4QAFI5loDKRm0gAtTzPkaJIqmCk1mRP2R5r\n",
       "K1nlaLkuS3EIskhOGHuuLD5xOAGKy4/dCTuui2qYQoWGXDQav555q9xAf9zTpOd71JYcZ0aLNy19\n",
       "5odP58sGs1JYvaH7DG7iUSRvbj7PTIoJWD7nMI6nf7gG19pUaxjfk1HEQDiNxE0vvQRbNFdt7UiN\n",
       "qtg+XZxl0Ma0016qJg+IuDeyZHb7gGL7K5vyOX+3izyZx9/dEgLvufcI0cz87qSASjeY8RnqWLTp\n",
       "jBzviV0LOAZqXQn43qetRQWPXcT4VthgH9IPyVRubkcRhiWiqLqGiFin+/nvW4GCaLVvNH2ah+pM\n",
       "SmQs3AYv8O/xgSB1OixCBRmD2Lp+bvaTrn5hryiJEaL1DLLlq1q9OLrG1Ceh56Jle/+Rq4RKJEO6\n",
       "3bAxkVTXk1jMy3m8y3ZzpeG8ofXglLZ1BQ5yVOJneh156pkCjf6BKvonLzX+psOQxAvbcDW8i8Kz\n",
       "ktlui2BofDPoKbnxNtMd5WN4/woa9TeH47GGCBc68S+ol3zObpmu4JGQrFhdc94jddMz7xLyJkap\n",
       "+gOmeDWmYJ/Qe7rYZWHm/sHpDroP/uuVxMErgamaghA+peLmFCPobVenHs/x+egfOIIiho3SDwlJ\n",
       "adwjFLUZXz4mwG6lsWkDpGWvKcvOsbPGo+a/qjwj9q+Ox+5pp1jSvNcX6wBwwTkAR9k431VOz9Tq\n",
       "X43hPKM451uq4Rv41/qFl2YnEbPvkDuUtBbV7r//RCR1eKlh+SKGB+GWanx0NqRwUGsc8tuNE79l\n",
       "sMjJUgWbJHgC5xCnn6dbtY3SAxxh4t6LPkr9uaU4W0npeZb47z+Z9JrpFPKi2GIjP64Ngd+FhtTG\n",
       "FziNloUb1CyJCpszhJS5/H7k1ybxSsFn9Liu1/fz/voEGwbLQNscFWSp7qClPk9Ns5UmU/3VBKrl\n",
       "7daHB1GOCPWtwVGZR4oI94peiuA0fcOXWRWmhfKhuRcBgY32QZc6/HJLefipMESSrZGUVA6Iu2IH\n",
       "5xqEPddWqJVaa0MNbjzr9gnpnTynp+/vXsTH1I9HC80Wh64KL/xcDy0iI/fwGh4barJRHylNuHaa\n",
       "QxD47b8TEuAFDSaMoYwneYOH0KSmyXrswLContmeisxROlhToDRtPLJtQNjYTr/nc3uTELzGFiq2\n",
       "9CWp+PXQWM6/xSlzQP8O4PBmOfRI7JMcf3aMOYLnuOfIppqfqH1YyuzllL/DquIcCY1Ak4buvhRn\n",
       "A+zr8SX6lQtGE9ATBt1O9ZowMFePQrVXQkO+knJF5s4TXRFq+xSnqIjQ7Awv9VeOuONwz+OV8uE7\n",
       "K4JP0jaOq/UuduCMiq+Gwvc7CD+Fm3LpCgKr5J95GzpqhVXEVmKQdW/6kTItQPjchqxYoHWkUu3I\n",
       "dvh7DRAhtoS0do7xu9KntxTFzVCQhmudROLfAJCpE5LXmiCEGv2Y3OT0ViJsKliuxy0UiZlGTVGm\n",
       "PIuVVQ91W1WaTiLN62Ez32Lgmr+Vgs3a34HuL4c9MA0Tifj4G5pTR1oPBqSIR3MP50NQfdgMyADO\n",
       "jO+++9xBKoQDUGmYQ1AivcotdbI9hlDZhEHNao5Ei1eVW2K0PjvxPhbDko+X5Ru5hnlNS1SV4qD5\n",
       "Nl3i+iGWAsqlRijEuj4RFTJt6+08HJ5CbsEAAAIQQZ7ORTRML/8AFQtXF3caVRRWvyovOyjp4ATV\n",
       "4168w3xErUybb+Y17yhGV6df9093WTeZGosvbJXWe2mZ4SIHDctx26hGQwTVbohDvXoeO01RyC8S\n",
       "sHi0DXyK7pORNbKRr4R/bhEI5Zdq3dL1SoUHAOCHhOQ0eyKGbR3FQFxTrWtX1NBxAbZ9/cKSfYjT\n",
       "UFffgwfOs8ebZIisbkwvEZmgxTJQe0QQaCLcLCDtiuDPYHiMToGrry3HOLhvaIIRDLGQwkSZ6prn\n",
       "Ju+uMLgRgS/sk5NEAzizGCrNM5xbvBYfPqxO3T5t8aWuQLmUlZlJb9Lbn9B3Ocd1vOSeY7jlnsip\n",
       "RSNo5zxu9LR6YUyh9bANuhBcoAs/UAB6l79/dPf6ZFsHeTwF1IhTuowkKgCZXdIDd3QINaGcq2aK\n",
       "ZeZ+imQlLKhkIZwwUkrebuZdrmbRlTvafDnrm9GZjHmk7I7SqxNMu2tE90+uYBdayRQiv7FM/40I\n",
       "CqEXkYzTTSKBQ1V/hWUtuttK9AICQZolakP8pfbhFX0LmyP7uPLR0/0ydxpQWooDaVy5EdKNWwB1\n",
       "MSjO1AKdQRN7477Ni4UsZxfQF0oiJu25TQzCAvE5fe2QtvaRq+oKzY0uR2r+Vl7k/UsuwuVvGF36\n",
       "qv/qic/7UUXi3RzqlE6NrZNOy3bBhaS1dRyk2KIJipKCLpHmaewS87sYvT9hAAABUgGe72pCvwAc\n",
       "VlRa8P5wHgVZIUSxm/q+StABcp6M+JhPc6RNUDbfK9HG+AoRov0dkmhEIV7OhXgiTK31e7UYxtQ1\n",
       "CbvFmTGy1mrNqkOBhihq1tdIq1TtycDHeEXxYKaSftWwizcbE22dklKfdPzy7dzthRIcKZosdaIn\n",
       "oE0wQPhomcJtr9qnQ0GUynRc9yH+LHisD+JyQ3oI3HoVvocN9UK4wQX0P6no2WAvfmsLf/Cls/pD\n",
       "zAy9KFfTGeA40+zGE9Ot/3h8BztQiHv6Viez1ymNgwmcx9/unJFBtIQdmgTCr+7OqnTvn/jdXbDK\n",
       "uEw+1ewy9ch6dTkvIm56BZIKoQcpuYFSPPDVTy88orUYWwdfaNWyYNIjFBvx7k+D4mZDtTz1JjIF\n",
       "E/qCM+LcDJYTu/6i1ZiDsdFZKlhMOUpFs9REQoYKX/DQTtDGn5LMQtXOxgUsAAACp0Ga8UmoQWiZ\n",
       "TAhv//6nhAAVHf3wNC/B3Jd0tQ2Mfj8WrSMBKHzT3y3nyBufS1yJ3Uo2AGW62uPf+7YZoGJUiOFR\n",
       "RpMN8Rk+uSEiLsMz2ZquWGjdC+ZANuV5CWjOprARxEQxkHIw+bv21BqFuTeGNzOnj2SOJKwmnYsE\n",
       "F10xVjxNE4MDwk6iCFeyULaQsCrkPbDv68LUMyA41wGeKZPssoK/GFTI+e2zNm8OpYWtUp+PtGAr\n",
       "toDrocAZknKS18uHarwsR51tnx29hVQnHnxg0a3u1t+9k5Vk8mgh3ASctDEy1g0wkRICizAs8GdV\n",
       "Edtie6x/elF9rXj1OFfdUdnsof7VzfsdFeE7X/AiS7PuzN95AdETOVqfIeG3KKCR1ORvJdrEx0n1\n",
       "5X4Hf3D5K/eiotOI5Tpc3il4+tOLKIo+5QwhUrzlgk9XYgXPEl2OZRm/sZTBXptyfk1io+mNrPIy\n",
       "++BthiknQWQA+IREOT/TH81Lcxyqe5V5uMKhaq9zju49qzTw+AM0ndCQTfiIi19xIbXp/LWk1yhp\n",
       "qCZqhQ1qEc7nMabI2Dk7nuok95yYBweDYf7MHG8GtpL9WZujKmqMaIZ76n6EYzzxWl4VzVfFVB73\n",
       "2RLmrUt7KdShMae1cbJkuoOaWfjsP2kXCWMzxzp1MAPwhC+Bo5bQWXq2xVK0BhW6o0OX8stadX0j\n",
       "CzrcrNvCJWxeh4reqA8UBWCk7EGbqX1Ms86is7FgF4SROfOvtCOEQh52kjHtdHJFMkauKQC7LD+g\n",
       "cICsVoKa6XA/OPp2QvBm9XokIRkDRbMy/8Zf66ikYxmhYsUgn/I/C6XN3RFCOxxCsYph7WP4m69u\n",
       "Dimaxaee/+lo9RRGaFarbLPGb7K6jKHar3Ysl485W4Wc98OsqJFkk8+CVA4AAAL+QZsSSeEKUmUw\n",
       "Ib/+p4QAG70UXh1ejgBCnvMnBKt/jjPeDUh8wvBAgyOxCoxiEtVcM8Mgf2KH2NOT6vaNeuzrEG65\n",
       "5j+KNQ0UYgsLF4s53yCIMfjHNyRUIXBwpEFVP0Ox90tdfEuLhHKKPhLNgiPfrNErEpYOsHgbHQLa\n",
       "wJ1OVFWonFYfQXw/3NX5CnHXJOb/MdaANykO6cmWSHDeoAAGIgJ15q9N50+RtTmJPDH4sZejbtaT\n",
       "Ig8Vzk24/xKOFcSdrdTGQnTkEdQcKD2uXjHrXFIpxtsE62FXwNsWqjbxPcRu4YZ+e2KuMwZiBmQW\n",
       "te7nyGW9yWeBNBfDgb7wNJ1V4OuWR4BPZpz1sFkxt3TZYV46ijJv+PvF/ueCciWFDQn7EpvsZVTM\n",
       "zgmNdLNRZXEdoNE7smSJSWthoqZIdRaiNnvxZWMyRuh/xjHBPDC3OqGgcVkM4gK7dAZU3YSSpj58\n",
       "Ds0Hv09ZJAS9e9HA46XPNIseiAdseL7W8hSv7QkPqRHZ02u8rRExgS2q1DyMk6oUYqAYOz9XSIIT\n",
       "rbjT3Pu9vGLJKSY5O/ubGk9B20Ej8OurONk7yUKAoW/DjQV4aDYohHB2Fs9OiNWQ3RHY7obu7j5W\n",
       "wP1LZ8jyExykjkZ77Vm+/UqWGXF2ZNVr+YE0NJFVB09PeLFhy1JKJ7q6kY/H+ZG4tgckUjQvRopq\n",
       "aDseF1pjOID9OrIv2sUAf+/Yiv0gZe4tWiERbIqWEYm7OyBIjwMl6AF43OlYdSx7b4/ZFZCTWbqJ\n",
       "Ey6hOBwcYJaIo7IMq5VclIhvpvWsmpfXJYp47PEPzuuP3FCGjY+xX8aToA8WwieaBPbXBC3Ua1QL\n",
       "b/VtqiWMNwfYq2hyjFqIjXYCZoNk1dPQhvvqyc6lWKO3W1V/h1AEjfAlQ5FECPzg96uecHLbenGc\n",
       "une4/iV7Fxlcgo2fa58yZnEK5ti9irP1EaGzgsfiTBHRvIXZRA6pFusVZ6OhgA8kVxGmguu8g94P\n",
       "dYYYh/Jo4ZGRHwAxOdslBQAAArZBmzNJ4Q6JlMCG//6nhAAbk13ygAgBAAQuTu2fQXfJ2xs+S5WX\n",
       "txO+0C7ms4y2mssrTOs1m5s1RxMMvCUHooZbocaN4Xnqf6u00B2PpQanLB3GGqACZCKrZh3cjupV\n",
       "qaaybGxlNhLncALe5+dae4MJGjrwW+ETX/jqXZvMryfQvEEO0I6Zj5zjDhgk5547qEf5AbpF7Kh4\n",
       "K7VbbLRvTUSADfeTF7PuHTxSFIwA70zxFq1Ff+YoTcN387Nvl6sx5jATD5oK9fEQweBHY3EDpFCA\n",
       "8nsSPc98aVfmrCgQGrR7KCvNe7Q8EYKzgTHbdVjLMIDJcvDfVcZdU6SVAQRzqW7RzPkleV7mRLfG\n",
       "EVOKCWgTTNpK0/JOH0eE8l07kWZIadbw7GdE0TPezo1WupllRJssb5ecykZ4dpkpiQ7z2ECFSkag\n",
       "1G1q9065rr2Vh0jnvKyAzZ8YASTxKLxTmiT0tuv++OEVBZ/7c8BlVlkvC+YaSkf77AYX96NUl919\n",
       "Wz0aBALgwLKrurpo/4D7zjzOzxLmfXZ+VAPZUJ6Q82pHH9smN00nQMfSem06fRbZ8lBW3KL6u4x3\n",
       "MH2udvQ6Jn19tv+QkZ96naQ5Bjyn1rdVr8ZoNdPemFwR+YThogKQav0kbPetKFbUXouVAmFv9n/j\n",
       "CWutHyVqeCptABEfn9EW/5DMIRivKCXVtpYVI48iawvodPLe5fvg4oI1k0LBq2b8KmoUl7mev/nR\n",
       "VmVaJGnHhRloo63T46fqhxuHq6x+MeR7MZhymupF9VJFzsIPPM+sAk8GM9xJjrfRuAE4ADArjcLR\n",
       "vrY+TObP0cAWxc8sAQFky4rCULt4Bn3efUGJRuMDhv4c3dhRH7DgWzHZTVHCsvMa5Qgh/0kY+cVv\n",
       "ujvR5TMteBox6jEcrUHFTxE+TGW0WklZ+bp6qimgAAAChEGbVEnhDyZTAhv//qeEACn5g/7AyWpX\n",
       "f90rYmbfmqimySABO3ofP+aCWboEK0R0Ci3Wxd/Agbel3i2aRLLWG58iSW9P56ehqJKtg5ie4lmh\n",
       "i7a0KOWkTBECbYSrRFgzhQjDk3y1CAHx4QH+p86d4azXglaryJxNWwSrVL5ZEIifqBA9uhjla7aR\n",
       "n9IA9b5Rqb1mHV+putUp2gU3T9r6vW1Ve21L98sTTdaNE+mCB1C0jlfXFDL/diFdym26iNYYky7u\n",
       "gxu3sBxvCPD1tH/JxlhAljHB01h242o0opy9KHhv1Fc+sPvG7OvQI064+/TwE2qqb/bIScJqW/Ft\n",
       "XBwMhceXZ9oJctpsV/1Zus0G61SyEe4YVKdUq04wibxUUEHsNz/3US98iEcN++2JAHUUypauRlRh\n",
       "RLHrhxvxjD11ioTqqGmLPD3NeF2slTh/KDSv+sQvEssCKX1r0OA8NENt7DaN5E4YOjPIjVDoCIpq\n",
       "U6dZHCwkabcJh5hDAkcqQfXbRcCTkU8HPVHg7NQgkoaGbnAJ6oj3f74CaQfhsPsG9tukiDzrhvxk\n",
       "wLdOmV0z3d3qwiLs27dFLy4psGIVol0ejaaVEGffHYKxwBScxfd+FIfueYRKfMfqUIgc0xyINp46\n",
       "X5k15fx+1oTzdNo6ZKKWV+GOn8w2aOzWKjZwr7ArSEJnDKMcJWbpkWc/dQQQptwyvUoBrXSq433U\n",
       "Dpu8o3WNhsEodz6sYsWZ0ETbkfqOrvA2Y24D0Jb6k0I1E1LxWfBAarPc8u1alxLb4aQGpo8J7PAX\n",
       "4gptVz8mezfWobcCHn8Vr9p5jQcIxA3Go7j8VZZqj2J49h+mxnj3H+tg6WBvKJWMSDeGAAACskGb\n",
       "dUnhDyZTAhv//qeEADcxx+AFtIRenu6OddW4oj7lCFh3FYROlna9WPEksO+KZPCnSFHfc9BP6p6t\n",
       "51NRex+PJzw5ntB4vWddCneuqzbYo0TylqjrN/izPpymYIB58vysD2qBQwnHbqW+JTz0unAuJZhD\n",
       "JKkkMgN/RBIcVifjeEcbt8VvxuiJAIvOIcQSdeuJmCAH3sL4jab7Wh7FaHVIJrZp0c8eIYTrTXYE\n",
       "IZwXhY0s79ud8ADnt45ycAKfcL3+MHJgMcj/wSRN8IhgrwsgOFE91NCoIzIc9iiGiIE/AOtqIJjU\n",
       "I8OTIThkmIvUAfMed0RzOXSowNy4II3zHEjqbllmr4CrHxNxh/x4/GrVF011Oh8c0palfE2NOzAR\n",
       "5xWeRtuHtEN97/ROXwqCUNJMJWw68GFa2NW9Ig2TU8TXD5ftHL5fKUtQ2xV4FfDV1txKIzLGBvWE\n",
       "QxqURIRrE70VJ8/JC3U1GrBURFB6yOpkRyMWxvEqk2IRRTKePs4PAv6NQPhInayLfLqUiBOayXkX\n",
       "cdE9zskFRXxxSCgIu3SllkWW2J+TNO/U238cRBvzkKtBA4IWpD8DgdXrjg9FHA2fMqgwraPhIGlf\n",
       "yY5163IU5gteW1b90w4/CesW1SXIED/3+Vu8K/rmZ50MlAwd2ugis9AjcOR0Ia4Lh+jIn34yCRYX\n",
       "DL0tHMr696F3x6R0plC+dHu3Bx6KnuYKGvkVioCmmcRvadWUzbps8A+YqLtnPEqi2AXiryLXc2UG\n",
       "PVaNdkpHWrQktmIjUqCHh+aVDZAcPao5rpORuxj1j07cQGNKYAnUoIVcgvkE2LFomnzCS3mF3H66\n",
       "0bgveBt6H+hiSOXKXs4zMg7gKKFX7rn2rLN7JipxIG2eQsuMgMyCrGUxCROMQaqBtuFyL9A6aW7W\n",
       "xbHxwQAAAqJBm5ZJ4Q8mUwIb//6nhABRtUBUcUOOM/QpZpd4NmeTgv4BGkFfnTeSmVUkUlry3ieQ\n",
       "qBjWfv1dsy4gu7Sov2ghMYcTZwNQvTxtnBaftDAaol4Ob56lRpKJ0p2321258sBAHUYJMxGtq/I6\n",
       "fFx3KY2j84F66z1ZL72kmIkkxPD0kbMUPHViLIXk+726WoPlN1l4qNFOdqZVfbdPoQpEduQBZnwc\n",
       "mt8bzpIni2xEXBhCRF0QP0ipjVivxtZnOO6RSmKxffyl2OfRYpSoRIaPtnvRyxoDmot/RLRcWGGj\n",
       "9/e5+BOkI10aMJx24+faEJXpiIwClYZjOM5FD4gXiYjG2X70x73zfDfdR465MuUWZoqrQdC4iYDN\n",
       "TIE3HYTJAuYUJ7ER8jYyojT0ZY+A450Y75ODW7C5sBIgsf17QcWw52wxSGFCMt3kzvXGTLWZBh1Y\n",
       "C12l/0Zz7MIcDuOn84fKx0ZexzD6XTIwoJK/U/03FOmk5FBCHzy1MRprcu09Bl37ZQEnedlxouhm\n",
       "Be0Gz2Jno0vvBpoXTcjZ6irpI3ZkdDFoBugdGHOIaSCLLGy5Bz4mxFbMYDGg3i3MRHRvDT2lrUg9\n",
       "nNtAjqjVXSkxY7Ig1VA+GmjVSI8TQev0gXfZ1TdRJpcktS9cRWH+YOI2x5Qesa5VpgRFYzF6jSWx\n",
       "bbgnvDGlAUJa0HpgTgWs7mNfSXm0yRE+FNNqFhwCd8h1XJkIf0OArJ3l9UnKdUvLYODVnH/u2H2T\n",
       "eeYzc4HQQziRDD9KHpiH7jU2CRhiCsAdBhuUB9tIf9RlK9TE+TibeCVhoa7jWvJGpVTSmOkj0LmT\n",
       "JfhxEBJonY975f+A+jznNH8CAtAff42FmW4EnaRu3i1N0I8GgQvCIuwOykneJuVoRIoEajR5QAAA\n",
       "AtZBm7dJ4Q8mUwId//6plgAqbHKteFAFBGztnRqMl3mcYr/KjXnX9aqGJvxEWQUeyZ5NTev0YZX9\n",
       "wXOSTQUVYOxFByXrU67TB5SD34MYVTMyNXrsh0P/1dSNKm9ksOA4pVSK/80Xo7fnlrCy9Ur5xpTH\n",
       "hoPZ/B/+Qbu64k4w66Xnz95kmkT1GLwfUPZVA7YkRA4hnmzvPBLjxzrFeF9NRdUfWCStp8vQDn3r\n",
       "o/8EMOMfdco95EAmNG7+x1osH3pE/4IsRHj8w/kfg4K8WZO5kY2yZgEncn9FE8VP7ApphJQsc+de\n",
       "mDG6ZN34YRXItGXSWYKOxpKgt/wL4wmiz9QquDBs7hsbA2mkyxGD+e+4LtxGb6NHD7GKz2S2tOpH\n",
       "y8HjIIsQ+vCiAy1FJEDGApsdua/gYEAfQ5ZWbJ+iuXC2T4S2yaUJA6g7665OxPe1vUmxcL1vD8i6\n",
       "uo8l2yYWYvoocqKsHG+46nrmeZCMwf3jF928o2IcUCnQacfpHQ7+6GBo5IQx8BqfapsDigaDKYrt\n",
       "UW8e0lPJaYZABNMPH1otryrgPMmvzfpLurFedT+4SANHJLunl2YlIfSh8qRh5Ksohl4PSXvGsKTQ\n",
       "4YdK6vJkyR5b12oUMPXkcIOdFwEoghFDJ9Ud8FePTq4eUc9QkZ7gqct62efW2BvzXBg1tyqZvsxC\n",
       "lazco60Qrf63QVgUUjVFmVSOOolGmLVOnv5h26kRnmuGhpLBNI670Eei3BgSzixiyrLb/4t57Ee+\n",
       "Q5ObrxzjibZXgGtW9BD12KkT02s7NWa0iPZhe+xy3LB79+ORpAy/PDjTEI3xsmmiuxyq3iC3Bxll\n",
       "FuEzSq1DZUlAUiHm8G5OQqmeOah/0AkS3fUpGs2ZHV6BjXdFLJFiczr2ROAZNZmpu2vp5841ws7T\n",
       "s4SoB4WLTjtXTFxScHIzhsCs/ur7FP4miRqNXHbVy4SSlEO6kl7YZ5iJqpkAAALBQZvYSeEPJlMC\n",
       "Hf/+qZYAKnmutu4nQAjdda+YLTePj/htRzdgulL/FagqRqcmqGmwzA/7xmA2FfWBqYVsm2rT350e\n",
       "stJnfrva+ULmdF/rBN1mr+9CRygPMsUulgsZFO30Xt6Xo6cwRMJq6s7VRXIyYkDTB/N4yW/QYNO+\n",
       "eEgwrGNIe+UYoCKAg4mn99eR5/N0R87tPFQK+UcumGPKTRZwjAMpsaZ2Oggtn3Lz8GOI6IWUdWqT\n",
       "kMU9QqDboNWMAJgRLRZrif4t3i6cQIZ2kIt+uqn0vLqGsrc1yk+EMHIulFdZNnVLSzqX0tka9pwc\n",
       "uS653BArw60fEWFsCrTO/rG+gMasrwJMIbykcXbV79NGd8qPr9lhWbsqpZ6sYdfZX7nxZEvys2tw\n",
       "FUiAACj8P0JjWrozTfrFRuOTzIvfc53L2hh0DQ4tfRPc7bvMhMnG8Ml/9lCuJDfP5IbWYKYu0P/f\n",
       "B3CSHBx0tdv1yo+WpZI9wik9yOYfxnDnpD9owtIr7aRWyQVaWdOizKAzFiBWEaedKOXnetaaTl1k\n",
       "836BgaD005/2WTdsN7t9jzlcciLiNhZbHdEQSFKw1xn8nTyCU37E58dqfYgamA6zxgAkneo3LXoZ\n",
       "B8JP5UX+IiSL3pjR0lWzGJf6risDS7hAbBSwQGT0fZfbz0h143+s8e0tZRSH+kVGxoE+9nan0KkZ\n",
       "8LkvSFb2eOI7dQC/mG+HXX/LAQppDJr5WTdkvC3V0XZvElE9yA4Ax2ovMOalqypJ691sboo/neKn\n",
       "On7ecr7UZa18naMfefmWyIn5nT2wLhYlWryGd1e+skaISux6iZhAdiTg5PZaYky7mEjcInuDSJSY\n",
       "CNJuZOSAimgX6PvNocXvKy6xi75GeuuU9YH6VYMGnBoZQDShY1nJW4W5gSN6ck9wEVRyap1CPasC\n",
       "9aBx1QAVM7zJBAs7AAAC90Gb/EnhDyZTAh3//qmWADeJs2wVYrjQAtf8pOzIh+G+N0hl7hjX8mva\n",
       "ZzZGZFfzOABhjYYLdr7Oq26Ljda/Z64Lfd8+jUIqYDBEyjgKEiahm68GO8NkIFCSbMUoU01YQsn0\n",
       "vzpX5Ad8SAchpHxFYvXdbWhlkSJBehEDyM62oqFGWC6g4GVTy67gP1mOTEteC6vRsQBTpkZ/xEFC\n",
       "EClpL+jilk2C02+4lVhkmA4cTGFst/nkAucgtagB4SE0mGqXk/Q5Ho8wcE3Jeh41TBU15VZW/XuE\n",
       "J7iEIiHNWTEv1QtaJySowsrYYbYNaFwiHSyBOFRd0fy9fLGB9JRKvuaJTaOF9yhuz3S+W7yRLhqg\n",
       "Q9qnO7fnmIHrW9F3prfwDB2UiOCrPdlgpDCMW2dG4KgPO9YSeVOzsyOZBpWe/FuusLg0BtsyZ4on\n",
       "7hw4OsBjh6zOTyhydB0ZGtv73UTfpUNvaMcegt9WqVHT8GeG8Xxfv/Vde1jragOZiYyfNwWwtvow\n",
       "gdzj89kglj226qk8iH0WSmL1kI92tlxXzBZ6Jlf9tpEs4AexesX+AR5WYwb/Mit4vToO17f1mkqG\n",
       "D+pjRvdkxXmuthmyqdbwij5jwLsh0wDo8ztYjLvoB55LEIF1A/OJExy1fj+3dsfY7f8LQOR2+bQ8\n",
       "rR6j9zKz1nZtPE0C/hwmQUg+pSburtS9/05bCp8m9gNqt9rhRdZvv43MTCef9u9WWjtd4rVmfCfO\n",
       "bZk7VR0muhNjC2EffgPDcvKplXhS5DnRdXmXUOokd99iQ3QErACjBbsAZbCm4uhFzkyoCtLezAfj\n",
       "w8fL5TYoquXbMfGmm3y2Z6amzvy9zrprr/rvGFFaBTt34RohWNQQhFUST6j8CFQm7LbOv+7szyrQ\n",
       "mXIhx/ClF6fbmgdH1f2bnUsyXPJzmmofZNt2ivz5gN4IaM6C2SpOoG0uuHHWl1XOJqbCFKBwGGsM\n",
       "HAH+wGb/wUkgoWO0IzHVefAkD+dqiJzA3fLvry/aaTtbJgAAAOFBnhpFETwz/wBJbiAgrE6ew0fm\n",
       "yptm1VKYXoZwAcDl8y4stIYpZVpcSjiUDDiJnHQAQbyZf+BIYxT5REi6lXnz0hrdNmfV2CTXWgMW\n",
       "niZWupuC2h69bNFQsqrixU8eqbWam/3+D/gdd3SJcEdMwK9yVczL2UXqYian1gbhL+qwHyVNuBdW\n",
       "8x5j1uLCm7vfbBjfIfecu7+MtCTM8Uch3EyI6H0h0Qvs9KbzUC2+LRvmeO7GozQyCsMj3k/hE/vK\n",
       "nqpM9lUpYzR/Apq/90WoDD5/doketZxYbGvj04GX498exI0AAACtAZ45dEK/AIL4vDStscDOrIR9\n",
       "9OEitZNrZq5HzoUzOOLTmBH3V5wxUjWxlcsh4bp90hxLJJWKzDGVp4zOpd+usP/0J0g2Hfu/CuTQ\n",
       "ueE0gLMfMp+c31CjS7lV/AfHFuPoypzUUz7wBxeXwP0UILgaEMDzW+GL7/Ac44eRsY7cAAtI86kB\n",
       "n0/hA1hoa6xr1QBOVdsD1iPPu0oGWHsFYxS+A5DQRxGzlDibygRezx0AAACFAZ47akK/AIbrx0yX\n",
       "zTM/rdDlRDaNS2OZJkIUwDXcfDhlwmtHJnWkcYvLisBPAZoIXtKGRzoEnXhEoA+Hlw4aMWxJDeO7\n",
       "j5JOLh5LNufa3dWC/wolgrv6Z7sfJyXcswAtG1JqXJ/LEBTwXqmuyRX9Pmw0mOTp8c13wC1WbecA\n",
       "mDxZeLtqYQAAAItBmj9JqEFomUwIb//+p4QAbm1DaZUoRoASoc4Pquriev3mRV4RITmIo9yoBry6\n",
       "3p6ek3MrT8AaSg5KNEBuGRlnPPR0aWpGCud77F5hCIjDGlNpDOdFyew8Jkma6B4WPlPrqyC89cnS\n",
       "tvB7eR7QNQSr5F2dQl/vUZfu0TWX2iu2/oealp9EPzV621gxAAAAYkGeXUURLC//AGSiJJRyGZtr\n",
       "uAJqQur3VSwQdfRnrfzOOe/WMkJyoyxtFiMmqIEO6QSZx0gP4VZlouJR94UdpRr33KbfS8WJdQFR\n",
       "89Dk7KSEjHF1Mq2Mj1HaSyxYnAicCmi4AAAAYQGefmpCvwCG7BVdaNx72JBv+dj94G7WnEOZ7rxj\n",
       "hX/jJU5qSyP9/FNlx7aUpsgPc04Cttl8vrXlhbX3wMtMtl+SJTqFRQT6wy8bYG0FgOPcr/6Pj49f\n",
       "ZgLmC47yxyI3AyYAAAFQQZpgSahBbJlMCG///qeEAG5Nd7on2PvHK+IR5SYVw2PgAHGHoseTCzWs\n",
       "wQ9/td7sonIGgG/8dMbEPO3Na4zuvaX4mm2WIx4J9MvJxKSz8rAi+aY+6S9cz1Jp3DlFYTe+pCPT\n",
       "L87bSrffhw7CVTRS/NlOC9HMrIjf2Gktqt9kqVv7L91l1CT4dko0g58+Ldy7aWprenerWXXmzHPv\n",
       "Wsgr4/zSfgO1UblcMI6FNnTU2X805l1rkgmFuObTCzbZtWRJ/YlEe9l1KCO1vMBbhe7GoODKcPlY\n",
       "vRAjpyReOQ8ykLCxf+VE3PG/HBS135jHzgWP2ctwz/OLzk3BP1hfUd+ixcAB3KVzNAok8J8P3FuL\n",
       "WLFTws0R7cOzrDIJklVi5G9r/1dm+IN78C+mHRDmvUDrH3pHIwjTmd7xrLb/Mloc/rauZjbQ7YJk\n",
       "AaGB/btyKCHRAAABUUGagUnhClJlMCG//qeEAFPsOtegBAcR/LgX/t5w2zTQ8g0KJMfAmUywdqJW\n",
       "GZEMzGHF83OorpoQb3JIlkoiSjIWdzrNau6eCohTHPoWJ4d1hYK7I/VYYjZt6H4x2HghBCnu7mYF\n",
       "DeAxmJSb/6/Wm5VANsl1JkFEqjB6+4gB2Mqt4CdkdV2POEIIEqsp+Pv3FGCYbp4K12yALCrQluzf\n",
       "z4CwUPwbSbbHYedJghAqjp9ojFOn9LT4Eg1+AUnn0FHUqdGxq40QTr38C+7A8vJj3kQKMLqCaMfU\n",
       "/HFsd6atlHPpviWGaHdIaLLpw+HlUkaAAAADAPGXWcKFRPsfbxgHyIxzW6AfX+gP2VsO73KMM6AE\n",
       "8p/4k2lmg1xUgeipxuMMYqDb3C+AY6odEShnh/Bz1WOdDkFapO5F90TjSbdofweifBXsoRmuQpt6\n",
       "sHtWd53jylcAAAGJQZqiSeEOiZTAhv/+p4QAU+POadXAT2n2cNwxwA1FmxAXwDlOs+9Y6qG0vA6I\n",
       "RvIDBMfDjmB7Hh9FgWR9NiNnFRrj7xupZEN0hJpPfg42OT73cGVZXhiQ6j08TNc6KBQKpvgn+ae4\n",
       "dJvwfoeigJVPkdKPkGtwCnKmsvWyPIW2ReXB62mf3J8ogLMr/cedlhB5/g9W2U5WnHYUGVR62nks\n",
       "p+COUUM5W5ed/Gt/Xh0925CQkdz3Iv3RZRfM7PUS7nCkTwHo+YrdFez9/LeiPsxlxVWF4Ow7w+6B\n",
       "gaJhx4BNBJDC7NYfRRQlVAPjMrI31WckSDwuTlVhh+f6N1paje3g+sKaPifqjw8Yayo+g0VnASSq\n",
       "zR4yOqGi1kcHXaP54FFu92HppoLmLEZTDfu4VIAiYxOJx8r1W3OUpC8D/g/qDJvoCMlEcJ8BWdRr\n",
       "OUFOa5MlrtREa2aivVHNvtxUEhLJgnWhecHoyOlPZEL3W62AmGCdtz3JtnZ6kUaxNOVKzL4KzqcM\n",
       "FOiHoHChAAACMUGaxEnhDyZTBRE8N//+p4QAVH6O/dcIjDDCGrE/G8NKPFgA7S03XTDLXIY6H75F\n",
       "V/MW6PfA1CW9CdGueqf+XJ25epwxxDwOlnGIlI0LdAlh9BbGvsHAvalJtVdQIOSThzMO9arTouxf\n",
       "5ZVe2fCSk5fzKso4nDMJADlCPdnJ75srCYPrJ371xrjC3kfAWQMGTgtY7wNbvWrvWzApEB1j2RHP\n",
       "oCnRuuAMZwzQKmlWvSAMnhuGb76eDkR9ABAd4OfSZudSzmj41cpMqTwR5bpTLoWFY3SOeGEP4RO7\n",
       "J88M7OWv8qAhiLOIoYaeXEtmMnS1K9qnPNVg9q4LC0Mm4PubrsN8yCIwEGg6gdvAY/4dBMe9DrPh\n",
       "DGXvVLqfYv9p8GvyDykjyeJIcXs+wH7q7BwtyfaDFtvU1O4uCrcmILAB0FA9iB7DgpVf1Bna0xMJ\n",
       "yVYFCQ80Umtgxy9gGZ49D/PXGfmR2DYJl3RgA/QrpfiUqu6mJdpoMai+enoHHgwgfK4mWFNutIrO\n",
       "7fPRfVgDcmxIKuYvaUy+fo6lf4SvJNzYbIS9+v8778QqwmnJk+rEAggTfXyguyZ13DdFISYrFhgx\n",
       "ee7xCu7uMMhauBydMW3DJQVjRpI1du+uQE4seduLD2nC+KCAwR5w9s/Gloj5oEmllxuL1B6J/E2r\n",
       "4ZhTj47hBJ/6ulqoMXhitYqjzJifCjHeneHNBfn90Je5jb/OQ+k1VSL75GlDnvkJE/uRvdLQgXzF\n",
       "9AAAANcBnuNqQr8AQ2QnJhZGwzMGtXoAJxrTgeFQOT2Qom28du52ykCImAqb/+B60wCyIYjmUHGy\n",
       "7y320olGJA4L3EnftKQ+Coplfe33ATKMLD1LTa6alQK717MmKH/3Kel2QYP9AfBn+aoBGyhfnBrm\n",
       "+HREMcyqMZQgBcYx/JghR0RSaMYc7wzn0NMo/Qay8vFQfaqPBSb5WyCZVMVx6zAI/5Kv/MW/Es4f\n",
       "mdg6Xn5bvolTjhsRvtceunHOCiaMlssPuv9w28sPNYm/qbWjgPl4EfxCCwDUeZqsoQAAAiBBmuZJ\n",
       "4Q8mUwU8M//+nhAA2AhjUSgBLVjH2xtDJsC/q3NQIdQAnepZx+GlczIBuNT/ToNbSBLSy/hFO4Qw\n",
       "WWSVBaA1M7PVePq8fr1Td3HNWU1uKeWV+Bct5wEnLYTORc4IqEyRduONLPePJ8bmr9yFzGsq0vq8\n",
       "MiPNdKoKOeUL+E0/IxjGyfqIN3tWOQSL91e6lqtgL9XVsdWLcqH7CcCsx6ouXTip9tAl83WqRsQx\n",
       "Vtbxxdo26LlDN5t/qDoA99CVyqsk0fp9BmfOWahclOqv6sRSgjyKs3M/3X6AwkxZ9tMRa1dq1r21\n",
       "jXCP9RwiTWi8LxiTVVfUL0mf6sphsE5Jc9/lZZx1DJFahJiQDTdzkEbHRj0E3kqYAZFuEXsWlo4C\n",
       "lU5LPsyPXtklcWO+pmwoLdq3GrhjUQnniRDQZVgtxOGz4LyIaXAIulKNvQ499X++4LpQv5szSTgn\n",
       "LxBLoo6esKv6EPlGZFviD2r4gIF1/2wx8RUR/Osfv1I9X/Nadv4D+Tfed5mmu4oU00uCwgrUEkd5\n",
       "jh5zKR9Zxfy2IG9eEdpYC/RfKL6bWY0DME1zD9aTrzvMFaeImJpXC5u6ab7s0aop7GFlaaPeMKkd\n",
       "mrXZVBLPjlsDWxdHxUQqX3G1B+A3jPAVa3f+mx5GRdi/bpJvnb42xSiE/o1LiIM+geqbyeQfJIoD\n",
       "ltBfA53Hj2eM+EDhCM+8oSlpYru5SqABPaXdAAAA4wGfBWpCvwAtbVDnoa4ZsRYFqeVuFn8PTA1l\n",
       "WvNasPOcZqz/dOkX6bhI6afK28LScdfqF8Ikdx1H9Sxf84AR33cQmoDhHZ40nARHvelK654sZyOE\n",
       "bLK7CT8Kl+hVx6p2NkoW6EQQoX+unvZfr+ALpVuaGRgeJuWqNQxbFT0UYlf77G6sjCZO8yGgW/k0\n",
       "+bULvHsaBs0PJCH5Xl68vWKWs0C54DAtMDRyir3nehnDqiJ2waK5lHM3C1NXrfb5DcuGDJdhweKm\n",
       "ynPcpajQjZhp5y5rE6U/taIR9sRg6GijiY0mrEv5AAABYkGbB0nhDyZTAhX//jhAAm3wRL5O7FxR\n",
       "GMo8u0bKsYRtZ4AJOLMuspA8CqHAFmLkaLC8fSeVpRMdN436H3hkS7TVkg2r8KyiFD0eO2WDJHZI\n",
       "OQamKPcIERE3AokXxPxw7YdAf1Z2s6yzmLtMSVZfwXBXmlPDZOlORw0y6BC7UubhmnigOyR0T9HG\n",
       "gPp4iuyB0QVIb87yB9hWfEZH0Cddm0m5oLPBCr+H6/0if31oxbDDhzjb7IJVL18Ndu6c8qRjP44m\n",
       "zP6y88thI+iNhNyh+/I5Y9H6bqH87wC1Y3Vg/ubEEfQOuSmdjOz+BITE3db8Xxmz/aCSDNytHs9G\n",
       "p6IXIgV7q7K5S2RWGBolvEr2QZeLKx53AEl3O5L/cCcZqHodOtceqJsdjcPNORRYTDAadmDCnKTh\n",
       "F8HIVJndE0NqS0nS9L1hoQ8VxzhXhb83380ixEL99zBv48xsYGIm1fQTO16pYwAACgptb292AAAA\n",
       "bG12aGQAAAAAAAAAAAAAAAAAAAPoAAAnEAABAAABAAAAAAAAAAAAAAAAAQAAAAAAAAAAAAAAAAAA\n",
       "AAEAAAAAAAAAAAAAAAAAAEAAAAAAAAAAAAAAAAAAAAAAAAAAAAAAAAAAAAAAAAACAAAJNHRyYWsA\n",
       "AABcdGtoZAAAAAMAAAAAAAAAAAAAAAEAAAAAAAAnEAAAAAAAAAAAAAAAAAAAAAAAAQAAAAAAAAAA\n",
       "AAAAAAAAAAEAAAAAAAAAAAAAAAAAAEAAAAABsAAAASAAAAAAACRlZHRzAAAAHGVsc3QAAAAAAAAA\n",
       "AQAAJxAAAAQAAAEAAAAACKxtZGlhAAAAIG1kaGQAAAAAAAAAAAAAAAAAACgAAAGQAFXEAAAAAAAt\n",
       "aGRscgAAAAAAAAAAdmlkZQAAAAAAAAAAAAAAAFZpZGVvSGFuZGxlcgAAAAhXbWluZgAAABR2bWhk\n",
       "AAAAAQAAAAAAAAAAAAAAJGRpbmYAAAAcZHJlZgAAAAAAAAABAAAADHVybCAAAAABAAAIF3N0YmwA\n",
       "AAC3c3RzZAAAAAAAAAABAAAAp2F2YzEAAAAAAAAAAQAAAAAAAAAAAAAAAAAAAAABsAEgAEgAAABI\n",
       "AAAAAAAAAAEAAAAAAAAAAAAAAAAAAAAAAAAAAAAAAAAAAAAAAAAAAAAY//8AAAA1YXZjQwFkABX/\n",
       "4QAYZ2QAFazZQbCWhAAAAwAEAAADAKA8WLZYAQAGaOvjyyLA/fj4AAAAABx1dWlka2hA8l8kT8W6\n",
       "OaUbzwMj8wAAAAAAAAAYc3R0cwAAAAAAAAABAAAAyAAAAgAAAAAUc3RzcwAAAAAAAAABAAAAAQAA\n",
       "A8hjdHRzAAAAAAAAAHcAAAABAAAEAAAAAAEAAAYAAAAAAQAAAgAAAAABAAAGAAAAAAEAAAIAAAAA\n",
       "AQAABgAAAAABAAACAAAAAAEAAAYAAAAAAQAAAgAAAAABAAAEAAAAAAEAAAYAAAAAAQAAAgAAAAAB\n",
       "AAAGAAAAAAEAAAIAAAAAAQAACAAAAAACAAACAAAAAAkAAAQAAAAAAQAABgAAAAABAAACAAAAAAEA\n",
       "AAoAAAAAAQAABAAAAAABAAAAAAAAAAEAAAIAAAAAAQAACAAAAAACAAACAAAAAAEAAAQAAAAAAQAA\n",
       "BgAAAAABAAACAAAAAAYAAAQAAAAAAQAACAAAAAACAAACAAAAAAIAAAQAAAAAAQAACAAAAAACAAAC\n",
       "AAAAAAcAAAQAAAAAAQAACAAAAAACAAACAAAAAAEAAAQAAAAAAQAABgAAAAABAAACAAAAAAIAAAQA\n",
       "AAAAAQAABgAAAAABAAACAAAAAAUAAAQAAAAAAQAABgAAAAABAAACAAAAAAEAAAQAAAAAAQAABgAA\n",
       "AAABAAACAAAAAAYAAAQAAAAAAQAABgAAAAABAAACAAAAAAMAAAQAAAAAAQAABgAAAAABAAACAAAA\n",
       "AAEAAAoAAAAAAQAABAAAAAABAAAAAAAAAAEAAAIAAAAAAQAABgAAAAABAAACAAAAAAEAAAQAAAAA\n",
       "AQAACAAAAAACAAACAAAAAAUAAAQAAAAAAQAACAAAAAACAAACAAAAAAwAAAQAAAAAAQAACgAAAAAB\n",
       "AAAEAAAAAAEAAAAAAAAAAQAAAgAAAAABAAAKAAAAAAEAAAQAAAAAAQAAAAAAAAABAAACAAAAAAIA\n",
       "AAQAAAAAAQAABgAAAAABAAACAAAAAAMAAAQAAAAAAQAABgAAAAABAAACAAAAAAEAAAoAAAAAAQAA\n",
       "BAAAAAABAAAAAAAAAAEAAAIAAAAACgAABAAAAAABAAAGAAAAAAEAAAIAAAAAAQAABgAAAAABAAAC\n",
       "AAAAAAEAAAYAAAAAAQAAAgAAAAABAAAKAAAAAAEAAAQAAAAAAQAAAAAAAAABAAACAAAAAAEAAAQA\n",
       "AAAAAQAABgAAAAABAAACAAAAAAQAAAQAAAAAAQAACAAAAAACAAACAAAAAAEAAAQAAAAAAQAACAAA\n",
       "AAACAAACAAAAAAgAAAQAAAAAAQAACgAAAAABAAAEAAAAAAEAAAAAAAAAAQAAAgAAAAABAAAIAAAA\n",
       "AAIAAAIAAAAAAwAABAAAAAABAAAGAAAAAAEAAAIAAAAAAQAABgAAAAABAAACAAAAAAEAAAQAAAAA\n",
       "HHN0c2MAAAAAAAAAAQAAAAEAAADIAAAAAQAAAzRzdHN6AAAAAAAAAAAAAADIAAATpwAAAeIAAACA\n",
       "AAABawAAAJ0AAAIMAAAAygAAAhEAAADTAAABlwAAAl0AAAECAAACigAAAQ8AAAHVAAABxQAAAVEA\n",
       "AAKtAAACkQAAArEAAALNAAADFQAAApkAAAJ8AAACxgAAAtoAAANyAAAA4gAAApUAAADUAAAAqQAA\n",
       "AIgAAAEEAAAAZAAAAHoAAAFIAAAB7gAAANsAAAG5AAABnwAAAe8AAAGxAAABvAAAAfUAAAMCAAAB\n",
       "lgAAAUQAAAFqAAACVgAABM8AAAIOAAABcwAAAtkAAAKlAAAChwAAAqYAAAJ/AAAC2wAAAsAAAALM\n",
       "AAAAyQAAAKsAAAFSAAAAsAAAAHMAAAD0AAAA+QAAAbcAAAC3AAABlgAAAVoAAAG0AAABvgAAAdwA\n",
       "AALgAAABFwAAAdcAAAIWAAABZwAAAkQAAAJlAAACkAAAApAAAAKgAAACzwAAA/YAAAELAAACpgAA\n",
       "AsMAAAKSAAADIwAAANMAAAHyAAAAxAAAAJIAAABuAAABRQAAAJ0AAAFxAAACMQAAAO0AAADtAAAB\n",
       "tQAAAe4AAAHBAAAB3wAAAbkAAALhAAABzgAAAZAAAAFUAAACeQAAAngAAALbAAAC3wAAAvMAAALF\n",
       "AAACiAAAAqcAAAKaAAACvAAAAqUAAANSAAABAwAAAMgAAACTAAABUQAAALsAAAB7AAAAlgAAAXYA\n",
       "AAFpAAAB/gAAAOkAAAHRAAABkAAAAcQAAAJTAAABMAAAApYAAAK5AAABTwAAAUkAAAJPAAACpgAA\n",
       "ApMAAALfAAACsgAAAroAAALKAAACjQAAAusAAAI+AAACqwAAALEAAAI3AAAAlQAAAK8AAAB2AAAB\n",
       "pwAAALQAAABqAAAAtQAAAeEAAAIgAAAA/wAAAdsAAAHhAAACFAAAAdoAAAKcAAABnAAAAYsAAAGr\n",
       "AAAE8gAAAhQAAAFWAAACqwAAAwIAAAK6AAACiAAAArYAAAKmAAAC2gAAAsUAAAL7AAAA5QAAALEA\n",
       "AACJAAAAjwAAAGYAAABlAAABVAAAAVUAAAGNAAACNQAAANsAAAIkAAAA5wAAAWYAAAAUc3RjbwAA\n",
       "AAAAAAABAAAAMAAAAGJ1ZHRhAAAAWm1ldGEAAAAAAAAAIWhkbHIAAAAAAAAAAG1kaXJhcHBsAAAA\n",
       "AAAAAAAAAAAALWlsc3QAAAAlqXRvbwAAAB1kYXRhAAAAAQAAAABMYXZmNTguNDUuMTAw\n",
       "\">\n",
       "  Your browser does not support the video tag.\n",
       "</video>"
      ],
      "text/plain": [
       "<IPython.core.display.HTML object>"
      ]
     },
     "execution_count": 42,
     "metadata": {},
     "output_type": "execute_result"
    }
   ],
   "source": [
    "from IPython.display import HTML\n",
    "HTML(anim.to_html5_video())         # NECESARIO INSTALAR LA LIBRERIA (ffmpeg)-----> (conda install -c conda-forge ffmpeg)"
   ]
  },
  {
   "cell_type": "code",
   "execution_count": 43,
   "metadata": {
    "id": "v7_iC9jhLTOI"
   },
   "outputs": [],
   "source": [
    "import matplotlib.animation as animation\n",
    "writergif = animation.PillowWriter(fps=30) \n",
    "anim.save('animación.gif', writer=writergif)"
   ]
  },
  {
   "cell_type": "markdown",
   "metadata": {
    "id": "-sWEGTQC-7GS"
   },
   "source": [
    "### Problema de aplicación:"
   ]
  },
  {
   "cell_type": "markdown",
   "metadata": {
    "id": "ehwaInmy-7GT"
   },
   "source": [
    "El Hamiltoniano de la partícula es: \n",
    "\n",
    "$$\\hat{H}=\\frac{\\hat{p}^2}{2m}-\\frac{1}{2}m\\omega^2\\hat{x}^2$$\n",
    "\n",
    "donde $\\omega=\\sqrt{\\frac{k}{m}}$ y $\\hat{p}=-i\\hbar \\frac{\\partial}{\\partial x}$."
   ]
  },
  {
   "cell_type": "markdown",
   "metadata": {
    "id": "N4Kf8fH5-7GT"
   },
   "source": [
    "tiene tres parámetros dimensionales relevantes, m, ω y ℏ, (es decir, $[m] = [M]$, $[ω] = [T^{−1}]$ y $[ℏ] = [ML^2T^{−1}]$ son todos algebraicamente independientes) entonces tienes un sistema rígido, en el sentido del teorema de Buckingham Pi: dos copias cualesquiera del problema compartirán el mismo comportamiento, y serán idénticas hasta una re-escala . "
   ]
  },
  {
   "cell_type": "markdown",
   "metadata": {
    "id": "CoO_CbyL-7GT"
   },
   "source": [
    "Por lo que utilizamos el hamiltoniano adimensionalizado, escalando las unidades de energía en $\\hbar \\omega$, momentos en $\\sqrt{\\hbar m\\omega}$ y las posiciones en $\\sqrt{\\hbar/(m\\omega)}$:\n",
    "\n",
    "$$\\hat{H}=\\frac{1}{2}\\hat{x}^2-\\frac{1}{2}\\frac{d^2}{dx^2}$$"
   ]
  },
  {
   "cell_type": "markdown",
   "metadata": {
    "id": "Df8JlGf2-7GT"
   },
   "source": [
    "Introducimos en la ecuación de Schrödinger:"
   ]
  },
  {
   "cell_type": "markdown",
   "metadata": {
    "id": "5UrH_n6B-7GT"
   },
   "source": [
    "$$\\hat{H}\\left| \\psi \\right\\rangle = E\\left| \\psi \\right\\rangle$$"
   ]
  },
  {
   "cell_type": "markdown",
   "metadata": {
    "id": "gP7ZiOk9-7GT"
   },
   "source": [
    "$$\\left(\\frac{1}{2}\\hat{x}^2-\\frac{1}{2}\\frac{d^2}{dx^2}\\right) \\left| \\psi \\right\\rangle = E \\left| \\psi \\right\\rangle $$"
   ]
  },
  {
   "cell_type": "markdown",
   "metadata": {
    "id": "ztj4_B4r-7GT"
   },
   "source": [
    "Proyectamos las soluciones de las funciones de onda en el espacio de posiciones: $\\langle x|\\psi\\rangle = \\psi(x)$ [3]"
   ]
  },
  {
   "cell_type": "markdown",
   "metadata": {
    "id": "xBXlFjOh-7GU"
   },
   "source": [
    "$$\\psi_n(x)=\\frac{1}{\\sqrt{2^n n!}}\\pi^{-1/4}exp(-x^2/2)H_n(x)$$\n",
    "$$E_n=n+\\frac{1}{2}$$"
   ]
  },
  {
   "cell_type": "markdown",
   "metadata": {
    "id": "u8SseCZi-7GU"
   },
   "source": [
    "Polinomio de Hermite: (Fórmula de recurrencia)\n",
    "\n",
    "$$H_{n+1}(y)=2yH_n(y)-2nH_{n-1}(y)$$"
   ]
  },
  {
   "cell_type": "code",
   "execution_count": 44,
   "metadata": {
    "id": "VvtaGX6T-7GW"
   },
   "outputs": [],
   "source": [
    "def hermite(x2,n):\n",
    "    if n==0:\n",
    "        return 1\n",
    "    elif n==1:\n",
    "        return 2*x2\n",
    "    else:\n",
    "        return 2*x2*hermite(x2,n-1)-2*(n-1)*hermite(x2,n-2)"
   ]
  },
  {
   "cell_type": "code",
   "execution_count": 45,
   "metadata": {
    "id": "cmjJiMNw-7GW"
   },
   "outputs": [],
   "source": [
    "def nat_q_osc(x,n):\n",
    "    return(np.sqrt(1/(2**n*factorial(n)))*np.pi**(-1/4)*np.exp(-x**2/2)*hermite(x,n))"
   ]
  },
  {
   "cell_type": "code",
   "execution_count": 46,
   "metadata": {
    "id": "6RFWfAa5-7GW"
   },
   "outputs": [],
   "source": [
    "plt.rcParams[\"figure.figsize\"] = (15,5)"
   ]
  },
  {
   "cell_type": "code",
   "execution_count": 47,
   "metadata": {
    "id": "A8XYuRHCNqY0"
   },
   "outputs": [],
   "source": [
    "#plt.style.use('default')"
   ]
  },
  {
   "cell_type": "code",
   "execution_count": 48,
   "metadata": {
    "colab": {
     "base_uri": "https://localhost:8080/",
     "height": 277
    },
    "id": "G-NA4R5x-7GX",
    "outputId": "c1a85af8-e920-43d5-9fa1-de6893c45439"
   },
   "outputs": [
    {
     "data": {
      "text/plain": [
       "Text(0.5, 0, 'posición')"
      ]
     },
     "execution_count": 48,
     "metadata": {},
     "output_type": "execute_result"
    },
    {
     "data": {
      "image/png": "[encoded data removed]",
      "text/plain": [
       "<Figure size 1080x360 with 1 Axes>"
      ]
     },
     "metadata": {
      "needs_background": "light"
     },
     "output_type": "display_data"
    }
   ],
   "source": [
    "n=5\n",
    "xx3=np.linspace(-5,5,100)\n",
    "yy3=nat_q_osc(xx3,n)\n",
    "plt.plot(xx3,yy3)\n",
    "plt.ylabel('función de onda')\n",
    "plt.xlabel('posición')\n",
    "#plt.plot(xx3,amp_yy3)"
   ]
  },
  {
   "cell_type": "code",
   "execution_count": 49,
   "metadata": {
    "colab": {
     "base_uri": "https://localhost:8080/"
    },
    "id": "4O0FJ6t--7GX",
    "outputId": "a4e64411-35f1-4c3e-8143-82a5a53e7d8a"
   },
   "outputs": [
    {
     "name": "stdout",
     "output_type": "stream",
     "text": [
      "Energía par   a n=5: 5.5\n"
     ]
    }
   ],
   "source": [
    "E_n=n+0.5\n",
    "print('Energía par   a n={}: {}'.format(n,E_n))"
   ]
  },
  {
   "cell_type": "code",
   "execution_count": 50,
   "metadata": {
    "colab": {
     "base_uri": "https://localhost:8080/",
     "height": 286
    },
    "id": "9ZGWUS-7-7GX",
    "outputId": "3b86fa71-6fb0-4102-cae4-3c3cd505329c",
    "scrolled": true
   },
   "outputs": [
    {
     "data": {
      "text/plain": [
       "Text(0.5, 1.0, '$|ψ(x,t=1)|^2, n=5$')"
      ]
     },
     "execution_count": 50,
     "metadata": {},
     "output_type": "execute_result"
    },
    {
     "data": {
      "image/png": "[encoded data removed]",
      "text/plain": [
       "<Figure size 1080x360 with 1 Axes>"
      ]
     },
     "metadata": {
      "needs_background": "light"
     },
     "output_type": "display_data"
    }
   ],
   "source": [
    "yy2=nat_q_osc(xx3,n)*np.conjugate(nat_q_osc(xx3,n))\n",
    "plt.plot(xx3,yy2)\n",
    "plt.title('$|ψ(x,t=1)|^2, n=5$')"
   ]
  },
  {
   "cell_type": "code",
   "execution_count": 51,
   "metadata": {
    "colab": {
     "base_uri": "https://localhost:8080/",
     "height": 286
    },
    "id": "YkxqthsV-7GX",
    "outputId": "dd96e0e8-b653-4f14-971e-e6bbffae6d31",
    "scrolled": true
   },
   "outputs": [
    {
     "data": {
      "text/plain": [
       "Text(0.5, 1.0, 'Probabilidad total= $\\\\int \\\\psi^*(x,n)\\\\psi(x,n)$')"
      ]
     },
     "execution_count": 51,
     "metadata": {},
     "output_type": "execute_result"
    },
    {
     "data": {
      "image/png": "[encoded data removed]",
      "text/plain": [
       "<Figure size 1080x360 with 1 Axes>"
      ]
     },
     "metadata": {
      "needs_background": "light"
     },
     "output_type": "display_data"
    }
   ],
   "source": [
    "plt.fill_between(xx3,yy3,alpha=0.30,color='g')\n",
    "plt.title('Probabilidad total= $\\int \\psi^*(x,n)\\psi(x,n)$')"
   ]
  },
  {
   "cell_type": "markdown",
   "metadata": {
    "id": "zpqGjm0e-7GY"
   },
   "source": [
    "Condición de normalización:\n",
    "\n",
    "$$P_{a\\leq x\\leq b}=\\int_{a}^b |\\psi (x,t=1)|^2dx = 1$$ \n",
    "\n",
    "Donde $[a,b]$ es el dominio espacial"
   ]
  },
  {
   "cell_type": "code",
   "execution_count": 52,
   "metadata": {
    "colab": {
     "base_uri": "https://localhost:8080/"
    },
    "id": "cKAl4z5F-7GY",
    "outputId": "5b914162-1cf9-4478-a964-5bef687985f4"
   },
   "outputs": [
    {
     "data": {
      "text/plain": [
       "0.9899965912926796"
      ]
     },
     "execution_count": 52,
     "metadata": {},
     "output_type": "execute_result"
    }
   ],
   "source": [
    "#El área  bajo la curva por regla del trapecio\n",
    "np.trapz(yy2,dx=0.1)"
   ]
  },
  {
   "cell_type": "markdown",
   "metadata": {
    "id": "n7g8VWAS-7GY"
   },
   "source": [
    "## 4. Errores"
   ]
  },
  {
   "cell_type": "markdown",
   "metadata": {
    "id": "O6W0mQjk-7GY"
   },
   "source": [
    "Sean $x$ y $\\bar{x}$ un número y su valor aproximado.\n",
    "\n",
    "Error absoluto:\n",
    "\n",
    "$$e=x-\\bar{x}$$\n",
    "\n",
    "Error relativo $(x≠0)$:\n",
    "\n",
    "$$e_r=\\frac{x-\\bar{x}}{x}$$\n",
    "\n",
    "Error relativo porcentual:\n",
    "\n",
    "$$e_r \\%=e_r100$$\n",
    "\n"
   ]
  },
  {
   "cell_type": "markdown",
   "metadata": {
    "id": "1dpIpPXU-7GZ"
   },
   "source": [
    "Ejemplo:\n",
    "\n",
    "Se tiene una barra de oro de 1kg (idóneamente),  sin embargo la balanza nos muestra 1,034 kg"
   ]
  },
  {
   "cell_type": "code",
   "execution_count": 53,
   "metadata": {
    "colab": {
     "base_uri": "https://localhost:8080/"
    },
    "id": "wxAk22eO-7GZ",
    "outputId": "29736876-45c8-497c-8e1a-e0b20d1444da"
   },
   "outputs": [
    {
     "data": {
      "text/plain": [
       "-0.03400000000000003"
      ]
     },
     "execution_count": 53,
     "metadata": {},
     "output_type": "execute_result"
    }
   ],
   "source": [
    "x_real=1.034\n",
    "x_exacto=1\n",
    "e_abs= x_exacto-x_real\n",
    "e_abs"
   ]
  },
  {
   "cell_type": "code",
   "execution_count": 54,
   "metadata": {
    "colab": {
     "base_uri": "https://localhost:8080/"
    },
    "id": "Kn4fXgyR-7GZ",
    "outputId": "27e9e702-deb2-4d0f-c21d-1e15377a6cec"
   },
   "outputs": [
    {
     "data": {
      "text/plain": [
       "(50,)"
      ]
     },
     "execution_count": 54,
     "metadata": {},
     "output_type": "execute_result"
    }
   ],
   "source": [
    "x.shape"
   ]
  },
  {
   "cell_type": "code",
   "execution_count": 55,
   "metadata": {
    "colab": {
     "base_uri": "https://localhost:8080/"
    },
    "id": "AWSqN-TR-7GZ",
    "outputId": "38e9d59f-019c-41c6-c894-4fc3eefd8048"
   },
   "outputs": [
    {
     "data": {
      "text/plain": [
       "array([0.95564874, 0.71921283, 0.86058405, 0.51572112, 0.89667077,\n",
       "       0.74751255, 0.07252945, 0.92649997, 0.73571089, 0.53557806,\n",
       "       0.20547822, 0.15100634, 0.51888173, 0.32142002, 0.66924149,\n",
       "       0.27567148, 0.65528704, 0.41186811, 0.25942111, 0.49290828,\n",
       "       0.81463794, 0.17948797, 0.63153183, 0.24631114, 0.48983847,\n",
       "       0.8277628 , 0.87852171, 0.30236354, 0.4647841 , 0.87882171,\n",
       "       0.63758304, 0.57057449, 0.4410656 , 0.58379887, 0.07044819,\n",
       "       0.63595744, 0.8388738 , 0.30255017, 0.09665969, 0.76462009,\n",
       "       0.23957621, 0.53127441, 0.23157585, 0.54768474, 0.90015608,\n",
       "       0.98467447, 0.85178013, 0.83434404, 0.04315824, 0.13488815,\n",
       "       0.41227289, 0.06118506, 0.02359609, 0.06729812, 0.09810424,\n",
       "       0.88268291, 0.64727439, 0.11074254, 0.80309664, 0.36916318,\n",
       "       0.36123281, 0.6128228 , 0.12988985, 0.3077403 , 0.76315575,\n",
       "       0.0367461 , 0.92064601, 0.75582538, 0.02889283, 0.15522024,\n",
       "       0.02007672, 0.85662908, 0.44410148, 0.29364072, 0.73500189,\n",
       "       0.55825002, 0.84285431, 0.90857261, 0.5929052 , 0.57814739,\n",
       "       0.08458249, 0.34229019, 0.83591275, 0.43796658, 0.40433901,\n",
       "       0.77547971, 0.56765336, 0.36586539, 0.39786711, 0.97864847,\n",
       "       0.97144286, 0.13479835, 0.42592245, 0.86930671, 0.48313622,\n",
       "       0.69948176, 0.01734326, 0.74407223, 0.6009932 , 0.58930614])"
      ]
     },
     "execution_count": 55,
     "metadata": {},
     "output_type": "execute_result"
    }
   ],
   "source": [
    "np.random.rand(100,) "
   ]
  },
  {
   "cell_type": "code",
   "execution_count": 56,
   "metadata": {
    "colab": {
     "base_uri": "https://localhost:8080/"
    },
    "id": "TIohM4fh-7GZ",
    "outputId": "d6f141c9-107c-48ce-91cf-e16034660077"
   },
   "outputs": [
    {
     "data": {
      "text/plain": [
       "array([-4.97937095, -4.89328714, -4.80403206, -4.70202567, -4.5922337 ,\n",
       "       -4.4886695 , -4.38910365, -4.29182625, -4.20709767, -4.0793013 ,\n",
       "       -3.97988939, -3.88256799, -3.79755682, -3.68400962, -3.59745485,\n",
       "       -3.49031681, -3.39241493, -3.2816937 , -3.17713863, -3.09451817,\n",
       "       -2.96932758, -2.90330333, -2.77371277, -2.68096758, -2.57911388,\n",
       "       -2.48009799, -2.36866131, -2.27285207, -2.17400453, -2.06231743,\n",
       "       -1.95885987, -1.87208089, -1.75411181, -1.66851842, -1.56239115,\n",
       "       -1.46839512, -1.38015617, -1.25886133, -1.151901  , -1.05820087,\n",
       "       -0.97457738, -0.85328358, -0.75548363, -0.66629022, -0.5510212 ,\n",
       "       -0.47231292, -0.34470012, -0.27621014, -0.16616309, -0.0418857 ,\n",
       "        0.05086135,  0.15286333,  0.24123835,  0.3519732 ,  0.45771835,\n",
       "        0.54147793,  0.6620755 ,  0.75529594,  0.8683698 ,  0.96478776,\n",
       "        1.06755555,  1.16763003,  1.2679864 ,  1.37647433,  1.45178367,\n",
       "        1.58067815,  1.65062765,  1.76483377,  1.87606806,  1.96848556,\n",
       "        2.05390128,  2.17672098,  2.26735151,  2.3632422 ,  2.47903445,\n",
       "        2.5719523 ,  2.69224503,  2.77349231,  2.87831037,  2.97368273,\n",
       "        3.07689819,  3.18354217,  3.27067713,  3.37999465,  3.48880023,\n",
       "        3.59133249,  3.67918705,  3.76130741,  3.8884855 ,  3.99845766,\n",
       "        4.09407394,  4.19258749,  4.29094646,  4.39791969,  4.49492245,\n",
       "        4.60078804,  4.725633  ,  4.8145869 ,  4.90234995,  5.0046815 ])"
      ]
     },
     "execution_count": 56,
     "metadata": {},
     "output_type": "execute_result"
    }
   ],
   "source": [
    "import random\n",
    "random.seed(5)\n",
    "x=np.linspace(-5,5,100)\n",
    "x_pert=x+np.random.randn(100,)/100\n",
    "x_pert"
   ]
  },
  {
   "cell_type": "code",
   "execution_count": 57,
   "metadata": {
    "colab": {
     "base_uri": "https://localhost:8080/",
     "height": 270
    },
    "id": "Cm_BDx3W-7Ga",
    "outputId": "20e862af-b54c-4b81-81c8-f8907b205692"
   },
   "outputs": [
    {
     "data": {
      "text/plain": [
       "<matplotlib.legend.Legend at 0x260ae829400>"
      ]
     },
     "execution_count": 57,
     "metadata": {},
     "output_type": "execute_result"
    },
    {
     "data": {
      "image/png": "[encoded data removed]",
      "text/plain": [
       "<Figure size 1080x360 with 1 Axes>"
      ]
     },
     "metadata": {
      "needs_background": "light"
     },
     "output_type": "display_data"
    }
   ],
   "source": [
    "y_orig=nat_q_osc(x,n)#*q_osc(xx,10)\n",
    "y_pert=nat_q_osc(x_pert,n)\n",
    "plt.plot(x_pert,y_pert)\n",
    "plt.plot(x,y_orig)\n",
    "plt.legend(['Función perturbada','Función Original'])"
   ]
  },
  {
   "cell_type": "code",
   "execution_count": 58,
   "metadata": {
    "colab": {
     "base_uri": "https://localhost:8080/"
    },
    "id": "ftuJPQv2-7Ga",
    "outputId": "4aeeb4ff-8266-498b-8e2d-a46252d4e460",
    "scrolled": true
   },
   "outputs": [
    {
     "data": {
      "text/plain": [
       "array([-3.04507428e-04, -1.16798950e-04,  1.70773331e-04,  1.97896187e-04,\n",
       "       -2.01531561e-04, -4.57394065e-04, -4.63938840e-04, -1.36714652e-04,\n",
       "        2.35517339e-03, -2.32534433e-03, -2.45764163e-03, -1.86077540e-03,\n",
       "        3.31339668e-03, -1.13615796e-03,  5.12358844e-03,  2.63763370e-03,\n",
       "        4.34789822e-03, -5.80141813e-04, -2.28075914e-03,  5.99944588e-03,\n",
       "       -3.50296005e-03,  5.56979609e-03, -1.49320756e-04, -6.58155108e-04,\n",
       "       -1.28440117e-03, -3.29556441e-03,  4.34609042e-03, -1.31289947e-04,\n",
       "       -2.75355690e-03,  1.08358068e-02,  1.39438602e-02, -4.05847712e-03,\n",
       "        1.33335231e-02, -1.32970134e-03,  1.14985563e-03,  1.33340230e-04,\n",
       "        6.95896255e-03, -3.16890602e-03, -1.12525155e-02, -3.25278819e-03,\n",
       "        2.13207357e-02, -7.14702189e-03, -2.37301083e-03,  7.94861375e-03,\n",
       "       -1.63206777e-03, -1.07988184e-03,  5.19572759e-03, -2.20670351e-02,\n",
       "       -1.84188142e-02,  1.23899926e-02,  5.10947178e-04,  1.71669899e-03,\n",
       "       -1.12276584e-02, -8.93776678e-04,  3.02577420e-04,  4.75992281e-03,\n",
       "       -4.45928694e-03,  2.58528978e-03, -1.32923866e-02, -7.39151092e-03,\n",
       "       -9.35206037e-03, -6.84295836e-03, -4.42622236e-03, -5.50285581e-03,\n",
       "        8.94318615e-04,  5.80993490e-03, -1.10516998e-02, -2.83163885e-03,\n",
       "        8.84689408e-03, -1.56164096e-03, -2.17319560e-02,  6.01532771e-03,\n",
       "       -5.68168559e-03, -9.04700330e-03,  2.64580996e-03, -1.48765830e-03,\n",
       "        2.24067407e-03,  1.56543037e-04,  9.97797799e-05,  2.06090105e-03,\n",
       "        1.68632392e-03, -8.42369022e-04,  6.20669190e-03,  1.95223869e-03,\n",
       "       -1.90709499e-03, -2.42594555e-03,  3.06181659e-03,  9.34719600e-03,\n",
       "        1.18145750e-04, -2.06386099e-03, -6.24077716e-04, -1.05461270e-04,\n",
       "        2.46028445e-04, -3.77399304e-04,  1.95214661e-06, -2.57847857e-04,\n",
       "       -1.08117401e-03, -4.60540138e-04, -6.77526627e-05, -6.60322517e-05])"
      ]
     },
     "execution_count": 58,
     "metadata": {},
     "output_type": "execute_result"
    }
   ],
   "source": [
    "e_abs_y= y_pert-y_orig\n",
    "e_abs_y"
   ]
  },
  {
   "cell_type": "code",
   "execution_count": 59,
   "metadata": {
    "colab": {
     "base_uri": "https://localhost:8080/",
     "height": 268
    },
    "id": "09r5T6uk-7Ga",
    "outputId": "3b962430-512d-4e59-d461-275ee9009e6c"
   },
   "outputs": [
    {
     "data": {
      "text/plain": [
       "[<matplotlib.lines.Line2D at 0x260aea09b80>]"
      ]
     },
     "execution_count": 59,
     "metadata": {},
     "output_type": "execute_result"
    },
    {
     "data": {
      "image/png": "[encoded data removed]",
      "text/plain": [
       "<Figure size 1080x360 with 1 Axes>"
      ]
     },
     "metadata": {
      "needs_background": "light"
     },
     "output_type": "display_data"
    }
   ],
   "source": [
    "plt.plot(e_abs_y)"
   ]
  },
  {
   "cell_type": "markdown",
   "metadata": {
    "id": "FGECBA1k-7Ga"
   },
   "source": [
    "En este punto utilizamos el generador de números aleatorios con distribución uniforme en el intervalo de $[0,1]$, esto perturba a la solución de la función de onda sin respetar las condiciones físicas. Un buen ejercicio es controlar esta generación de números aleatorios que respeten la condición de completez, es decir: $\\sum P=1$."
   ]
  },
  {
   "cell_type": "markdown",
   "metadata": {
    "id": "6ucKfX5Q-7Ga"
   },
   "source": [
    "## 5. Recursos útiles\n",
    "\n",
    "* [\"Nondimensionalization of Schrödinger Equation\"](https://physics.stackexchange.com/questions/442923/why-do-we-nondimensionalize-the-schrödinger-equation-when-solving-the-quantum-ha)\n",
    "* [\"Teorema de Buckingham Pi\"](https://en.wikipedia.org/wiki/Buckingham_π_theorem)\n",
    "* David J. Griffiths, 'Introduction to Quantum Mechanics\", Pearson Prentice Hall, Year: 2004, 2nd Ed., Pág. 56\n",
    "* [\"How to Think Like a Computer Scientist\"](https://nbviewer.jupyter.org/github/Yorko/mlcourse.ai/blob/master/jupyter_english/tutorials/merging_dataframes_tutorial_max_palko.ipynb) - Think Python Versión 2.0.17 by Allen Doney. (libro completo [aquí](https://www.greenteapress.com/thinkpython/thinkpython.pdf))\n",
    "* [scipy-lectures.org](http://www.scipy-lectures.org/index.html) — tutorials on pandas, numpy, matplotlib and scikit-learn\n",
    "* https://docs.python.org/3/library/stdtypes.html#printf-style-string-formatting\n",
    "\n",
    "\n",
    "## Donaciones\n",
    "<br>\n",
    "<center>\n",
    "Puedes donar una vez en el siguiente enlace (Ko-Fi):\n",
    "\n",
    "<br>\n",
    "    \n",
    "*Click en la imagen.*\n",
    "\n",
    "<a href=\"https://ko-fi.com/rcrdphysics\">\n",
    "<img src=\"https://habrastorage.org/webt/8r/ml/xf/8rmlxfpdzukegpxa62cxlfvgkqe.png\" width=20% />\n",
    "\n",
    "</center>"
   ]
  }
 ],
 "metadata": {
  "colab": {
   "collapsed_sections": [],
   "name": "Sesión_1.ipynb",
   "provenance": []
  },
  "kernelspec": {
   "display_name": "Python 3",
   "language": "python",
   "name": "python3"
  },
  "language_info": {
   "codemirror_mode": {
    "name": "ipython",
    "version": 3
   },
   "file_extension": ".py",
   "mimetype": "text/x-python",
   "name": "python",
   "nbconvert_exporter": "python",
   "pygments_lexer": "ipython3",
   "version": "3.8.3"
  }
 },
 "nbformat": 4,
 "nbformat_minor": 1
}
